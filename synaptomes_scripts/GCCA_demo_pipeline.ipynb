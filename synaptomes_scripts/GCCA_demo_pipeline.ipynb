{
 "cells": [
  {
   "cell_type": "markdown",
   "metadata": {},
   "source": [
    "# Generalized Canonical Correlation Analysis Demo Pipeline\n",
    "\n",
    "Note, this requires an installation of the [mvlearn](https://mvlearn.netlify.com/) package. For the most up-to-date release do the following (this assumes that git is installed):\n",
    "\n",
    "- `git clone https://github.com/neurodata/mvlearn.git`\n",
    "- `cd mvlearn`\n",
    "- `pip install -e .`"
   ]
  },
  {
   "cell_type": "code",
   "execution_count": 34,
   "metadata": {},
   "outputs": [],
   "source": [
    "import numpy as np\n",
    "from mvlearn.embed.gcca import GCCA\n",
    "from pathlib import Path\n",
    "import pandas as pd\n",
    "import os\n",
    "import re\n",
    "import sys"
   ]
  },
  {
   "cell_type": "code",
   "execution_count": 19,
   "metadata": {},
   "outputs": [],
   "source": [
    "## Returns files that match a query from a folder. Keeps names but not file endings\n",
    "def get_files(path, ftype='csv'):\n",
    "    query = f'.*\\.{ftype}'\n",
    "    files = [f[:-len(ftype)] for f in os.listdir(path) if re.search(query, f)]\n",
    "    return(files)"
   ]
  },
  {
   "cell_type": "code",
   "execution_count": 20,
   "metadata": {},
   "outputs": [],
   "source": [
    "## Reads the data from each file\n",
    "def read_file(path):\n",
    "    return(pd.read_csv(path, header = None).to_numpy())"
   ]
  },
  {
   "cell_type": "code",
   "execution_count": 21,
   "metadata": {},
   "outputs": [],
   "source": [
    "## scree plot cutoff\n",
    "n_elbows=3\n",
    "\n",
    "## Define paths to data\n",
    "basedir = Path('/mnt/ssd3/ronan/data')\n",
    "datadir = basedir / 'raw'\n",
    "\n",
    "savedir = basedir / f'Demo_Gradients'\n",
    "\n",
    "if not os.path.exists(savedir): \n",
    "    os.makedirs(savedir)"
   ]
  },
  {
   "cell_type": "markdown",
   "metadata": {},
   "source": [
    "## Load filenames and raw data"
   ]
  },
  {
   "cell_type": "code",
   "execution_count": 23,
   "metadata": {},
   "outputs": [],
   "source": [
    "ftype = 'csv'\n",
    "filenames = get_files(path=datadir, ftype=ftype)\n",
    "raw_data = [read_file(datadir / f'{name}{ftype}') for name in filenames]    "
   ]
  },
  {
   "cell_type": "code",
   "execution_count": 33,
   "metadata": {},
   "outputs": [
    {
     "name": "stdout",
     "output_type": "stream",
     "text": [
      "Number of subjects is 228\n",
      "Each subject data matrix has 18715 rows (cortical vertices) and 300 columns (timesteps)\n"
     ]
    }
   ],
   "source": [
    "print(f'Number of subjects is {len(raw_data)}')\n",
    "print(f'Each subject data matrix has {raw_data[0].shape[0]} rows (cortical vertices) and {raw_data[0].shape[1]} columns (timesteps)')"
   ]
  },
  {
   "cell_type": "markdown",
   "metadata": {},
   "source": [
    "## Calculate gradients per subject and save them"
   ]
  },
  {
   "cell_type": "code",
   "execution_count": 35,
   "metadata": {},
   "outputs": [
    {
     "name": "stdout",
     "output_type": "stream",
     "text": [
      "Min rank: 4\n"
     ]
    }
   ],
   "source": [
    "## Create GCCA object and fit and transform to the data\n",
    "gcca = GCCA(n_elbows=n_elbows)\n",
    "gradients = gcca.fit_transform(raw_data)\n",
    "\n",
    "print(f'Min rank: {min(gcca.ranks_)}')"
   ]
  },
  {
   "cell_type": "code",
   "execution_count": null,
   "metadata": {},
   "outputs": [],
   "source": [
    "## Save latents to csvs\n",
    "for fname,gradient in zip(filenames, gradients):\n",
    "    save_path = savedir / f'{fname}csv'\n",
    "    np.savetxt(save_path, gradient, delimiter=',')"
   ]
  }
 ],
 "metadata": {
  "kernelspec": {
   "display_name": "mview",
   "language": "python",
   "name": "mview"
  },
  "language_info": {
   "codemirror_mode": {
    "name": "ipython",
    "version": 3
   },
   "file_extension": ".py",
   "mimetype": "text/x-python",
   "name": "python",
   "nbconvert_exporter": "python",
   "pygments_lexer": "ipython3",
   "version": "3.6.9"
  }
 },
 "nbformat": 4,
 "nbformat_minor": 2
}

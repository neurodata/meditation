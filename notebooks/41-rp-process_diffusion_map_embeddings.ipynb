{
 "cells": [
  {
   "cell_type": "markdown",
   "metadata": {},
   "source": [
    "# Organize folders and rename"
   ]
  },
  {
   "cell_type": "code",
   "execution_count": 2,
   "metadata": {},
   "outputs": [],
   "source": [
    "import os\n",
    "import shutil\n",
    "from pathlib import Path\n",
    "import numpy as np\n",
    "import h5py\n",
    "import sys\n",
    "sys.path.append(\"../\")\n",
    "from src.tools.utils import get_files, get_latents\n",
    "%load_ext autoreload\n",
    "%autoreload 2"
   ]
  },
  {
   "cell_type": "code",
   "execution_count": 3,
   "metadata": {},
   "outputs": [],
   "source": [
    "datadir = Path('/mnt/ssd3/ronan/data')\n",
    "tag = '_min_rank-ZG3'#'_max_rank-ZG2' \n",
    "gccadir = datadir / f'gcca_05-26-10:39{tag}'#f'gcca_05-17-18:27{tag}' # "
   ]
  },
  {
   "cell_type": "code",
   "execution_count": 6,
   "metadata": {},
   "outputs": [
    {
     "data": {
      "text/plain": [
       "['n_sub-082_ses-1_task-restingstate_gcca.h5',\n",
       " 'n_sub-007_ses-1_task-openmonitoring_gcca.h5',\n",
       " 'n_sub-097_ses-1_task-compassion_gcca.h5',\n",
       " 'n_sub-035_ses-1_task-restingstate_gcca.h5',\n",
       " 'n_sub-102_ses-1_task-restingstate_gcca.h5',\n",
       " 'n_sub-096_ses-1_task-compassion_gcca.h5',\n",
       " 'n_sub-005_ses-1_task-compassion_gcca.h5',\n",
       " 'n_sub-022_ses-1_task-compassion_gcca.h5',\n",
       " 'e_sub-053_ses-1_task-openmonitoring_gcca.h5',\n",
       " 'n_sub-002_ses-1_task-compassion_gcca.h5',\n",
       " 'n_sub-012_ses-1_task-compassion_gcca.h5',\n",
       " 'n_sub-102_ses-1_task-openmonitoring_gcca.h5',\n",
       " 'n_sub-091_ses-1_task-openmonitoring_gcca.h5',\n",
       " 'n_sub-038_ses-1_task-compassion_gcca.h5',\n",
       " 'n_sub-005_ses-1_task-openmonitoring_gcca.h5',\n",
       " 'e_sub-077_ses-1_task-openmonitoring_gcca.h5',\n",
       " 'n_sub-004_ses-1_task-openmonitoring_gcca.h5',\n",
       " 'e_sub-074_ses-1_task-restingstate_gcca.h5',\n",
       " 'e_sub-079_ses-1_task-compassion_gcca.h5',\n",
       " 'n_sub-022_ses-1_task-openmonitoring_gcca.h5',\n",
       " 'e_sub-053_ses-1_task-restingstate_gcca.h5',\n",
       " 'n_sub-082_ses-1_task-compassion_gcca.h5',\n",
       " 'n_sub-011_ses-1_task-restingstate_gcca.h5',\n",
       " 'e_sub-054_ses-1_task-openmonitoring_gcca.h5',\n",
       " 'e_sub-052_ses-1_task-openmonitoring_gcca.h5',\n",
       " 'e_sub-025_ses-1_task-restingstate_gcca.h5',\n",
       " 'e_sub-058_ses-1_task-compassion_gcca.h5',\n",
       " 'e_sub-055_ses-1_task-compassion_gcca.h5',\n",
       " 'e_sub-078_ses-1_task-openmonitoring_gcca.h5',\n",
       " 'n_sub-007_ses-1_task-compassion_gcca.h5',\n",
       " 'e_sub-076_ses-1_task-restingstate_gcca.h5',\n",
       " 'n_sub-081_ses-1_task-restingstate_gcca.h5',\n",
       " 'e_sub-073_ses-1_task-openmonitoring_gcca.h5',\n",
       " 'e_sub-025_ses-1_task-compassion_gcca.h5',\n",
       " 'e_sub-059_ses-1_task-restingstate_gcca.h5',\n",
       " 'n_sub-090_ses-1_task-openmonitoring_gcca.h5',\n",
       " 'n_sub-029_ses-1_task-compassion_gcca.h5',\n",
       " 'n_sub-090_ses-1_task-compassion_gcca.h5',\n",
       " 'n_sub-030_ses-1_task-compassion_gcca.h5',\n",
       " 'e_sub-067_ses-1_task-compassion_gcca.h5',\n",
       " 'n_sub-042_ses-1_task-compassion_gcca.h5',\n",
       " 'e_sub-063_ses-1_task-openmonitoring_gcca.h5',\n",
       " 'e_sub-068_ses-1_task-restingstate_gcca.h5',\n",
       " 'n_sub-028_ses-1_task-compassion_gcca.h5',\n",
       " 'e_sub-050_ses-1_task-openmonitoring_gcca.h5',\n",
       " 'n_sub-037_ses-1_task-restingstate_gcca.h5',\n",
       " 'e_sub-071_ses-1_task-openmonitoring_gcca.h5',\n",
       " 'e_sub-060_ses-1_task-restingstate_gcca.h5',\n",
       " 'e_sub-059_ses-1_task-compassion_gcca.h5',\n",
       " 'n_sub-028_ses-1_task-restingstate_gcca.h5',\n",
       " 'n_sub-105_ses-1_task-openmonitoring_gcca.h5',\n",
       " 'n_sub-032_ses-1_task-compassion_gcca.h5',\n",
       " 'e_sub-079_ses-1_task-openmonitoring_gcca.h5',\n",
       " 'n_sub-030_ses-1_task-restingstate_gcca.h5',\n",
       " 'e_sub-055_ses-1_task-restingstate_gcca.h5',\n",
       " 'n_sub-099_ses-1_task-openmonitoring_gcca.h5',\n",
       " 'e_sub-069_ses-1_task-restingstate_gcca.h5',\n",
       " 'n_sub-010_ses-1_task-restingstate_gcca.h5',\n",
       " 'n_sub-106_ses-1_task-compassion_gcca.h5',\n",
       " 'n_sub-103_ses-1_task-openmonitoring_gcca.h5',\n",
       " 'n_sub-104_ses-1_task-compassion_gcca.h5',\n",
       " 'e_sub-056_ses-1_task-compassion_gcca.h5',\n",
       " 'n_sub-030_ses-1_task-openmonitoring_gcca.h5',\n",
       " 'n_sub-017_ses-1_task-restingstate_gcca.h5',\n",
       " 'e_sub-077_ses-1_task-compassion_gcca.h5',\n",
       " 'n_sub-108_ses-1_task-restingstate_gcca.h5',\n",
       " 'n_sub-091_ses-1_task-compassion_gcca.h5',\n",
       " 'n_sub-017_ses-1_task-openmonitoring_gcca.h5',\n",
       " 'n_sub-037_ses-1_task-openmonitoring_gcca.h5',\n",
       " 'n_sub-099_ses-1_task-restingstate_gcca.h5',\n",
       " 'e_sub-074_ses-1_task-compassion_gcca.h5',\n",
       " 'e_sub-072_ses-1_task-openmonitoring_gcca.h5',\n",
       " 'n_sub-101_ses-1_task-openmonitoring_gcca.h5',\n",
       " 'e_sub-069_ses-1_task-openmonitoring_gcca.h5',\n",
       " 'e_sub-058_ses-1_task-openmonitoring_gcca.h5',\n",
       " 'n_sub-005_ses-1_task-restingstate_gcca.h5',\n",
       " 'e_sub-060_ses-1_task-compassion_gcca.h5',\n",
       " 'n_sub-007_ses-1_task-restingstate_gcca.h5',\n",
       " 'n_sub-104_ses-1_task-openmonitoring_gcca.h5',\n",
       " 'e_sub-055_ses-1_task-openmonitoring_gcca.h5',\n",
       " 'n_sub-081_ses-1_task-compassion_gcca.h5',\n",
       " 'e_sub-075_ses-1_task-openmonitoring_gcca.h5',\n",
       " 'e_sub-070_ses-1_task-compassion_gcca.h5',\n",
       " 'n_sub-032_ses-1_task-openmonitoring_gcca.h5',\n",
       " 'e_sub-056_ses-1_task-restingstate_gcca.h5',\n",
       " 'n_sub-040_ses-1_task-restingstate_gcca.h5',\n",
       " 'n_sub-040_ses-1_task-compassion_gcca.h5',\n",
       " 'n_sub-082_ses-1_task-openmonitoring_gcca.h5',\n",
       " 'e_sub-053_ses-1_task-compassion_gcca.h5',\n",
       " 'n_sub-098_ses-1_task-compassion_gcca.h5',\n",
       " 'n_sub-098_ses-1_task-restingstate_gcca.h5',\n",
       " 'n_sub-089_ses-1_task-compassion_gcca.h5',\n",
       " 'n_sub-018_ses-1_task-openmonitoring_gcca.h5',\n",
       " 'n_sub-011_ses-1_task-openmonitoring_gcca.h5',\n",
       " 'e_sub-076_ses-1_task-openmonitoring_gcca.h5',\n",
       " 'n_sub-002_ses-1_task-openmonitoring_gcca.h5',\n",
       " 'n_sub-094_ses-1_task-restingstate_gcca.h5',\n",
       " 'n_sub-105_ses-1_task-compassion_gcca.h5',\n",
       " 'e_sub-069_ses-1_task-compassion_gcca.h5',\n",
       " 'e_sub-063_ses-1_task-compassion_gcca.h5',\n",
       " 'e_sub-071_ses-1_task-compassion_gcca.h5',\n",
       " 'e_sub-062_ses-1_task-openmonitoring_gcca.h5',\n",
       " 'n_sub-083_ses-1_task-openmonitoring_gcca.h5',\n",
       " 'n_sub-022_ses-1_task-restingstate_gcca.h5',\n",
       " 'n_sub-087_ses-1_task-compassion_gcca.h5',\n",
       " 'n_sub-095_ses-1_task-openmonitoring_gcca.h5',\n",
       " 'e_sub-080_ses-1_task-openmonitoring_gcca.h5',\n",
       " 'n_sub-092_ses-1_task-compassion_gcca.h5',\n",
       " 'e_sub-073_ses-1_task-restingstate_gcca.h5',\n",
       " 'n_sub-083_ses-1_task-compassion_gcca.h5',\n",
       " 'n_sub-042_ses-1_task-restingstate_gcca.h5',\n",
       " 'e_sub-064_ses-1_task-compassion_gcca.h5',\n",
       " 'n_sub-040_ses-1_task-openmonitoring_gcca.h5',\n",
       " 'n_sub-104_ses-1_task-restingstate_gcca.h5',\n",
       " 'e_sub-050_ses-1_task-compassion_gcca.h5',\n",
       " 'n_sub-014_ses-1_task-restingstate_gcca.h5',\n",
       " 'n_sub-109_ses-1_task-openmonitoring_gcca.h5',\n",
       " 'n_sub-109_ses-1_task-compassion_gcca.h5',\n",
       " 'n_sub-036_ses-1_task-compassion_gcca.h5',\n",
       " 'n_sub-083_ses-1_task-restingstate_gcca.h5',\n",
       " 'n_sub-094_ses-1_task-openmonitoring_gcca.h5',\n",
       " 'n_sub-002_ses-1_task-restingstate_gcca.h5',\n",
       " 'n_sub-042_ses-1_task-openmonitoring_gcca.h5',\n",
       " 'n_sub-016_ses-1_task-compassion_gcca.h5',\n",
       " 'e_sub-058_ses-1_task-restingstate_gcca.h5',\n",
       " 'e_sub-072_ses-1_task-restingstate_gcca.h5',\n",
       " 'n_sub-097_ses-1_task-restingstate_gcca.h5',\n",
       " 'n_sub-101_ses-1_task-restingstate_gcca.h5',\n",
       " 'n_sub-036_ses-1_task-restingstate_gcca.h5',\n",
       " 'e_sub-073_ses-1_task-compassion_gcca.h5',\n",
       " 'e_sub-067_ses-1_task-restingstate_gcca.h5',\n",
       " 'e_sub-075_ses-1_task-restingstate_gcca.h5',\n",
       " 'n_sub-089_ses-1_task-restingstate_gcca.h5',\n",
       " 'e_sub-052_ses-1_task-compassion_gcca.h5',\n",
       " 'n_sub-087_ses-1_task-restingstate_gcca.h5',\n",
       " 'e_sub-057_ses-1_task-compassion_gcca.h5',\n",
       " 'n_sub-026_ses-1_task-openmonitoring_gcca.h5',\n",
       " 'n_sub-093_ses-1_task-compassion_gcca.h5',\n",
       " 'e_sub-025_ses-1_task-openmonitoring_gcca.h5',\n",
       " 'n_sub-092_ses-1_task-restingstate_gcca.h5',\n",
       " 'n_sub-012_ses-1_task-openmonitoring_gcca.h5',\n",
       " 'e_sub-070_ses-1_task-openmonitoring_gcca.h5',\n",
       " 'e_sub-063_ses-1_task-restingstate_gcca.h5',\n",
       " 'n_sub-109_ses-1_task-restingstate_gcca.h5',\n",
       " 'n_sub-098_ses-1_task-openmonitoring_gcca.h5',\n",
       " 'n_sub-103_ses-1_task-compassion_gcca.h5',\n",
       " 'e_sub-074_ses-1_task-openmonitoring_gcca.h5',\n",
       " 'e_sub-059_ses-1_task-openmonitoring_gcca.h5',\n",
       " 'n_sub-034_ses-1_task-restingstate_gcca.h5',\n",
       " 'n_sub-105_ses-1_task-restingstate_gcca.h5',\n",
       " 'n_sub-093_ses-1_task-restingstate_gcca.h5',\n",
       " 'n_sub-029_ses-1_task-openmonitoring_gcca.h5',\n",
       " 'n_sub-103_ses-1_task-restingstate_gcca.h5',\n",
       " 'e_sub-077_ses-1_task-restingstate_gcca.h5',\n",
       " 'e_sub-075_ses-1_task-compassion_gcca.h5',\n",
       " 'e_sub-062_ses-1_task-compassion_gcca.h5',\n",
       " 'n_sub-093_ses-1_task-openmonitoring_gcca.h5',\n",
       " 'e_sub-064_ses-1_task-restingstate_gcca.h5',\n",
       " 'n_sub-106_ses-1_task-openmonitoring_gcca.h5',\n",
       " 'n_sub-011_ses-1_task-compassion_gcca.h5',\n",
       " 'n_sub-032_ses-1_task-restingstate_gcca.h5',\n",
       " 'e_sub-072_ses-1_task-compassion_gcca.h5',\n",
       " 'e_sub-057_ses-1_task-restingstate_gcca.h5',\n",
       " 'n_sub-095_ses-1_task-restingstate_gcca.h5',\n",
       " 'n_sub-028_ses-1_task-openmonitoring_gcca.h5',\n",
       " 'e_sub-076_ses-1_task-compassion_gcca.h5',\n",
       " 'n_sub-091_ses-1_task-restingstate_gcca.h5',\n",
       " 'e_sub-054_ses-1_task-restingstate_gcca.h5',\n",
       " 'n_sub-034_ses-1_task-compassion_gcca.h5',\n",
       " 'e_sub-065_ses-1_task-compassion_gcca.h5',\n",
       " 'n_sub-099_ses-1_task-compassion_gcca.h5',\n",
       " 'e_sub-054_ses-1_task-compassion_gcca.h5',\n",
       " 'n_sub-035_ses-1_task-compassion_gcca.h5',\n",
       " 'n_sub-029_ses-1_task-restingstate_gcca.h5',\n",
       " 'n_sub-018_ses-1_task-compassion_gcca.h5',\n",
       " 'n_sub-096_ses-1_task-restingstate_gcca.h5',\n",
       " 'e_sub-067_ses-1_task-openmonitoring_gcca.h5',\n",
       " 'e_sub-065_ses-1_task-restingstate_gcca.h5',\n",
       " 'n_sub-036_ses-1_task-openmonitoring_gcca.h5',\n",
       " 'n_sub-034_ses-1_task-openmonitoring_gcca.h5',\n",
       " 'n_sub-089_ses-1_task-openmonitoring_gcca.h5',\n",
       " 'n_sub-010_ses-1_task-compassion_gcca.h5',\n",
       " 'e_sub-064_ses-1_task-openmonitoring_gcca.h5',\n",
       " 'n_sub-102_ses-1_task-compassion_gcca.h5',\n",
       " 'n_sub-014_ses-1_task-compassion_gcca.h5',\n",
       " 'e_sub-078_ses-1_task-compassion_gcca.h5',\n",
       " 'e_sub-078_ses-1_task-restingstate_gcca.h5',\n",
       " 'e_sub-068_ses-1_task-compassion_gcca.h5',\n",
       " 'n_sub-018_ses-1_task-restingstate_gcca.h5',\n",
       " 'n_sub-016_ses-1_task-restingstate_gcca.h5',\n",
       " 'e_sub-070_ses-1_task-restingstate_gcca.h5',\n",
       " 'n_sub-026_ses-1_task-compassion_gcca.h5',\n",
       " 'n_sub-012_ses-1_task-restingstate_gcca.h5',\n",
       " 'e_sub-071_ses-1_task-restingstate_gcca.h5',\n",
       " 'n_sub-010_ses-1_task-openmonitoring_gcca.h5',\n",
       " 'n_sub-014_ses-1_task-openmonitoring_gcca.h5',\n",
       " 'n_sub-004_ses-1_task-restingstate_gcca.h5',\n",
       " 'n_sub-017_ses-1_task-compassion_gcca.h5',\n",
       " 'n_sub-108_ses-1_task-openmonitoring_gcca.h5',\n",
       " 'e_sub-057_ses-1_task-openmonitoring_gcca.h5',\n",
       " 'n_sub-016_ses-1_task-openmonitoring_gcca.h5',\n",
       " 'n_sub-101_ses-1_task-compassion_gcca.h5',\n",
       " 'n_sub-095_ses-1_task-compassion_gcca.h5',\n",
       " 'e_sub-068_ses-1_task-openmonitoring_gcca.h5',\n",
       " 'n_sub-004_ses-1_task-compassion_gcca.h5',\n",
       " 'n_sub-037_ses-1_task-compassion_gcca.h5',\n",
       " 'e_sub-052_ses-1_task-restingstate_gcca.h5',\n",
       " 'n_sub-097_ses-1_task-openmonitoring_gcca.h5',\n",
       " 'n_sub-090_ses-1_task-restingstate_gcca.h5',\n",
       " 'n_sub-038_ses-1_task-restingstate_gcca.h5',\n",
       " 'n_sub-087_ses-1_task-openmonitoring_gcca.h5',\n",
       " 'e_sub-062_ses-1_task-restingstate_gcca.h5',\n",
       " 'n_sub-096_ses-1_task-openmonitoring_gcca.h5',\n",
       " 'e_sub-060_ses-1_task-openmonitoring_gcca.h5',\n",
       " 'e_sub-079_ses-1_task-restingstate_gcca.h5',\n",
       " 'n_sub-026_ses-1_task-restingstate_gcca.h5',\n",
       " 'n_sub-035_ses-1_task-openmonitoring_gcca.h5',\n",
       " 'e_sub-080_ses-1_task-restingstate_gcca.h5',\n",
       " 'n_sub-081_ses-1_task-openmonitoring_gcca.h5',\n",
       " 'e_sub-056_ses-1_task-openmonitoring_gcca.h5',\n",
       " 'e_sub-065_ses-1_task-openmonitoring_gcca.h5',\n",
       " 'e_sub-080_ses-1_task-compassion_gcca.h5',\n",
       " 'e_sub-050_ses-1_task-restingstate_gcca.h5',\n",
       " 'n_sub-108_ses-1_task-compassion_gcca.h5',\n",
       " 'n_sub-038_ses-1_task-openmonitoring_gcca.h5',\n",
       " 'n_sub-106_ses-1_task-restingstate_gcca.h5',\n",
       " 'n_sub-094_ses-1_task-compassion_gcca.h5',\n",
       " 'n_sub-092_ses-1_task-openmonitoring_gcca.h5']"
      ]
     },
     "execution_count": 6,
     "metadata": {},
     "output_type": "execute_result"
    }
   ],
   "source": [
    "os.listdir(gccadir)"
   ]
  },
  {
   "cell_type": "code",
   "execution_count": 7,
   "metadata": {},
   "outputs": [],
   "source": [
    "dmap_dir = datadir / f'dmap_09-04'"
   ]
  },
  {
   "cell_type": "code",
   "execution_count": 9,
   "metadata": {},
   "outputs": [
    {
     "data": {
      "text/plain": [
       "['novices', 'experts']"
      ]
     },
     "execution_count": 9,
     "metadata": {},
     "output_type": "execute_result"
    }
   ],
   "source": [
    "os.listdir(dmap_dir)"
   ]
  },
  {
   "cell_type": "code",
   "execution_count": 14,
   "metadata": {},
   "outputs": [],
   "source": [
    "sub_folders = os.listdir(dmap_dir)\n",
    "tags = ['n', 'e']\n",
    "for tag, sub_folder in zip(tags, sub_folders):\n",
    "    for f in os.listdir(dmap_dir / sub_folder):\n",
    "        shutil.move(dmap_dir / sub_folder / f, dmap_dir / f'{tag}_{f}')\n",
    "        #print(dmap_dir / f'{tag}_{f}')"
   ]
  },
  {
   "cell_type": "code",
   "execution_count": 35,
   "metadata": {},
   "outputs": [
    {
     "data": {
      "text/plain": [
       "array(['e_embedding_dense_emb.sub-025.compassion.npy',\n",
       "       'e_embedding_dense_res.sub-025.compassion.npy'], dtype='<U48')"
      ]
     },
     "execution_count": 35,
     "metadata": {},
     "output_type": "execute_result"
    }
   ],
   "source": [
    "np.sort(os.listdir(dmap_dir))[np.asarray([1,88])]"
   ]
  },
  {
   "cell_type": "code",
   "execution_count": 36,
   "metadata": {},
   "outputs": [],
   "source": [
    "emb = np.load(dmap_dir / os.listdir(dmap_dir)[1], allow_pickle=True)\n",
    "res = np.load(dmap_dir / os.listdir(dmap_dir)[88], allow_pickle=True)"
   ]
  },
  {
   "cell_type": "code",
   "execution_count": 37,
   "metadata": {},
   "outputs": [
    {
     "data": {
      "text/plain": [
       "(18715, 5)"
      ]
     },
     "execution_count": 37,
     "metadata": {},
     "output_type": "execute_result"
    }
   ],
   "source": [
    "emb.shape"
   ]
  },
  {
   "cell_type": "code",
   "execution_count": 38,
   "metadata": {},
   "outputs": [
    {
     "data": {
      "text/plain": [
       "(18715, 5)"
      ]
     },
     "execution_count": 38,
     "metadata": {},
     "output_type": "execute_result"
    }
   ],
   "source": [
    "res.shape"
   ]
  },
  {
   "cell_type": "code",
   "execution_count": 43,
   "metadata": {},
   "outputs": [
    {
     "data": {
      "text/plain": [
       "array([483.87146, 347.45453, 136.07991, 129.07236, 101.93972],\n",
       "      dtype=float32)"
      ]
     },
     "execution_count": 43,
     "metadata": {},
     "output_type": "execute_result"
    }
   ],
   "source": [
    "np.linalg.norm(res, axis=0)"
   ]
  },
  {
   "cell_type": "code",
   "execution_count": 8,
   "metadata": {},
   "outputs": [
    {
     "ename": "NameError",
     "evalue": "name 'dmap_dir' is not defined",
     "output_type": "error",
     "traceback": [
      "\u001b[0;31m---------------------------------------------------------------------------\u001b[0m",
      "\u001b[0;31mNameError\u001b[0m                                 Traceback (most recent call last)",
      "\u001b[0;32m<ipython-input-8-85d6f96e6d26>\u001b[0m in \u001b[0;36m<module>\u001b[0;34m\u001b[0m\n\u001b[0;32m----> 1\u001b[0;31m \u001b[0mlatents\u001b[0m\u001b[0;34m,\u001b[0m \u001b[0mlabels\u001b[0m\u001b[0;34m,\u001b[0m \u001b[0msubj_ids\u001b[0m \u001b[0;34m=\u001b[0m \u001b[0mget_latents\u001b[0m\u001b[0;34m(\u001b[0m\u001b[0mdmap_dir\u001b[0m\u001b[0;34m,\u001b[0m \u001b[0mflag\u001b[0m\u001b[0;34m=\u001b[0m\u001b[0;34m'_emb'\u001b[0m\u001b[0;34m,\u001b[0m \u001b[0mids\u001b[0m\u001b[0;34m=\u001b[0m\u001b[0;32mTrue\u001b[0m\u001b[0;34m,\u001b[0m \u001b[0mftype\u001b[0m\u001b[0;34m=\u001b[0m\u001b[0;34m'npy'\u001b[0m\u001b[0;34m,\u001b[0m \u001b[0msource\u001b[0m\u001b[0;34m=\u001b[0m\u001b[0;34m'dmap'\u001b[0m\u001b[0;34m,\u001b[0m \u001b[0msubjects_exclude\u001b[0m\u001b[0;34m=\u001b[0m\u001b[0;34m[\u001b[0m\u001b[0;34m'073'\u001b[0m\u001b[0;34m]\u001b[0m\u001b[0;34m)\u001b[0m\u001b[0;34m\u001b[0m\u001b[0;34m\u001b[0m\u001b[0m\n\u001b[0m",
      "\u001b[0;31mNameError\u001b[0m: name 'dmap_dir' is not defined"
     ]
    }
   ],
   "source": [
    "latents, labels, subj_ids = get_latents(dmap_dir, flag='_emb', ids=True, ftype='npy', source='dmap', subjects_exclude=['073'])\n"
   ]
  },
  {
   "cell_type": "code",
   "execution_count": 7,
   "metadata": {},
   "outputs": [
    {
     "data": {
      "text/plain": [
       "array([], dtype=float64)"
      ]
     },
     "execution_count": 7,
     "metadata": {},
     "output_type": "execute_result"
    }
   ],
   "source": [
    "np.unique(np.concatenate(subj_ids))"
   ]
  },
  {
   "cell_type": "code",
   "execution_count": null,
   "metadata": {},
   "outputs": [],
   "source": []
  },
  {
   "cell_type": "code",
   "execution_count": 12,
   "metadata": {},
   "outputs": [],
   "source": [
    "a = 73"
   ]
  },
  {
   "cell_type": "code",
   "execution_count": 13,
   "metadata": {},
   "outputs": [
    {
     "ename": "SyntaxError",
     "evalue": "invalid syntax (<ipython-input-13-29abf0455cd7>, line 1)",
     "output_type": "error",
     "traceback": [
      "\u001b[0;36m  File \u001b[0;32m\"<ipython-input-13-29abf0455cd7>\"\u001b[0;36m, line \u001b[0;32m1\u001b[0m\n\u001b[0;31m    str(a.2f)\u001b[0m\n\u001b[0m          ^\u001b[0m\n\u001b[0;31mSyntaxError\u001b[0m\u001b[0;31m:\u001b[0m invalid syntax\n"
     ]
    }
   ],
   "source": [
    "str(a.2f)"
   ]
  },
  {
   "cell_type": "code",
   "execution_count": 22,
   "metadata": {},
   "outputs": [
    {
     "data": {
      "text/plain": [
       "'073'"
      ]
     },
     "execution_count": 22,
     "metadata": {},
     "output_type": "execute_result"
    }
   ],
   "source": [
    "f'{str(a):0>3}'"
   ]
  },
  {
   "cell_type": "code",
   "execution_count": 36,
   "metadata": {},
   "outputs": [
    {
     "data": {
      "text/plain": [
       "'1'"
      ]
     },
     "execution_count": 36,
     "metadata": {},
     "output_type": "execute_result"
    }
   ],
   "source": [
    "'|'.join(['1'])"
   ]
  },
  {
   "cell_type": "code",
   "execution_count": null,
   "metadata": {},
   "outputs": [],
   "source": []
  }
 ],
 "metadata": {
  "kernelspec": {
   "display_name": "Python 3.7.6 64-bit ('base': conda)",
   "language": "python",
   "name": "python37664bitbaseconda19db8c3c14cd47c29dff39736515a2a6"
  },
  "language_info": {
   "codemirror_mode": {
    "name": "ipython",
    "version": 3
   },
   "file_extension": ".py",
   "mimetype": "text/x-python",
   "name": "python",
   "nbconvert_exporter": "python",
   "pygments_lexer": "ipython3",
   "version": "3.7.6"
  }
 },
 "nbformat": 4,
 "nbformat_minor": 4
}

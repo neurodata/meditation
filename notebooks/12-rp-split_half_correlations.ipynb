{
 "cells": [
  {
   "cell_type": "markdown",
   "metadata": {},
   "source": [
    "# Investigate within/between correlations post split-half sampling\n",
    "- Novices scans split into two groups evenly distributing task and subject between them\n",
    "- GCCA on both, as before\n",
    "- Investiage correlations here"
   ]
  },
  {
   "cell_type": "code",
   "execution_count": 1,
   "metadata": {},
   "outputs": [],
   "source": [
    "import h5py\n",
    "import numpy as np\n",
    "import matplotlib.pyplot as plt\n",
    "%matplotlib inline\n",
    "\n",
    "from tqdm import tqdm\n",
    "from scipy import stats\n",
    "from pathlib import Path\n",
    "import os\n",
    "import re\n",
    "\n",
    "import sys; sys.path.append('../')\n",
    "from src.tools.utils import get_files\n",
    "\n",
    "%load_ext autoreload\n",
    "%autoreload 2"
   ]
  },
  {
   "cell_type": "code",
   "execution_count": 6,
   "metadata": {},
   "outputs": [],
   "source": [
    "h5_key = 'latent'\n",
    "## Define paths\n",
    "base_dir = Path('/mnt/ssd3/ronan/data/gcca_05-10-22:53/')\n",
    "split1_dir = base_dir / 'split_half_1'\n",
    "split2_dir = base_dir / 'split_half_2'"
   ]
  },
  {
   "cell_type": "code",
   "execution_count": 7,
   "metadata": {},
   "outputs": [],
   "source": [
    "tasks = ['restingstate', 'openmonitoring', 'compassion']\n",
    "levels = ['e', 'n']"
   ]
  },
  {
   "cell_type": "code",
   "execution_count": 9,
   "metadata": {},
   "outputs": [
    {
     "output_type": "stream",
     "name": "stderr",
     "text": "100%|██████████| 29/29 [00:00<00:00, 995.53it/s]\n100%|██████████| 29/29 [00:00<00:00, 1418.85it/s]\n100%|██████████| 29/29 [00:00<00:00, 1413.34it/s]\n100%|██████████| 29/29 [00:00<00:00, 1403.10it/s]\n100%|██████████| 29/29 [00:00<00:00, 1427.59it/s]\n100%|██████████| 29/29 [00:00<00:00, 1404.30it/s]\n100%|██████████| 22/22 [00:00<00:00, 1399.82it/s]\n100%|██████████| 25/25 [00:00<00:00, 1397.43it/s]\n100%|██████████| 22/22 [00:00<00:00, 1034.06it/s]\n100%|██████████| 25/25 [00:00<00:00, 1371.40it/s]\n100%|██████████| 26/26 [00:00<00:00, 1373.00it/s]\n100%|██████████| 21/21 [00:00<00:00, 1411.02it/s]\n"
    }
   ],
   "source": [
    "## Get filenames for each task, novice vs. experienced\n",
    "## Load a single set of latents\n",
    "\n",
    "#latents_inter = {l:{t:[] for t in tasks} for l in levels}\n",
    "#labels_inter = {l:{t:[] for t in tasks} for l in levels}\n",
    "\n",
    "#latents_intra = {t:{l:[] for l in levels} for t in tasks}\n",
    "#labels_intra = {t:{l:[] for l in levels} for t in tasks}\n",
    "\n",
    "latent_dict_1 = {}\n",
    "latent_dict_2 = {}\n",
    "\n",
    "n_components = 3\n",
    "\n",
    "for level in levels:\n",
    "    for task in tasks:\n",
    "        paths = get_files(path=split1_dir, level=level, task=task, flag='_gcca', filetype='h5')\n",
    "        \n",
    "        n_load = len(paths)\n",
    "\n",
    "        for path,subj in tqdm(paths[:n_load]):\n",
    "            h5f = h5py.File(split1_dir / path,'r')\n",
    "            latent = h5f[h5_key][:][:,:n_components]\n",
    "            h5f.close()\n",
    "            \n",
    "            latent_dict_1[f'{level}_{task}'] = latent\n",
    "\n",
    "        paths = get_files(path=split2_dir, level=level, task=task, flag='_gcca', filetype='h5')\n",
    "        \n",
    "        n_load = len(paths)\n",
    "\n",
    "        for path,subj in tqdm(paths[:n_load]):\n",
    "            h5f = h5py.File(split2_dir / path,'r')\n",
    "            latent = h5f[h5_key][:][:,:n_components]\n",
    "            h5f.close()\n",
    "            \n",
    "            latent_dict_2[f'{level}_{task}'] = latent"
   ]
  },
  {
   "cell_type": "code",
   "execution_count": null,
   "metadata": {},
   "outputs": [],
   "source": []
  }
 ],
 "metadata": {
  "language_info": {
   "codemirror_mode": {
    "name": "ipython",
    "version": 3
   },
   "file_extension": ".py",
   "mimetype": "text/x-python",
   "name": "python",
   "nbconvert_exporter": "python",
   "pygments_lexer": "ipython3",
   "version": "3.6.9-final"
  },
  "orig_nbformat": 2,
  "kernelspec": {
   "name": "python36964bite56226f122fe46bfb18dc95209ecfe50",
   "display_name": "Python 3.6.9 64-bit"
  }
 },
 "nbformat": 4,
 "nbformat_minor": 2
}
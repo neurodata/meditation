{
 "cells": [
  {
   "cell_type": "markdown",
   "metadata": {},
   "source": [
    "Each .csv file contains 18715 rows and t columns, where:\n",
    "\n",
    "rows = cortical vertices (aligned across subjects)\n",
    "columns = timepoints\n",
    "\n",
    "Data has NOT been spatially smoothed along the cortical surface.\n",
    "\n",
    "Filenames:\n",
    "[n,e]_ses-1_task-[restingstate, openmonitoring, compassion].csv\n",
    "\n",
    "where:\n",
    "[n,e]                                      = subject groups [novices, experts]\n",
    "[restingstate, openmonitoring, compassion] = states"
   ]
  },
  {
   "cell_type": "code",
   "execution_count": 1,
   "metadata": {},
   "outputs": [],
   "source": [
    "import numpy as np\n",
    "import pandas as pd\n",
    "import matplotlib.pyplot as plt\n",
    "%matplotlib inline\n",
    "import seaborn as sns\n",
    "import graspy\n",
    "\n",
    "from pathlib import Path\n",
    "import re\n",
    "import os\n",
    "\n",
    "import time\n",
    "from tqdm import tqdm\n",
    "\n",
    "import pickle\n",
    "import h5py"
   ]
  },
  {
   "cell_type": "code",
   "execution_count": 46,
   "metadata": {},
   "outputs": [],
   "source": [
    "basedir = Path('..')\n",
    "datadir = basedir / 'data' / 'raw'\n",
    "correlation_dir = basedir / 'data' / 'interim' / 'latents'"
   ]
  },
  {
   "cell_type": "code",
   "execution_count": 42,
   "metadata": {},
   "outputs": [],
   "source": [
    "## Grab filenames\n",
    "def get_files(level='(e|n)',\n",
    "              subject='[0-9]{3}',\n",
    "              task='.+?'):\n",
    "    files = []\n",
    "    query = f'^{level}_sub-'\n",
    "    query += f'({subject})_ses-1_'\n",
    "    query += f'task-{task}\\.csv'\n",
    "    for f in os.listdir(datadir):\n",
    "        match = re.search(query, f)\n",
    "        if match:\n",
    "            files.append((f, match.group(1)))\n",
    "    \n",
    "    return(files)"
   ]
  },
  {
   "cell_type": "code",
   "execution_count": 43,
   "metadata": {},
   "outputs": [],
   "source": [
    "e_paths = get_files(level=levels[0], task=tasks[0])"
   ]
  },
  {
   "cell_type": "code",
   "execution_count": 44,
   "metadata": {},
   "outputs": [
    {
     "data": {
      "text/plain": [
       "('e_sub-025_ses-1_task-restingstate.csv', '025')"
      ]
     },
     "execution_count": 44,
     "metadata": {},
     "output_type": "execute_result"
    }
   ],
   "source": [
    "e_paths[0]"
   ]
  },
  {
   "cell_type": "code",
   "execution_count": 47,
   "metadata": {},
   "outputs": [],
   "source": [
    "tasks = ['restingstate', 'openmonitoring', 'compassion']\n",
    "levels = ['e', 'n']\n",
    "\n",
    "for task,level in np.array(np.meshgrid(tasks,levels)).T.reshape(-1,2):\n",
    "    paths = get_files(level=level, task=task)\n",
    "    \n",
    "    for path,subj in paths:\n",
    "        h5f = h5py.File(correlation_dir / f'{level}_sub-{subj}_ses-1_task-{task}_latent.h5', 'w')\n",
    "        h5f.create_dataset('dataset_temp', data=e_compassion[:3])\n",
    "        h5f.close()\n",
    "        break\n",
    "    break"
   ]
  },
  {
   "cell_type": "code",
   "execution_count": 19,
   "metadata": {},
   "outputs": [
    {
     "data": {
      "text/plain": [
       "(18715, 300)"
      ]
     },
     "execution_count": 19,
     "metadata": {},
     "output_type": "execute_result"
    }
   ],
   "source": [
    "e_compassion"
   ]
  },
  {
   "cell_type": "code",
   "execution_count": 6,
   "metadata": {},
   "outputs": [],
   "source": [
    "n_max = 2\n",
    "e_corrs = []\n",
    "for path in e_paths[:n_max]:\n",
    "    e_compassion = pd.read_csv(datadir / path, header = None).to_numpy()\n",
    "    e_corrs.append(np.corrcoef(e_compassion))\n",
    "    e_compassion = None\n",
    "        #with open(external_correlation_dir / e_paths[0].replace('.csv', 'pkl'),'wb') as f:\n",
    "        #    pickle.dump(e_corr, f)"
   ]
  },
  {
   "cell_type": "code",
   "execution_count": 11,
   "metadata": {},
   "outputs": [],
   "source": [
    "e_compassion_A = [pd.read_csv(datadir / path, header = None).to_numpy() for path in e_paths]"
   ]
  },
  {
   "cell_type": "code",
   "execution_count": 42,
   "metadata": {},
   "outputs": [],
   "source": [
    "ns = []\n",
    "ts = []"
   ]
  },
  {
   "cell_type": "code",
   "execution_count": 47,
   "metadata": {},
   "outputs": [],
   "source": [
    "n = 10000\n",
    "n2 = [e1.shape[0]]\n",
    "\n",
    "for i in n2:\n",
    "    if not i in ns:\n",
    "        ns.append(i)\n",
    "        t1 = time.time()\n",
    "        corr1 = np.corrcoef(e1[0:i,:])\n",
    "        ts.append(time.time() - t1)"
   ]
  },
  {
   "cell_type": "code",
   "execution_count": 66,
   "metadata": {},
   "outputs": [
    {
     "data": {
      "text/plain": [
       "[<matplotlib.lines.Line2D at 0x7fa9203b5a58>]"
      ]
     },
     "execution_count": 66,
     "metadata": {},
     "output_type": "execute_result"
    },
    {
     "data": {
      "image/png": "[encoded data removed]",
      "text/plain": [
       "<Figure size 432x288 with 1 Axes>"
      ]
     },
     "metadata": {
      "needs_background": "light"
     },
     "output_type": "display_data"
    }
   ],
   "source": [
    "plt.plot(ns,ts)"
   ]
  },
  {
   "cell_type": "markdown",
   "metadata": {},
   "source": [
    "## MASE\n",
    "Data is symmetric\n",
    "### Process\n",
    "1. load n $p\\times t$ matrices\n",
    "2. compute $p \\times p$ correlation matrices\n",
    "3. MASE(corr mats) -> a $p \\times d$ shared (left) latent position mat and n $d \\times d$ transformation mats\n",
    "4. multiply -> individual latent positions\n",
    "\n",
    "latent_left_ : array, shape (n_samples, n_components)\n",
    "        Estimated left latent positions of the graph. \n",
    "        \n",
    "scores_ : array, shape (n_samples, n_components, n_components)\n",
    "    Estimated :math:`\\hat{R}` matrices for each input graph.\n"
   ]
  },
  {
   "cell_type": "code",
   "execution_count": 7,
   "metadata": {},
   "outputs": [],
   "source": [
    "from graspy.embed import mase"
   ]
  },
  {
   "cell_type": "code",
   "execution_count": 8,
   "metadata": {},
   "outputs": [],
   "source": [
    "mase = mase.MultipleASE()"
   ]
  },
  {
   "cell_type": "code",
   "execution_count": 9,
   "metadata": {},
   "outputs": [
    {
     "data": {
      "text/plain": [
       "MultipleASE(algorithm='randomized', n_components=None, n_elbows=2, n_iter=5,\n",
       "            scaled=False)"
      ]
     },
     "execution_count": 9,
     "metadata": {},
     "output_type": "execute_result"
    }
   ],
   "source": [
    "mase.fit(e_corrs)"
   ]
  },
  {
   "cell_type": "code",
   "execution_count": 13,
   "metadata": {},
   "outputs": [],
   "source": [
    "with open(basedir / 'data' / 'interim' / 'mase_e_compassion_first_two.pkl','wb') as f:\n",
    "    pickle.dump(mase, f)\n",
    "#with open('test.pkl','rb') as f:\n",
    "#    x = pickle.load(f)"
   ]
  },
  {
   "cell_type": "code",
   "execution_count": 25,
   "metadata": {},
   "outputs": [],
   "source": [
    "latents = mase.latent_left_\n",
    "scores = mase.scores_"
   ]
  },
  {
   "cell_type": "code",
   "execution_count": 24,
   "metadata": {},
   "outputs": [],
   "source": [
    "e1_transform, e2_transform = scores"
   ]
  },
  {
   "cell_type": "code",
   "execution_count": 38,
   "metadata": {},
   "outputs": [],
   "source": [
    "e1_latent = latents @ e1_transform\n",
    "e2_latent = latents @ e2_transform"
   ]
  },
  {
   "cell_type": "code",
   "execution_count": 46,
   "metadata": {},
   "outputs": [
    {
     "data": {
      "text/plain": [
       "(array([  18.,   60.,  285., 1004., 2852., 4800., 5526., 2904., 1100.,\n",
       "         166.]),\n",
       " array([-0.00432054, -0.00245649, -0.00059243,  0.00127162,  0.00313567,\n",
       "         0.00499972,  0.00686377,  0.00872782,  0.01059188,  0.01245593,\n",
       "         0.01431998]),\n",
       " <a list of 10 Patch objects>)"
      ]
     },
     "execution_count": 46,
     "metadata": {},
     "output_type": "execute_result"
    },
    {
     "data": {
      "image/png": "[encoded data removed]",
      "text/plain": [
       "<Figure size 432x288 with 1 Axes>"
      ]
     },
     "metadata": {
      "needs_background": "light"
     },
     "output_type": "display_data"
    }
   ],
   "source": [
    "plt.hist(e1_latent[:,0], alpha=0.3)\n",
    "plt.hist(e2_latent[:,0], alpha=0.3)\n",
    "plt.hist(latents[:,0], alpha=0.3)\n",
    "#plt.hist(e1_latent[:,2])"
   ]
  }
 ],
 "metadata": {
  "kernelspec": {
   "display_name": "Python [conda env:datasci]",
   "language": "python",
   "name": "conda-env-datasci-py"
  },
  "language_info": {
   "codemirror_mode": {
    "name": "ipython",
    "version": 3
   },
   "file_extension": ".py",
   "mimetype": "text/x-python",
   "name": "python",
   "nbconvert_exporter": "python",
   "pygments_lexer": "ipython3",
   "version": "3.7.3"
  }
 },
 "nbformat": 4,
 "nbformat_minor": 2
}

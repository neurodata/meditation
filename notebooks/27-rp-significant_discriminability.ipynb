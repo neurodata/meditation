{
 "cells": [
  {
   "cell_type": "markdown",
   "metadata": {},
   "source": [
    "# Discriminability of States and Traits"
   ]
  },
  {
   "cell_type": "code",
   "execution_count": 4,
   "metadata": {},
   "outputs": [
    {
     "name": "stdout",
     "output_type": "stream",
     "text": [
      "The autoreload extension is already loaded. To reload it, use:\n",
      "  %reload_ext autoreload\n"
     ]
    },
    {
     "data": {
      "application/javascript": [
       "\n",
       "            setTimeout(function() {\n",
       "                var nbb_cell_id = 4;\n",
       "                var nbb_unformatted_code = \"import numpy as np\\nfrom pathlib import Path\\nimport matplotlib.pyplot as plt\\nimport matplotlib.ticker as ticker\\nimport pickle\\n\\n%matplotlib inline\\n\\nimport seaborn as sns\\n\\nsns.set(color_codes=True, style=\\\"white\\\", context=\\\"talk\\\", font_scale=1)\\nPALETTE = sns.color_palette(\\\"Set1\\\")\\n\\nfrom sklearn.metrics import pairwise_distances\\nfrom sklearn.manifold import MDS\\nfrom hyppo.independence import Dcorr\\nfrom scipy.stats import multiscale_graphcorr\\nfrom hyppo.ksample._utils import k_sample_transform\\nfrom graspy.plot import heatmap, pairplot\\n\\nimport sys\\n\\nsys.path.append(\\\"../\\\")\\nfrom src.tools.utils import get_files, get_latents\\n\\n%load_ext autoreload\\n%autoreload 2\\n%load_ext nb_black\";\n",
       "                var nbb_formatted_code = \"import numpy as np\\nfrom pathlib import Path\\nimport matplotlib.pyplot as plt\\nimport matplotlib.ticker as ticker\\nimport pickle\\n\\n%matplotlib inline\\n\\nimport seaborn as sns\\n\\nsns.set(color_codes=True, style=\\\"white\\\", context=\\\"talk\\\", font_scale=1)\\nPALETTE = sns.color_palette(\\\"Set1\\\")\\n\\nfrom sklearn.metrics import pairwise_distances\\nfrom sklearn.manifold import MDS\\nfrom hyppo.independence import Dcorr\\nfrom scipy.stats import multiscale_graphcorr\\nfrom hyppo.ksample._utils import k_sample_transform\\nfrom graspy.plot import heatmap, pairplot\\n\\nimport sys\\n\\nsys.path.append(\\\"../\\\")\\nfrom src.tools.utils import get_files, get_latents\\n\\n%load_ext autoreload\\n%autoreload 2\\n%load_ext nb_black\";\n",
       "                var nbb_cells = Jupyter.notebook.get_cells();\n",
       "                for (var i = 0; i < nbb_cells.length; ++i) {\n",
       "                    if (nbb_cells[i].input_prompt_number == nbb_cell_id) {\n",
       "                        if (nbb_cells[i].get_text() == nbb_unformatted_code) {\n",
       "                             nbb_cells[i].set_text(nbb_formatted_code);\n",
       "                        }\n",
       "                        break;\n",
       "                    }\n",
       "                }\n",
       "            }, 500);\n",
       "            "
      ],
      "text/plain": [
       "<IPython.core.display.Javascript object>"
      ]
     },
     "metadata": {},
     "output_type": "display_data"
    }
   ],
   "source": [
    "import numpy as np\n",
    "from pathlib import Path\n",
    "import matplotlib.pyplot as plt\n",
    "import matplotlib.ticker as ticker\n",
    "import pickle\n",
    "\n",
    "%matplotlib inline\n",
    "\n",
    "import seaborn as sns\n",
    "\n",
    "sns.set(color_codes=True, style=\"white\", context=\"talk\", font_scale=1)\n",
    "PALETTE = sns.color_palette(\"Set1\")\n",
    "\n",
    "from sklearn.metrics import pairwise_distances\n",
    "from sklearn.manifold import MDS\n",
    "from hyppo.independence import Dcorr\n",
    "from scipy.stats import multiscale_graphcorr\n",
    "from hyppo.ksample._utils import k_sample_transform\n",
    "from graspy.plot import heatmap, pairplot\n",
    "\n",
    "import sys\n",
    "\n",
    "sys.path.append(\"../\")\n",
    "from src.tools.utils import get_files, get_latents\n",
    "\n",
    "%load_ext autoreload\n",
    "%autoreload 2\n",
    "%load_ext nb_black"
   ]
  },
  {
   "cell_type": "code",
   "execution_count": 2,
   "metadata": {},
   "outputs": [
    {
     "name": "stdout",
     "output_type": "stream",
     "text": [
      "[['e', 'restingstate'], ['e', 'openmonitoring'], ['e', 'compassion'], ['n', 'restingstate'], ['n', 'openmonitoring'], ['n', 'compassion']]\n"
     ]
    }
   ],
   "source": [
    "## Define paths\n",
    "base_dir = Path(\"/mnt/ssd3/ronan/data/gcca_05-26-10:39_min_rank-ZG3/\")\n",
    "external_dir = Path('../data/external')\n",
    "groups, labels = get_latents(base_dir, flag='_gcca')\n",
    "print(labels)"
   ]
  },
  {
   "cell_type": "code",
   "execution_count": 71,
   "metadata": {},
   "outputs": [
    {
     "data": {
      "application/javascript": [
       "\n",
       "            setTimeout(function() {\n",
       "                var nbb_cell_id = 71;\n",
       "                var nbb_unformatted_code = \"def disc_stat(dist_mat, labels):\\n    dist_mat = np.asarray(dist_mat)\\n    N = dist_mat.shape[0]\\n    stats = []\\n\\n    ## For each label\\n    for label in np.unique(labels):\\n        idxs_in = np.where(labels == label)[0]\\n        idxs_out = np.where(labels != label)[0]\\n        stat = []\\n        for i in idxs_in:  ## For each row in the in idxs\\n            stat.append(\\n                [\\n                    1\\n                    - (\\n                        np.sum(dist_mat[i, j] < dist_mat[i, idxs_out])\\n                        + 0.5 * np.sum(dist_mat[i, j] == dist_mat[i, idxs_out])\\n                    )\\n                    / len(idxs_out)\\n                    for j in idxs_in\\n                    if i != j\\n                ]\\n            )\\n        ## Average percent of the time in group is larger than out group\\n        stats.append(np.mean(stat))\\n\\n    # Equally weights each unique label\\n    return np.mean(stats)\\n\\n\\ndef disc_pval(dist_mat, labels, n_permutations=100):\\n    y = labels.copy()\\n    obs_stat = disc_stat(dist_mat, y)\\n    pval = 1 / (n_permutations + 1)\\n\\n    for _ in range(n_permutations):\\n        np.random.shuffle(y)\\n        null_stat = disc_stat(dist_mat, y)\\n        if null_stat <= obs_stat:\\n            pval += 1 / (n_permutations + 1)\\n\\n    return obs_stat, pval\";\n",
       "                var nbb_formatted_code = \"def disc_stat(dist_mat, labels):\\n    dist_mat = np.asarray(dist_mat)\\n    N = dist_mat.shape[0]\\n    stats = []\\n\\n    ## For each label\\n    for label in np.unique(labels):\\n        idxs_in = np.where(labels == label)[0]\\n        idxs_out = np.where(labels != label)[0]\\n        stat = []\\n        for i in idxs_in:  ## For each row in the in idxs\\n            stat.append(\\n                [\\n                    1\\n                    - (\\n                        np.sum(dist_mat[i, j] < dist_mat[i, idxs_out])\\n                        + 0.5 * np.sum(dist_mat[i, j] == dist_mat[i, idxs_out])\\n                    )\\n                    / len(idxs_out)\\n                    for j in idxs_in\\n                    if i != j\\n                ]\\n            )\\n        ## Average percent of the time in group is larger than out group\\n        stats.append(np.mean(stat))\\n\\n    # Equally weights each unique label\\n    return np.mean(stats)\\n\\n\\ndef disc_pval(dist_mat, labels, n_permutations=100):\\n    y = labels.copy()\\n    obs_stat = disc_stat(dist_mat, y)\\n    pval = 1 / (n_permutations + 1)\\n\\n    for _ in range(n_permutations):\\n        np.random.shuffle(y)\\n        null_stat = disc_stat(dist_mat, y)\\n        if null_stat <= obs_stat:\\n            pval += 1 / (n_permutations + 1)\\n\\n    return obs_stat, pval\";\n",
       "                var nbb_cells = Jupyter.notebook.get_cells();\n",
       "                for (var i = 0; i < nbb_cells.length; ++i) {\n",
       "                    if (nbb_cells[i].input_prompt_number == nbb_cell_id) {\n",
       "                        if (nbb_cells[i].get_text() == nbb_unformatted_code) {\n",
       "                             nbb_cells[i].set_text(nbb_formatted_code);\n",
       "                        }\n",
       "                        break;\n",
       "                    }\n",
       "                }\n",
       "            }, 500);\n",
       "            "
      ],
      "text/plain": [
       "<IPython.core.display.Javascript object>"
      ]
     },
     "metadata": {},
     "output_type": "display_data"
    }
   ],
   "source": [
    "def disc_stat(dist_mat, labels):\n",
    "    dist_mat = np.asarray(dist_mat)\n",
    "    N = dist_mat.shape[0]\n",
    "    stats = []\n",
    "\n",
    "    ## For each label\n",
    "    for label in np.unique(labels):\n",
    "        idxs_in = np.where(labels == label)[0]\n",
    "        idxs_out = np.where(labels != label)[0]\n",
    "        stat = []\n",
    "        for i in idxs_in:  ## For each row in the in idxs\n",
    "            stat.append(\n",
    "                [\n",
    "                    1\n",
    "                    - (\n",
    "                        np.sum(dist_mat[i, j] < dist_mat[i, idxs_out])\n",
    "                        + 0.5 * np.sum(dist_mat[i, j] == dist_mat[i, idxs_out])\n",
    "                    )\n",
    "                    / len(idxs_out)\n",
    "                    for j in idxs_in\n",
    "                    if i != j\n",
    "                ]\n",
    "            )\n",
    "        ## Average percent of the time in group is larger than out group\n",
    "        stats.append(np.mean(stat))\n",
    "\n",
    "    # Equally weights each unique label\n",
    "    return np.mean(stats)\n",
    "\n",
    "\n",
    "def disc_pval(dist_mat, labels, n_permutations=100):\n",
    "    y = labels.copy()\n",
    "    obs_stat = disc_stat(dist_mat, y)\n",
    "    pval = 1 / (n_permutations + 1)\n",
    "\n",
    "    for _ in range(n_permutations):\n",
    "        np.random.shuffle(y)\n",
    "        null_stat = disc_stat(dist_mat, y)\n",
    "        if null_stat <= obs_stat:\n",
    "            pval += 1 / (n_permutations + 1)\n",
    "\n",
    "    return obs_stat, pval"
   ]
  },
  {
   "cell_type": "markdown",
   "metadata": {},
   "source": [
    "## Experts vs. Novices"
   ]
  },
  {
   "cell_type": "code",
   "execution_count": 88,
   "metadata": {},
   "outputs": [
    {
     "data": {
      "application/javascript": [
       "\n",
       "            setTimeout(function() {\n",
       "                var nbb_cell_id = 88;\n",
       "                var nbb_unformatted_code = \"ways = [[0], [0], [0], [1], [1], [1]]\\nX, Y = k_sample_transform([np.asarray(g) for g in groups], ways=ways)\\nX = X[:, :, :3].reshape(X.shape[0], -1)\";\n",
       "                var nbb_formatted_code = \"ways = [[0], [0], [0], [1], [1], [1]]\\nX, Y = k_sample_transform([np.asarray(g) for g in groups], ways=ways)\\nX = X[:, :, :3].reshape(X.shape[0], -1)\";\n",
       "                var nbb_cells = Jupyter.notebook.get_cells();\n",
       "                for (var i = 0; i < nbb_cells.length; ++i) {\n",
       "                    if (nbb_cells[i].input_prompt_number == nbb_cell_id) {\n",
       "                        if (nbb_cells[i].get_text() == nbb_unformatted_code) {\n",
       "                             nbb_cells[i].set_text(nbb_formatted_code);\n",
       "                        }\n",
       "                        break;\n",
       "                    }\n",
       "                }\n",
       "            }, 500);\n",
       "            "
      ],
      "text/plain": [
       "<IPython.core.display.Javascript object>"
      ]
     },
     "metadata": {},
     "output_type": "display_data"
    }
   ],
   "source": [
    "ways = [[0], [0], [0], [1], [1], [1]]\n",
    "X, Y = k_sample_transform([np.asarray(g) for g in groups], ways=ways)\n",
    "X = X[:, :, :3].reshape(X.shape[0], -1)"
   ]
  },
  {
   "cell_type": "code",
   "execution_count": 89,
   "metadata": {},
   "outputs": [
    {
     "data": {
      "application/javascript": [
       "\n",
       "            setTimeout(function() {\n",
       "                var nbb_cell_id = 89;\n",
       "                var nbb_unformatted_code = \"X_dists = pairwise_distances(X, metric=\\\"euclidean\\\")\\nY_dists = pairwise_distances(Y, metric=\\\"sqeuclidean\\\") / 2\";\n",
       "                var nbb_formatted_code = \"X_dists = pairwise_distances(X, metric=\\\"euclidean\\\")\\nY_dists = pairwise_distances(Y, metric=\\\"sqeuclidean\\\") / 2\";\n",
       "                var nbb_cells = Jupyter.notebook.get_cells();\n",
       "                for (var i = 0; i < nbb_cells.length; ++i) {\n",
       "                    if (nbb_cells[i].input_prompt_number == nbb_cell_id) {\n",
       "                        if (nbb_cells[i].get_text() == nbb_unformatted_code) {\n",
       "                             nbb_cells[i].set_text(nbb_formatted_code);\n",
       "                        }\n",
       "                        break;\n",
       "                    }\n",
       "                }\n",
       "            }, 500);\n",
       "            "
      ],
      "text/plain": [
       "<IPython.core.display.Javascript object>"
      ]
     },
     "metadata": {},
     "output_type": "display_data"
    }
   ],
   "source": [
    "X_dists = pairwise_distances(X, metric=\"euclidean\")\n",
    "Y_dists = pairwise_distances(Y, metric=\"sqeuclidean\") / 2"
   ]
  },
  {
   "cell_type": "code",
   "execution_count": 92,
   "metadata": {},
   "outputs": [
    {
     "data": {
      "application/javascript": [
       "\n",
       "            setTimeout(function() {\n",
       "                var nbb_cell_id = 92;\n",
       "                var nbb_unformatted_code = \"en_disc, en_pval = disc_pval(X_dists, Y[:,0], n_permutations=1000)\";\n",
       "                var nbb_formatted_code = \"en_disc, en_pval = disc_pval(X_dists, Y[:, 0], n_permutations=1000)\";\n",
       "                var nbb_cells = Jupyter.notebook.get_cells();\n",
       "                for (var i = 0; i < nbb_cells.length; ++i) {\n",
       "                    if (nbb_cells[i].input_prompt_number == nbb_cell_id) {\n",
       "                        if (nbb_cells[i].get_text() == nbb_unformatted_code) {\n",
       "                             nbb_cells[i].set_text(nbb_formatted_code);\n",
       "                        }\n",
       "                        break;\n",
       "                    }\n",
       "                }\n",
       "            }, 500);\n",
       "            "
      ],
      "text/plain": [
       "<IPython.core.display.Javascript object>"
      ]
     },
     "metadata": {},
     "output_type": "display_data"
    }
   ],
   "source": [
    "en_disc, en_pval = disc_pval(X_dists, Y[:, 0], n_permutations=1000)"
   ]
  },
  {
   "cell_type": "code",
   "execution_count": 91,
   "metadata": {},
   "outputs": [
    {
     "data": {
      "text/plain": [
       "0.49017812963879265"
      ]
     },
     "execution_count": 91,
     "metadata": {},
     "output_type": "execute_result"
    },
    {
     "data": {
      "application/javascript": [
       "\n",
       "            setTimeout(function() {\n",
       "                var nbb_cell_id = 91;\n",
       "                var nbb_unformatted_code = \"en_disc\";\n",
       "                var nbb_formatted_code = \"en_disc\";\n",
       "                var nbb_cells = Jupyter.notebook.get_cells();\n",
       "                for (var i = 0; i < nbb_cells.length; ++i) {\n",
       "                    if (nbb_cells[i].input_prompt_number == nbb_cell_id) {\n",
       "                        if (nbb_cells[i].get_text() == nbb_unformatted_code) {\n",
       "                             nbb_cells[i].set_text(nbb_formatted_code);\n",
       "                        }\n",
       "                        break;\n",
       "                    }\n",
       "                }\n",
       "            }, 500);\n",
       "            "
      ],
      "text/plain": [
       "<IPython.core.display.Javascript object>"
      ]
     },
     "metadata": {},
     "output_type": "display_data"
    }
   ],
   "source": [
    "en_disc"
   ]
  },
  {
   "cell_type": "code",
   "execution_count": 93,
   "metadata": {},
   "outputs": [
    {
     "data": {
      "text/plain": [
       "0.000999000999000999"
      ]
     },
     "execution_count": 93,
     "metadata": {},
     "output_type": "execute_result"
    },
    {
     "data": {
      "application/javascript": [
       "\n",
       "            setTimeout(function() {\n",
       "                var nbb_cell_id = 93;\n",
       "                var nbb_unformatted_code = \"en_pval\";\n",
       "                var nbb_formatted_code = \"en_pval\";\n",
       "                var nbb_cells = Jupyter.notebook.get_cells();\n",
       "                for (var i = 0; i < nbb_cells.length; ++i) {\n",
       "                    if (nbb_cells[i].input_prompt_number == nbb_cell_id) {\n",
       "                        if (nbb_cells[i].get_text() == nbb_unformatted_code) {\n",
       "                             nbb_cells[i].set_text(nbb_formatted_code);\n",
       "                        }\n",
       "                        break;\n",
       "                    }\n",
       "                }\n",
       "            }, 500);\n",
       "            "
      ],
      "text/plain": [
       "<IPython.core.display.Javascript object>"
      ]
     },
     "metadata": {},
     "output_type": "display_data"
    }
   ],
   "source": [
    "en_pval"
   ]
  },
  {
   "cell_type": "markdown",
   "metadata": {},
   "source": [
    "## Within Expert states"
   ]
  },
  {
   "cell_type": "code",
   "execution_count": 94,
   "metadata": {},
   "outputs": [
    {
     "data": {
      "application/javascript": [
       "\n",
       "            setTimeout(function() {\n",
       "                var nbb_cell_id = 94;\n",
       "                var nbb_unformatted_code = \"ways = [[0], [1], [2]]\\nX, Y = k_sample_transform([np.asarray(groups[i]) for i in [0, 1, 2]], ways=ways)\\nX = X[:, :, :3].reshape(X.shape[0], -1)\";\n",
       "                var nbb_formatted_code = \"ways = [[0], [1], [2]]\\nX, Y = k_sample_transform([np.asarray(groups[i]) for i in [0, 1, 2]], ways=ways)\\nX = X[:, :, :3].reshape(X.shape[0], -1)\";\n",
       "                var nbb_cells = Jupyter.notebook.get_cells();\n",
       "                for (var i = 0; i < nbb_cells.length; ++i) {\n",
       "                    if (nbb_cells[i].input_prompt_number == nbb_cell_id) {\n",
       "                        if (nbb_cells[i].get_text() == nbb_unformatted_code) {\n",
       "                             nbb_cells[i].set_text(nbb_formatted_code);\n",
       "                        }\n",
       "                        break;\n",
       "                    }\n",
       "                }\n",
       "            }, 500);\n",
       "            "
      ],
      "text/plain": [
       "<IPython.core.display.Javascript object>"
      ]
     },
     "metadata": {},
     "output_type": "display_data"
    }
   ],
   "source": [
    "ways = [[0], [1], [2]]\n",
    "X, Y = k_sample_transform([np.asarray(groups[i]) for i in [0, 1, 2]], ways=ways)\n",
    "X = X[:, :, :3].reshape(X.shape[0], -1)"
   ]
  },
  {
   "cell_type": "code",
   "execution_count": 95,
   "metadata": {},
   "outputs": [
    {
     "data": {
      "application/javascript": [
       "\n",
       "            setTimeout(function() {\n",
       "                var nbb_cell_id = 95;\n",
       "                var nbb_unformatted_code = \"X_dists = pairwise_distances(X, metric=\\\"euclidean\\\")\\nY_dists = pairwise_distances(Y, metric=\\\"sqeuclidean\\\") / 2\";\n",
       "                var nbb_formatted_code = \"X_dists = pairwise_distances(X, metric=\\\"euclidean\\\")\\nY_dists = pairwise_distances(Y, metric=\\\"sqeuclidean\\\") / 2\";\n",
       "                var nbb_cells = Jupyter.notebook.get_cells();\n",
       "                for (var i = 0; i < nbb_cells.length; ++i) {\n",
       "                    if (nbb_cells[i].input_prompt_number == nbb_cell_id) {\n",
       "                        if (nbb_cells[i].get_text() == nbb_unformatted_code) {\n",
       "                             nbb_cells[i].set_text(nbb_formatted_code);\n",
       "                        }\n",
       "                        break;\n",
       "                    }\n",
       "                }\n",
       "            }, 500);\n",
       "            "
      ],
      "text/plain": [
       "<IPython.core.display.Javascript object>"
      ]
     },
     "metadata": {},
     "output_type": "display_data"
    }
   ],
   "source": [
    "X_dists = pairwise_distances(X, metric=\"euclidean\")\n",
    "Y_dists = pairwise_distances(Y, metric=\"sqeuclidean\") / 2"
   ]
  },
  {
   "cell_type": "code",
   "execution_count": 96,
   "metadata": {},
   "outputs": [
    {
     "data": {
      "text/plain": [
       "<matplotlib.axes._subplots.AxesSubplot at 0x7fd0bf38a190>"
      ]
     },
     "execution_count": 96,
     "metadata": {},
     "output_type": "execute_result"
    },
    {
     "data": {
      "image/png": "[encoded data removed]",
      "text/plain": [
       "<Figure size 720x720 with 2 Axes>"
      ]
     },
     "metadata": {},
     "output_type": "display_data"
    },
    {
     "data": {
      "application/javascript": [
       "\n",
       "            setTimeout(function() {\n",
       "                var nbb_cell_id = 96;\n",
       "                var nbb_unformatted_code = \"heatmap(Y_dists)\";\n",
       "                var nbb_formatted_code = \"heatmap(Y_dists)\";\n",
       "                var nbb_cells = Jupyter.notebook.get_cells();\n",
       "                for (var i = 0; i < nbb_cells.length; ++i) {\n",
       "                    if (nbb_cells[i].input_prompt_number == nbb_cell_id) {\n",
       "                        if (nbb_cells[i].get_text() == nbb_unformatted_code) {\n",
       "                             nbb_cells[i].set_text(nbb_formatted_code);\n",
       "                        }\n",
       "                        break;\n",
       "                    }\n",
       "                }\n",
       "            }, 500);\n",
       "            "
      ],
      "text/plain": [
       "<IPython.core.display.Javascript object>"
      ]
     },
     "metadata": {},
     "output_type": "display_data"
    }
   ],
   "source": [
    "heatmap(Y_dists)"
   ]
  },
  {
   "cell_type": "code",
   "execution_count": 97,
   "metadata": {},
   "outputs": [
    {
     "data": {
      "application/javascript": [
       "\n",
       "            setTimeout(function() {\n",
       "                var nbb_cell_id = 97;\n",
       "                var nbb_unformatted_code = \"e_states_stat, e_stats_pval = disc_pval(X_dists, Y[:, 0], n_permutations=1000)\";\n",
       "                var nbb_formatted_code = \"e_states_stat, e_stats_pval = disc_pval(X_dists, Y[:, 0], n_permutations=1000)\";\n",
       "                var nbb_cells = Jupyter.notebook.get_cells();\n",
       "                for (var i = 0; i < nbb_cells.length; ++i) {\n",
       "                    if (nbb_cells[i].input_prompt_number == nbb_cell_id) {\n",
       "                        if (nbb_cells[i].get_text() == nbb_unformatted_code) {\n",
       "                             nbb_cells[i].set_text(nbb_formatted_code);\n",
       "                        }\n",
       "                        break;\n",
       "                    }\n",
       "                }\n",
       "            }, 500);\n",
       "            "
      ],
      "text/plain": [
       "<IPython.core.display.Javascript object>"
      ]
     },
     "metadata": {},
     "output_type": "display_data"
    }
   ],
   "source": [
    "e_states_stat, e_stats_pval = disc_pval(X_dists, Y[:, 0], n_permutations=1000)"
   ]
  },
  {
   "cell_type": "code",
   "execution_count": 98,
   "metadata": {},
   "outputs": [
    {
     "name": "stdout",
     "output_type": "stream",
     "text": [
      "Stat 0.5012225867880163\n",
      "pval 0.6237623762376241\n"
     ]
    },
    {
     "data": {
      "application/javascript": [
       "\n",
       "            setTimeout(function() {\n",
       "                var nbb_cell_id = 98;\n",
       "                var nbb_unformatted_code = \"print(f\\\"Stat {e_states_stat}\\\")\\nprint(f\\\"pval {e_states_pval}\\\")\";\n",
       "                var nbb_formatted_code = \"print(f\\\"Stat {e_states_stat}\\\")\\nprint(f\\\"pval {e_states_pval}\\\")\";\n",
       "                var nbb_cells = Jupyter.notebook.get_cells();\n",
       "                for (var i = 0; i < nbb_cells.length; ++i) {\n",
       "                    if (nbb_cells[i].input_prompt_number == nbb_cell_id) {\n",
       "                        if (nbb_cells[i].get_text() == nbb_unformatted_code) {\n",
       "                             nbb_cells[i].set_text(nbb_formatted_code);\n",
       "                        }\n",
       "                        break;\n",
       "                    }\n",
       "                }\n",
       "            }, 500);\n",
       "            "
      ],
      "text/plain": [
       "<IPython.core.display.Javascript object>"
      ]
     },
     "metadata": {},
     "output_type": "display_data"
    }
   ],
   "source": [
    "print(f\"Stat {e_states_stat}\")\n",
    "print(f\"pval {e_states_pval}\")"
   ]
  },
  {
   "cell_type": "markdown",
   "metadata": {},
   "source": [
    "## Experts med vs. resting"
   ]
  },
  {
   "cell_type": "code",
   "execution_count": 99,
   "metadata": {},
   "outputs": [
    {
     "data": {
      "application/javascript": [
       "\n",
       "            setTimeout(function() {\n",
       "                var nbb_cell_id = 99;\n",
       "                var nbb_unformatted_code = \"ways = [[0], [1], [1]]\\nX, Y = k_sample_transform([np.asarray(groups[i]) for i in [0, 1, 2]], ways=ways)\\nX = X[:, :, :3].reshape(X.shape[0], -1)\";\n",
       "                var nbb_formatted_code = \"ways = [[0], [1], [1]]\\nX, Y = k_sample_transform([np.asarray(groups[i]) for i in [0, 1, 2]], ways=ways)\\nX = X[:, :, :3].reshape(X.shape[0], -1)\";\n",
       "                var nbb_cells = Jupyter.notebook.get_cells();\n",
       "                for (var i = 0; i < nbb_cells.length; ++i) {\n",
       "                    if (nbb_cells[i].input_prompt_number == nbb_cell_id) {\n",
       "                        if (nbb_cells[i].get_text() == nbb_unformatted_code) {\n",
       "                             nbb_cells[i].set_text(nbb_formatted_code);\n",
       "                        }\n",
       "                        break;\n",
       "                    }\n",
       "                }\n",
       "            }, 500);\n",
       "            "
      ],
      "text/plain": [
       "<IPython.core.display.Javascript object>"
      ]
     },
     "metadata": {},
     "output_type": "display_data"
    }
   ],
   "source": [
    "ways = [[0], [1], [1]]\n",
    "X, Y = k_sample_transform([np.asarray(groups[i]) for i in [0, 1, 2]], ways=ways)\n",
    "X = X[:, :, :3].reshape(X.shape[0], -1)"
   ]
  },
  {
   "cell_type": "code",
   "execution_count": 100,
   "metadata": {},
   "outputs": [
    {
     "data": {
      "application/javascript": [
       "\n",
       "            setTimeout(function() {\n",
       "                var nbb_cell_id = 100;\n",
       "                var nbb_unformatted_code = \"X_dists = pairwise_distances(X, metric=\\\"euclidean\\\")\\nY_dists = pairwise_distances(Y, metric=\\\"sqeuclidean\\\") / 2\";\n",
       "                var nbb_formatted_code = \"X_dists = pairwise_distances(X, metric=\\\"euclidean\\\")\\nY_dists = pairwise_distances(Y, metric=\\\"sqeuclidean\\\") / 2\";\n",
       "                var nbb_cells = Jupyter.notebook.get_cells();\n",
       "                for (var i = 0; i < nbb_cells.length; ++i) {\n",
       "                    if (nbb_cells[i].input_prompt_number == nbb_cell_id) {\n",
       "                        if (nbb_cells[i].get_text() == nbb_unformatted_code) {\n",
       "                             nbb_cells[i].set_text(nbb_formatted_code);\n",
       "                        }\n",
       "                        break;\n",
       "                    }\n",
       "                }\n",
       "            }, 500);\n",
       "            "
      ],
      "text/plain": [
       "<IPython.core.display.Javascript object>"
      ]
     },
     "metadata": {},
     "output_type": "display_data"
    }
   ],
   "source": [
    "X_dists = pairwise_distances(X, metric=\"euclidean\")\n",
    "Y_dists = pairwise_distances(Y, metric=\"sqeuclidean\") / 2"
   ]
  },
  {
   "cell_type": "code",
   "execution_count": 101,
   "metadata": {},
   "outputs": [
    {
     "data": {
      "text/plain": [
       "<matplotlib.axes._subplots.AxesSubplot at 0x7fd0bf38a110>"
      ]
     },
     "execution_count": 101,
     "metadata": {},
     "output_type": "execute_result"
    },
    {
     "data": {
      "image/png": "[encoded data removed]",
      "text/plain": [
       "<Figure size 720x720 with 2 Axes>"
      ]
     },
     "metadata": {},
     "output_type": "display_data"
    },
    {
     "data": {
      "application/javascript": [
       "\n",
       "            setTimeout(function() {\n",
       "                var nbb_cell_id = 101;\n",
       "                var nbb_unformatted_code = \"heatmap(Y_dists)\";\n",
       "                var nbb_formatted_code = \"heatmap(Y_dists)\";\n",
       "                var nbb_cells = Jupyter.notebook.get_cells();\n",
       "                for (var i = 0; i < nbb_cells.length; ++i) {\n",
       "                    if (nbb_cells[i].input_prompt_number == nbb_cell_id) {\n",
       "                        if (nbb_cells[i].get_text() == nbb_unformatted_code) {\n",
       "                             nbb_cells[i].set_text(nbb_formatted_code);\n",
       "                        }\n",
       "                        break;\n",
       "                    }\n",
       "                }\n",
       "            }, 500);\n",
       "            "
      ],
      "text/plain": [
       "<IPython.core.display.Javascript object>"
      ]
     },
     "metadata": {},
     "output_type": "display_data"
    }
   ],
   "source": [
    "heatmap(Y_dists)"
   ]
  },
  {
   "cell_type": "code",
   "execution_count": 102,
   "metadata": {},
   "outputs": [
    {
     "data": {
      "application/javascript": [
       "\n",
       "            setTimeout(function() {\n",
       "                var nbb_cell_id = 102;\n",
       "                var nbb_unformatted_code = \"e_rmed_stat, e_rmed_pval = disc_pval(X_dists, Y[:, 0], n_permutations=1000)\";\n",
       "                var nbb_formatted_code = \"e_rmed_stat, e_rmed_pval = disc_pval(X_dists, Y[:, 0], n_permutations=1000)\";\n",
       "                var nbb_cells = Jupyter.notebook.get_cells();\n",
       "                for (var i = 0; i < nbb_cells.length; ++i) {\n",
       "                    if (nbb_cells[i].input_prompt_number == nbb_cell_id) {\n",
       "                        if (nbb_cells[i].get_text() == nbb_unformatted_code) {\n",
       "                             nbb_cells[i].set_text(nbb_formatted_code);\n",
       "                        }\n",
       "                        break;\n",
       "                    }\n",
       "                }\n",
       "            }, 500);\n",
       "            "
      ],
      "text/plain": [
       "<IPython.core.display.Javascript object>"
      ]
     },
     "metadata": {},
     "output_type": "display_data"
    }
   ],
   "source": [
    "e_rmed_stat, e_rmed_pval = disc_pval(X_dists, Y[:, 0], n_permutations=1000)"
   ]
  },
  {
   "cell_type": "code",
   "execution_count": 103,
   "metadata": {},
   "outputs": [
    {
     "name": "stdout",
     "output_type": "stream",
     "text": [
      "Stat 0.5012225867880163\n",
      "pval 0.5524475524475551\n"
     ]
    },
    {
     "data": {
      "application/javascript": [
       "\n",
       "            setTimeout(function() {\n",
       "                var nbb_cell_id = 103;\n",
       "                var nbb_unformatted_code = \"print(f\\\"Stat {e_rmed_stat}\\\")\\nprint(f\\\"pval {e_rmed_pval}\\\")\";\n",
       "                var nbb_formatted_code = \"print(f\\\"Stat {e_rmed_stat}\\\")\\nprint(f\\\"pval {e_rmed_pval}\\\")\";\n",
       "                var nbb_cells = Jupyter.notebook.get_cells();\n",
       "                for (var i = 0; i < nbb_cells.length; ++i) {\n",
       "                    if (nbb_cells[i].input_prompt_number == nbb_cell_id) {\n",
       "                        if (nbb_cells[i].get_text() == nbb_unformatted_code) {\n",
       "                             nbb_cells[i].set_text(nbb_formatted_code);\n",
       "                        }\n",
       "                        break;\n",
       "                    }\n",
       "                }\n",
       "            }, 500);\n",
       "            "
      ],
      "text/plain": [
       "<IPython.core.display.Javascript object>"
      ]
     },
     "metadata": {},
     "output_type": "display_data"
    }
   ],
   "source": [
    "print(f\"Stat {e_rmed_stat}\")\n",
    "print(f\"pval {e_rmed_pval}\")"
   ]
  },
  {
   "cell_type": "markdown",
   "metadata": {},
   "source": [
    "## Experts med vs novices med"
   ]
  },
  {
   "cell_type": "code",
   "execution_count": 104,
   "metadata": {},
   "outputs": [
    {
     "name": "stdout",
     "output_type": "stream",
     "text": [
      "Stat 0.488032200350354\n",
      "pval 0.001998001998001998\n"
     ]
    },
    {
     "data": {
      "application/javascript": [
       "\n",
       "            setTimeout(function() {\n",
       "                var nbb_cell_id = 104;\n",
       "                var nbb_unformatted_code = \"ways = [[0], [0], [1], [1]]\\nX, Y = k_sample_transform([np.asarray(groups[i]) for i in [1, 2, 4, 5]], ways=ways)\\nX = X[:, :, :3].reshape(X.shape[0], -1)\\n\\nX_dists = pairwise_distances(X, metric=\\\"euclidean\\\")\\nY_dists = pairwise_distances(Y, metric=\\\"sqeuclidean\\\") / 2\\n\\nen_med_stat, en_med_pval = disc_pval(X_dists, Y[:, 0], n_permutations=1000)\\nprint(f\\\"Stat {en_med_stat}\\\")\\nprint(f\\\"pval {en_med_pval}\\\")\";\n",
       "                var nbb_formatted_code = \"ways = [[0], [0], [1], [1]]\\nX, Y = k_sample_transform([np.asarray(groups[i]) for i in [1, 2, 4, 5]], ways=ways)\\nX = X[:, :, :3].reshape(X.shape[0], -1)\\n\\nX_dists = pairwise_distances(X, metric=\\\"euclidean\\\")\\nY_dists = pairwise_distances(Y, metric=\\\"sqeuclidean\\\") / 2\\n\\nen_med_stat, en_med_pval = disc_pval(X_dists, Y[:, 0], n_permutations=1000)\\nprint(f\\\"Stat {en_med_stat}\\\")\\nprint(f\\\"pval {en_med_pval}\\\")\";\n",
       "                var nbb_cells = Jupyter.notebook.get_cells();\n",
       "                for (var i = 0; i < nbb_cells.length; ++i) {\n",
       "                    if (nbb_cells[i].input_prompt_number == nbb_cell_id) {\n",
       "                        if (nbb_cells[i].get_text() == nbb_unformatted_code) {\n",
       "                             nbb_cells[i].set_text(nbb_formatted_code);\n",
       "                        }\n",
       "                        break;\n",
       "                    }\n",
       "                }\n",
       "            }, 500);\n",
       "            "
      ],
      "text/plain": [
       "<IPython.core.display.Javascript object>"
      ]
     },
     "metadata": {},
     "output_type": "display_data"
    }
   ],
   "source": [
    "ways = [[0], [0], [1], [1]]\n",
    "X, Y = k_sample_transform([np.asarray(groups[i]) for i in [1, 2, 4, 5]], ways=ways)\n",
    "X = X[:, :, :3].reshape(X.shape[0], -1)\n",
    "\n",
    "X_dists = pairwise_distances(X, metric=\"euclidean\")\n",
    "Y_dists = pairwise_distances(Y, metric=\"sqeuclidean\") / 2\n",
    "\n",
    "en_med_stat, en_med_pval = disc_pval(X_dists, Y[:, 0], n_permutations=1000)\n",
    "print(f\"Stat {en_med_stat}\")\n",
    "print(f\"pval {en_med_pval}\")"
   ]
  },
  {
   "cell_type": "markdown",
   "metadata": {},
   "source": [
    "## Experts med vs novices rest"
   ]
  },
  {
   "cell_type": "code",
   "execution_count": 105,
   "metadata": {},
   "outputs": [
    {
     "name": "stdout",
     "output_type": "stream",
     "text": [
      "Stat 0.4879533217713652\n",
      "pval 0.011988011988011991\n"
     ]
    },
    {
     "data": {
      "application/javascript": [
       "\n",
       "            setTimeout(function() {\n",
       "                var nbb_cell_id = 105;\n",
       "                var nbb_unformatted_code = \"ways = [[0], [0], [1]]\\nX, Y = k_sample_transform([np.asarray(groups[i]) for i in [1, 2, 3]], ways=ways)\\nX = X[:, :, :3].reshape(X.shape[0], -1)\\n\\nX_dists = pairwise_distances(X, metric=\\\"euclidean\\\")\\nY_dists = pairwise_distances(Y, metric=\\\"sqeuclidean\\\") / 2\\n\\nen_medr_stat, en_medr_pval = disc_pval(X_dists, Y[:, 0], n_permutations=1000)\\nprint(f\\\"Stat {en_medr_stat}\\\")\\nprint(f\\\"pval {en_medr_pval}\\\")\";\n",
       "                var nbb_formatted_code = \"ways = [[0], [0], [1]]\\nX, Y = k_sample_transform([np.asarray(groups[i]) for i in [1, 2, 3]], ways=ways)\\nX = X[:, :, :3].reshape(X.shape[0], -1)\\n\\nX_dists = pairwise_distances(X, metric=\\\"euclidean\\\")\\nY_dists = pairwise_distances(Y, metric=\\\"sqeuclidean\\\") / 2\\n\\nen_medr_stat, en_medr_pval = disc_pval(X_dists, Y[:, 0], n_permutations=1000)\\nprint(f\\\"Stat {en_medr_stat}\\\")\\nprint(f\\\"pval {en_medr_pval}\\\")\";\n",
       "                var nbb_cells = Jupyter.notebook.get_cells();\n",
       "                for (var i = 0; i < nbb_cells.length; ++i) {\n",
       "                    if (nbb_cells[i].input_prompt_number == nbb_cell_id) {\n",
       "                        if (nbb_cells[i].get_text() == nbb_unformatted_code) {\n",
       "                             nbb_cells[i].set_text(nbb_formatted_code);\n",
       "                        }\n",
       "                        break;\n",
       "                    }\n",
       "                }\n",
       "            }, 500);\n",
       "            "
      ],
      "text/plain": [
       "<IPython.core.display.Javascript object>"
      ]
     },
     "metadata": {},
     "output_type": "display_data"
    }
   ],
   "source": [
    "ways = [[0], [0], [1]]\n",
    "X, Y = k_sample_transform([np.asarray(groups[i]) for i in [1, 2, 3]], ways=ways)\n",
    "X = X[:, :, :3].reshape(X.shape[0], -1)\n",
    "\n",
    "X_dists = pairwise_distances(X, metric=\"euclidean\")\n",
    "Y_dists = pairwise_distances(Y, metric=\"sqeuclidean\") / 2\n",
    "\n",
    "en_medr_stat, en_medr_pval = disc_pval(X_dists, Y[:, 0], n_permutations=1000)\n",
    "print(f\"Stat {en_medr_stat}\")\n",
    "print(f\"pval {en_medr_pval}\")"
   ]
  },
  {
   "cell_type": "code",
   "execution_count": null,
   "metadata": {},
   "outputs": [],
   "source": []
  }
 ],
 "metadata": {
  "kernelspec": {
   "display_name": "Python 3.7.6 64-bit ('base': conda)",
   "language": "python",
   "name": "python37664bitbaseconda19db8c3c14cd47c29dff39736515a2a6"
  },
  "language_info": {
   "codemirror_mode": {
    "name": "ipython",
    "version": 3
   },
   "file_extension": ".py",
   "mimetype": "text/x-python",
   "name": "python",
   "nbconvert_exporter": "python",
   "pygments_lexer": "ipython3",
   "version": "3.7.6"
  }
 },
 "nbformat": 4,
 "nbformat_minor": 4
}

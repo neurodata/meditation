{
 "cells": [
  {
   "cell_type": "markdown",
   "metadata": {},
   "source": [
    "# Null distributions and Test Statistics of regions with significance"
   ]
  },
  {
   "cell_type": "code",
   "execution_count": 1,
   "metadata": {},
   "outputs": [
    {
     "name": "stderr",
     "output_type": "stream",
     "text": [
      "/home/rflperry/miniconda3/lib/python3.7/site-packages/sklearn/utils/deprecation.py:143: FutureWarning: The sklearn.mixture.gaussian_mixture module is  deprecated in version 0.22 and will be removed in version 0.24. The corresponding classes / functions should instead be imported from sklearn.mixture. Anything that cannot be imported from sklearn.mixture is now part of the private API.\n",
      "  warnings.warn(message, FutureWarning)\n"
     ]
    },
    {
     "data": {
      "application/javascript": [
       "\n",
       "            setTimeout(function() {\n",
       "                var nbb_cell_id = 1;\n",
       "                var nbb_unformatted_code = \"import numpy as np\\nfrom pathlib import Path\\nimport matplotlib.pyplot as plt\\nimport matplotlib.ticker as ticker\\nimport pickle\\n\\n%matplotlib inline\\n\\nimport seaborn as sns\\n\\nsns.set(color_codes=True, style=\\\"white\\\", context=\\\"talk\\\", font_scale=1)\\nPALETTE = sns.color_palette(\\\"Set1\\\")\\n\\nfrom sklearn.metrics import pairwise_distances\\nfrom sklearn.manifold import MDS\\nfrom hyppo.independence import Dcorr\\nfrom scipy.stats import multiscale_graphcorr\\nfrom hyppo.ksample._utils import k_sample_transform\\nfrom graspy.plot import heatmap, pairplot\\n\\nimport sys\\n\\nsys.path.append(\\\"../\\\")\\nfrom src.tools.utils import get_files, get_latents\\n\\n%load_ext autoreload\\n%autoreload 2\\n%load_ext nb_black\";\n",
       "                var nbb_formatted_code = \"import numpy as np\\nfrom pathlib import Path\\nimport matplotlib.pyplot as plt\\nimport matplotlib.ticker as ticker\\nimport pickle\\n\\n%matplotlib inline\\n\\nimport seaborn as sns\\n\\nsns.set(color_codes=True, style=\\\"white\\\", context=\\\"talk\\\", font_scale=1)\\nPALETTE = sns.color_palette(\\\"Set1\\\")\\n\\nfrom sklearn.metrics import pairwise_distances\\nfrom sklearn.manifold import MDS\\nfrom hyppo.independence import Dcorr\\nfrom scipy.stats import multiscale_graphcorr\\nfrom hyppo.ksample._utils import k_sample_transform\\nfrom graspy.plot import heatmap, pairplot\\n\\nimport sys\\n\\nsys.path.append(\\\"../\\\")\\nfrom src.tools.utils import get_files, get_latents\\n\\n%load_ext autoreload\\n%autoreload 2\\n%load_ext nb_black\";\n",
       "                var nbb_cells = Jupyter.notebook.get_cells();\n",
       "                for (var i = 0; i < nbb_cells.length; ++i) {\n",
       "                    if (nbb_cells[i].input_prompt_number == nbb_cell_id) {\n",
       "                        if (nbb_cells[i].get_text() == nbb_unformatted_code) {\n",
       "                             nbb_cells[i].set_text(nbb_formatted_code);\n",
       "                        }\n",
       "                        break;\n",
       "                    }\n",
       "                }\n",
       "            }, 500);\n",
       "            "
      ],
      "text/plain": [
       "<IPython.core.display.Javascript object>"
      ]
     },
     "metadata": {},
     "output_type": "display_data"
    }
   ],
   "source": [
    "import numpy as np\n",
    "from pathlib import Path\n",
    "import matplotlib.pyplot as plt\n",
    "import matplotlib.ticker as ticker\n",
    "import pickle\n",
    "\n",
    "%matplotlib inline\n",
    "\n",
    "import seaborn as sns\n",
    "\n",
    "sns.set(color_codes=True, style=\"white\", context=\"talk\", font_scale=1)\n",
    "PALETTE = sns.color_palette(\"Set1\")\n",
    "\n",
    "from sklearn.metrics import pairwise_distances\n",
    "from sklearn.manifold import MDS\n",
    "from hyppo.independence import Dcorr\n",
    "from scipy.stats import multiscale_graphcorr\n",
    "from hyppo.ksample._utils import k_sample_transform\n",
    "from graspy.plot import heatmap, pairplot\n",
    "\n",
    "import sys\n",
    "\n",
    "sys.path.append(\"../\")\n",
    "from src.tools.utils import get_files, get_latents\n",
    "\n",
    "%load_ext autoreload\n",
    "%autoreload 2\n",
    "%load_ext nb_black"
   ]
  },
  {
   "cell_type": "code",
   "execution_count": 2,
   "metadata": {},
   "outputs": [
    {
     "data": {
      "application/javascript": [
       "\n",
       "            setTimeout(function() {\n",
       "                var nbb_cell_id = 2;\n",
       "                var nbb_unformatted_code = \"## Define paths, get raw\\nbase_dir = Path(\\\"/mnt/ssd3/ronan/data/gcca_05-26-10:39_min_rank-ZG3/\\\")\\ngroups, labels = get_latents(base_dir, flag=\\\"_gcca\\\")\\n\\n## Save path\\nsave_dir = Path(\\\"../reports/significant_region_null_distributions\\\")\";\n",
       "                var nbb_formatted_code = \"## Define paths, get raw\\nbase_dir = Path(\\\"/mnt/ssd3/ronan/data/gcca_05-26-10:39_min_rank-ZG3/\\\")\\ngroups, labels = get_latents(base_dir, flag=\\\"_gcca\\\")\\n\\n## Save path\\nsave_dir = Path(\\\"../reports/significant_region_null_distributions\\\")\";\n",
       "                var nbb_cells = Jupyter.notebook.get_cells();\n",
       "                for (var i = 0; i < nbb_cells.length; ++i) {\n",
       "                    if (nbb_cells[i].input_prompt_number == nbb_cell_id) {\n",
       "                        if (nbb_cells[i].get_text() == nbb_unformatted_code) {\n",
       "                             nbb_cells[i].set_text(nbb_formatted_code);\n",
       "                        }\n",
       "                        break;\n",
       "                    }\n",
       "                }\n",
       "            }, 500);\n",
       "            "
      ],
      "text/plain": [
       "<IPython.core.display.Javascript object>"
      ]
     },
     "metadata": {},
     "output_type": "display_data"
    }
   ],
   "source": [
    "## Define paths, get raw\n",
    "base_dir = Path(\"/mnt/ssd3/ronan/data/gcca_05-26-10:39_min_rank-ZG3/\")\n",
    "groups, labels = get_latents(base_dir, flag=\"_gcca\")\n",
    "\n",
    "## Save path\n",
    "save_dir = Path(\"../reports/significant_region_null_distributions\")"
   ]
  },
  {
   "cell_type": "code",
   "execution_count": 3,
   "metadata": {},
   "outputs": [
    {
     "data": {
      "application/javascript": [
       "\n",
       "            setTimeout(function() {\n",
       "                var nbb_cell_id = 3;\n",
       "                var nbb_unformatted_code = \"y = np.repeat(labels, [len(g) for g in groups], axis=0)\\nlabel_transform = {\\n    \\\"e\\\": \\\"Expert\\\",\\n    \\\"n\\\": \\\"Novice\\\",\\n    \\\"compassion\\\": \\\"Compasson\\\",\\n    \\\"restingstate\\\": \\\"Resting\\\",\\n    \\\"openmonitoring\\\": \\\"Open\\\",\\n}\";\n",
       "                var nbb_formatted_code = \"y = np.repeat(labels, [len(g) for g in groups], axis=0)\\nlabel_transform = {\\n    \\\"e\\\": \\\"Expert\\\",\\n    \\\"n\\\": \\\"Novice\\\",\\n    \\\"compassion\\\": \\\"Compasson\\\",\\n    \\\"restingstate\\\": \\\"Resting\\\",\\n    \\\"openmonitoring\\\": \\\"Open\\\",\\n}\";\n",
       "                var nbb_cells = Jupyter.notebook.get_cells();\n",
       "                for (var i = 0; i < nbb_cells.length; ++i) {\n",
       "                    if (nbb_cells[i].input_prompt_number == nbb_cell_id) {\n",
       "                        if (nbb_cells[i].get_text() == nbb_unformatted_code) {\n",
       "                             nbb_cells[i].set_text(nbb_formatted_code);\n",
       "                        }\n",
       "                        break;\n",
       "                    }\n",
       "                }\n",
       "            }, 500);\n",
       "            "
      ],
      "text/plain": [
       "<IPython.core.display.Javascript object>"
      ]
     },
     "metadata": {},
     "output_type": "display_data"
    }
   ],
   "source": [
    "y = np.repeat(labels, [len(g) for g in groups], axis=0)\n",
    "label_transform = {\n",
    "    \"e\": \"Expert\",\n",
    "    \"n\": \"Novice\",\n",
    "    \"compassion\": \"Compasson\",\n",
    "    \"restingstate\": \"Resting\",\n",
    "    \"openmonitoring\": \"Open\",\n",
    "}"
   ]
  },
  {
   "cell_type": "code",
   "execution_count": 4,
   "metadata": {},
   "outputs": [
    {
     "data": {
      "text/plain": [
       "[['e', 'restingstate'],\n",
       " ['e', 'openmonitoring'],\n",
       " ['e', 'compassion'],\n",
       " ['n', 'restingstate'],\n",
       " ['n', 'openmonitoring'],\n",
       " ['n', 'compassion']]"
      ]
     },
     "execution_count": 4,
     "metadata": {},
     "output_type": "execute_result"
    },
    {
     "data": {
      "application/javascript": [
       "\n",
       "            setTimeout(function() {\n",
       "                var nbb_cell_id = 4;\n",
       "                var nbb_unformatted_code = \"labels\";\n",
       "                var nbb_formatted_code = \"labels\";\n",
       "                var nbb_cells = Jupyter.notebook.get_cells();\n",
       "                for (var i = 0; i < nbb_cells.length; ++i) {\n",
       "                    if (nbb_cells[i].input_prompt_number == nbb_cell_id) {\n",
       "                        if (nbb_cells[i].get_text() == nbb_unformatted_code) {\n",
       "                             nbb_cells[i].set_text(nbb_formatted_code);\n",
       "                        }\n",
       "                        break;\n",
       "                    }\n",
       "                }\n",
       "            }, 500);\n",
       "            "
      ],
      "text/plain": [
       "<IPython.core.display.Javascript object>"
      ]
     },
     "metadata": {},
     "output_type": "display_data"
    }
   ],
   "source": [
    "labels"
   ]
  },
  {
   "cell_type": "code",
   "execution_count": 7,
   "metadata": {},
   "outputs": [
    {
     "data": {
      "application/javascript": [
       "\n",
       "            setTimeout(function() {\n",
       "                var nbb_cell_id = 7;\n",
       "                var nbb_unformatted_code = \"## Test Case: [Labels (-1 means ignore), gradients used]\\nsignificant_cases = {\\n    \\\"Experts vs. Novices (G1)\\\": [[0, 0, 0, 1, 1, 1], [0]],\\n    \\\"Experts vs. Novices (G2)\\\": [[0, 0, 0, 1, 1, 1], [1]],\\n    \\\"Experts vs. Novices (G3)\\\": [[0, 0, 0, 1, 1, 1], [2]],\\n    \\\"Experts vs. Novices (G1,G2)\\\": [[0, 0, 0, 1, 1, 1], [0, 1]],\\n    \\\"Experts vs. Novices (G1,G3)\\\": [[0, 0, 0, 1, 1, 1], [0, 2]],\\n    \\\"Experts vs. Novices (G2,G3)\\\": [[0, 0, 0, 1, 1, 1], [1, 2]],\\n    \\\"Experts vs. Novices (G1,G2,G3)\\\": [[0, 0, 0, 1, 1, 1], [0, 1, 2]],\\n    \\\"Experts Meditating vs. Novices Resting (G2)\\\": [[-1, 0, 0, 1, -1, -1], [1]],\\n    \\\"Experts Meditating vs. Novices Resting (G3)\\\": [[-1, 0, 0, 1, -1, -1], [2]],\\n    \\\"Experts Meditating vs. Novices Resting (G1,G2)\\\": [[-1, 0, 0, 1, -1, -1], [0, 1]],\\n    \\\"Experts Meditating vs. Novices Resting (G1,G2,G3)\\\": [\\n        [-1, 0, 0, 1, -1, -1], [0, 1, 2]\\n    ],\\n}\";\n",
       "                var nbb_formatted_code = \"## Test Case: [Labels (-1 means ignore), gradients used]\\nsignificant_cases = {\\n    \\\"Experts vs. Novices (G1)\\\": [[0, 0, 0, 1, 1, 1], [0]],\\n    \\\"Experts vs. Novices (G2)\\\": [[0, 0, 0, 1, 1, 1], [1]],\\n    \\\"Experts vs. Novices (G3)\\\": [[0, 0, 0, 1, 1, 1], [2]],\\n    \\\"Experts vs. Novices (G1,G2)\\\": [[0, 0, 0, 1, 1, 1], [0, 1]],\\n    \\\"Experts vs. Novices (G1,G3)\\\": [[0, 0, 0, 1, 1, 1], [0, 2]],\\n    \\\"Experts vs. Novices (G2,G3)\\\": [[0, 0, 0, 1, 1, 1], [1, 2]],\\n    \\\"Experts vs. Novices (G1,G2,G3)\\\": [[0, 0, 0, 1, 1, 1], [0, 1, 2]],\\n    \\\"Experts Meditating vs. Novices Resting (G2)\\\": [[-1, 0, 0, 1, -1, -1], [1]],\\n    \\\"Experts Meditating vs. Novices Resting (G3)\\\": [[-1, 0, 0, 1, -1, -1], [2]],\\n    \\\"Experts Meditating vs. Novices Resting (G1,G2)\\\": [[-1, 0, 0, 1, -1, -1], [0, 1]],\\n    \\\"Experts Meditating vs. Novices Resting (G1,G2,G3)\\\": [\\n        [-1, 0, 0, 1, -1, -1],\\n        [0, 1, 2],\\n    ],\\n}\";\n",
       "                var nbb_cells = Jupyter.notebook.get_cells();\n",
       "                for (var i = 0; i < nbb_cells.length; ++i) {\n",
       "                    if (nbb_cells[i].input_prompt_number == nbb_cell_id) {\n",
       "                        if (nbb_cells[i].get_text() == nbb_unformatted_code) {\n",
       "                             nbb_cells[i].set_text(nbb_formatted_code);\n",
       "                        }\n",
       "                        break;\n",
       "                    }\n",
       "                }\n",
       "            }, 500);\n",
       "            "
      ],
      "text/plain": [
       "<IPython.core.display.Javascript object>"
      ]
     },
     "metadata": {},
     "output_type": "display_data"
    }
   ],
   "source": [
    "## Test Case: [Labels (-1 means ignore), gradients used]\n",
    "significant_cases = {\n",
    "    \"Experts vs. Novices (G1)\": [[0, 0, 0, 1, 1, 1], [0]],\n",
    "    \"Experts vs. Novices (G2)\": [[0, 0, 0, 1, 1, 1], [1]],\n",
    "    \"Experts vs. Novices (G3)\": [[0, 0, 0, 1, 1, 1], [2]],\n",
    "    \"Experts vs. Novices (G1,G2)\": [[0, 0, 0, 1, 1, 1], [0, 1]],\n",
    "    \"Experts vs. Novices (G1,G3)\": [[0, 0, 0, 1, 1, 1], [0, 2]],\n",
    "    \"Experts vs. Novices (G2,G3)\": [[0, 0, 0, 1, 1, 1], [1, 2]],\n",
    "    \"Experts vs. Novices (G1,G2,G3)\": [[0, 0, 0, 1, 1, 1], [0, 1, 2]],\n",
    "    \"Experts Meditating vs. Novices Resting (G2)\": [[-1, 0, 0, 1, -1, -1], [1]],\n",
    "    \"Experts Meditating vs. Novices Resting (G3)\": [[-1, 0, 0, 1, -1, -1], [2]],\n",
    "    \"Experts Meditating vs. Novices Resting (G1,G2)\": [[-1, 0, 0, 1, -1, -1], [0, 1]],\n",
    "    \"Experts Meditating vs. Novices Resting (G1,G2,G3)\": [\n",
    "        [-1, 0, 0, 1, -1, -1],\n",
    "        [0, 1, 2],\n",
    "    ],\n",
    "}"
   ]
  },
  {
   "cell_type": "code",
   "execution_count": 51,
   "metadata": {},
   "outputs": [
    {
     "name": "stdout",
     "output_type": "stream",
     "text": [
      "pvalue: 0.0001\n",
      "pvalue: 0.0001\n",
      "pvalue: 0.0001\n",
      "pvalue: 0.0001\n",
      "pvalue: 0.0001\n",
      "pvalue: 0.0001\n",
      "pvalue: 0.0001\n",
      "pvalue: 0.0057\n",
      "pvalue: 0.0001\n",
      "pvalue: 0.0377\n",
      "pvalue: 0.0001\n"
     ]
    },
    {
     "data": {
      "application/javascript": [
       "\n",
       "            setTimeout(function() {\n",
       "                var nbb_cell_id = 51;\n",
       "                var nbb_unformatted_code = \"sig_results = {}\\n\\nfor key, (labels, grads) in significant_cases.items():\\n    ## Make data\\n    ways = [[w] for w in labels if w != -1]\\n    X, Y = k_sample_transform(\\n        [np.asarray(groups[i]) for i, w in enumerate(labels) if w != -1], ways=ways\\n    )\\n    X = X[:, :, grads].reshape(X.shape[0], -1)\\n\\n    ## Test\\n    X_dists = pairwise_distances(X, metric=\\\"euclidean\\\")\\n    Y_dists = pairwise_distances(Y, metric=\\\"sqeuclidean\\\") / 2\\n\\n    stat, pvalue, mgc_dict = multiscale_graphcorr(\\n        X_dists, Y_dists, workers=-1, reps=10000, compute_distance=None, compute_c_mat=True\\n    )\\n    print(f\\\"pvalue: {pvalue}\\\")\\n\\n    ## Store\\n    sig_results[key] = {\\n        \\\"pvalue\\\": pvalue,\\n        \\\"test_stat\\\": stat,\\n        \\\"null_dist\\\": mgc_dict[\\\"null_dist\\\"],\\n        \\\"opt_scale\\\": mgc_dict[\\\"opt_scale\\\"],\\n        \\\"c_mat\\\": mgc_dict[\\\"c_mat\\\"],\\n    }\";\n",
       "                var nbb_formatted_code = \"sig_results = {}\\n\\nfor key, (labels, grads) in significant_cases.items():\\n    ## Make data\\n    ways = [[w] for w in labels if w != -1]\\n    X, Y = k_sample_transform(\\n        [np.asarray(groups[i]) for i, w in enumerate(labels) if w != -1], ways=ways\\n    )\\n    X = X[:, :, grads].reshape(X.shape[0], -1)\\n\\n    ## Test\\n    X_dists = pairwise_distances(X, metric=\\\"euclidean\\\")\\n    Y_dists = pairwise_distances(Y, metric=\\\"sqeuclidean\\\") / 2\\n\\n    stat, pvalue, mgc_dict = multiscale_graphcorr(\\n        X_dists,\\n        Y_dists,\\n        workers=-1,\\n        reps=10000,\\n        compute_distance=None,\\n        compute_c_mat=True,\\n    )\\n    print(f\\\"pvalue: {pvalue}\\\")\\n\\n    ## Store\\n    sig_results[key] = {\\n        \\\"pvalue\\\": pvalue,\\n        \\\"test_stat\\\": stat,\\n        \\\"null_dist\\\": mgc_dict[\\\"null_dist\\\"],\\n        \\\"opt_scale\\\": mgc_dict[\\\"opt_scale\\\"],\\n        \\\"c_mat\\\": mgc_dict[\\\"c_mat\\\"],\\n    }\";\n",
       "                var nbb_cells = Jupyter.notebook.get_cells();\n",
       "                for (var i = 0; i < nbb_cells.length; ++i) {\n",
       "                    if (nbb_cells[i].input_prompt_number == nbb_cell_id) {\n",
       "                        if (nbb_cells[i].get_text() == nbb_unformatted_code) {\n",
       "                             nbb_cells[i].set_text(nbb_formatted_code);\n",
       "                        }\n",
       "                        break;\n",
       "                    }\n",
       "                }\n",
       "            }, 500);\n",
       "            "
      ],
      "text/plain": [
       "<IPython.core.display.Javascript object>"
      ]
     },
     "metadata": {},
     "output_type": "display_data"
    }
   ],
   "source": [
    "sig_results = {}\n",
    "\n",
    "for key, (labels, grads) in significant_cases.items():\n",
    "    ## Make data\n",
    "    ways = [[w] for w in labels if w != -1]\n",
    "    X, Y = k_sample_transform(\n",
    "        [np.asarray(groups[i]) for i, w in enumerate(labels) if w != -1], ways=ways\n",
    "    )\n",
    "    X = X[:, :, grads].reshape(X.shape[0], -1)\n",
    "\n",
    "    ## Test\n",
    "    X_dists = pairwise_distances(X, metric=\"euclidean\")\n",
    "    Y_dists = pairwise_distances(Y, metric=\"sqeuclidean\") / 2\n",
    "\n",
    "    stat, pvalue, mgc_dict = multiscale_graphcorr(\n",
    "        X_dists,\n",
    "        Y_dists,\n",
    "        workers=-1,\n",
    "        reps=10000,\n",
    "        compute_distance=None,\n",
    "        compute_c_mat=True,\n",
    "    )\n",
    "    print(f\"pvalue: {pvalue}\")\n",
    "\n",
    "    ## Store\n",
    "    sig_results[key] = {\n",
    "        \"pvalue\": pvalue,\n",
    "        \"test_stat\": stat,\n",
    "        \"null_dist\": mgc_dict[\"null_dist\"],\n",
    "        \"opt_scale\": mgc_dict[\"opt_scale\"],\n",
    "        \"c_mat\": mgc_dict[\"c_mat\"],\n",
    "    }"
   ]
  },
  {
   "cell_type": "code",
   "execution_count": 54,
   "metadata": {},
   "outputs": [
    {
     "data": {
      "application/javascript": [
       "\n",
       "            setTimeout(function() {\n",
       "                var nbb_cell_id = 54;\n",
       "                var nbb_unformatted_code = \"with open(save_dir / \\\"significant_test_nulls.pkl\\\", \\\"wb\\\") as f:\\n    pickle.dump(sig_results, f, protocol=pickle.HIGHEST_PROTOCOL)\";\n",
       "                var nbb_formatted_code = \"with open(save_dir / \\\"significant_test_nulls.pkl\\\", \\\"wb\\\") as f:\\n    pickle.dump(sig_results, f, protocol=pickle.HIGHEST_PROTOCOL)\";\n",
       "                var nbb_cells = Jupyter.notebook.get_cells();\n",
       "                for (var i = 0; i < nbb_cells.length; ++i) {\n",
       "                    if (nbb_cells[i].input_prompt_number == nbb_cell_id) {\n",
       "                        if (nbb_cells[i].get_text() == nbb_unformatted_code) {\n",
       "                             nbb_cells[i].set_text(nbb_formatted_code);\n",
       "                        }\n",
       "                        break;\n",
       "                    }\n",
       "                }\n",
       "            }, 500);\n",
       "            "
      ],
      "text/plain": [
       "<IPython.core.display.Javascript object>"
      ]
     },
     "metadata": {},
     "output_type": "display_data"
    }
   ],
   "source": [
    "with open(save_dir / \"significant_test_nulls.pkl\", \"wb\") as f:\n",
    "    pickle.dump(sig_results, f, protocol=pickle.HIGHEST_PROTOCOL)"
   ]
  },
  {
   "cell_type": "code",
   "execution_count": null,
   "metadata": {},
   "outputs": [],
   "source": []
  }
 ],
 "metadata": {
  "kernelspec": {
   "display_name": "Python 3.7.6 64-bit ('base': conda)",
   "language": "python",
   "name": "python37664bitbaseconda19db8c3c14cd47c29dff39736515a2a6"
  },
  "language_info": {
   "codemirror_mode": {
    "name": "ipython",
    "version": 3
   },
   "file_extension": ".py",
   "mimetype": "text/x-python",
   "name": "python",
   "nbconvert_exporter": "python",
   "pygments_lexer": "ipython3",
   "version": "3.7.6"
  }
 },
 "nbformat": 4,
 "nbformat_minor": 4
}

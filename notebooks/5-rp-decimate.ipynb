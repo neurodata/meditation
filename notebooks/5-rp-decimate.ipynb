{
 "cells": [
  {
   "cell_type": "code",
   "execution_count": 79,
   "metadata": {},
   "outputs": [],
   "source": [
    "from importlib import reload  # Python 3.4+ only.\n",
    "import src\n",
    "reload(src.features.utils)\n",
    "from src.features.utils import decimate_ptr\n",
    "\n",
    "import h5py\n",
    "import numpy as np\n",
    "import matplotlib.pyplot as plt\n",
    "import matplotlib as mpl\n",
    "%matplotlib inline\n",
    "\n",
    "from pathlib import Path\n",
    "import os\n",
    "import re\n",
    "import pandas as pd\n",
    "\n",
    "from tqdm import tqdm"
   ]
  },
  {
   "cell_type": "code",
   "execution_count": 80,
   "metadata": {},
   "outputs": [],
   "source": [
    "h5_key = 'decimated'\n",
    "\n",
    "basedir = Path('..')\n",
    "datadir = basedir / 'data' / 'raw'\n",
    "decimate_dir = basedir / 'data' / 'interim' / 'decimated'"
   ]
  },
  {
   "cell_type": "code",
   "execution_count": 81,
   "metadata": {},
   "outputs": [],
   "source": [
    "## Grab filenames\n",
    "def get_files(level='(e|n)',\n",
    "              subject='([0-9]{3})',\n",
    "              task='(.+?)'):\n",
    "    files = []\n",
    "    query = f'^{level}_sub-'\n",
    "    query += f'{subject}_ses-1_'\n",
    "    query += f'task-{task}\\.csv'\n",
    "    for f in os.listdir(datadir):\n",
    "        match = re.search(query, f)\n",
    "        if match:\n",
    "            files.append((f, match.groups()))\n",
    "    \n",
    "    return(files)"
   ]
  },
  {
   "cell_type": "code",
   "execution_count": 85,
   "metadata": {},
   "outputs": [
    {
     "data": {
      "text/plain": [
       "[('e_sub-025_ses-1_task-restingstate.csv', ('025',)),\n",
       " ('e_sub-050_ses-1_task-restingstate.csv', ('050',)),\n",
       " ('e_sub-052_ses-1_task-restingstate.csv', ('052',))]"
      ]
     },
     "execution_count": 85,
     "metadata": {},
     "output_type": "execute_result"
    }
   ],
   "source": [
    "paths[:3]"
   ]
  },
  {
   "cell_type": "code",
   "execution_count": 86,
   "metadata": {},
   "outputs": [
    {
     "name": "stderr",
     "output_type": "stream",
     "text": [
      "100%|██████████| 6/6 [14:33<00:00, 149.57s/it]\n"
     ]
    }
   ],
   "source": [
    "## Load Paths\n",
    "tasks = ['restingstate', 'openmonitoring', 'compassion']\n",
    "levels = ['e', 'n']\n",
    "\n",
    "for task,level in tqdm(np.array(np.meshgrid(tasks,levels)).T.reshape(-1,2)):\n",
    "    paths = get_files(level=level, task=task)\n",
    "    \n",
    "    ## Decimate and store again\n",
    "    for path,subjs in paths:\n",
    "        temp = decimate_ptr(pd.read_csv(datadir / path, header = None).to_numpy())\n",
    "        subj = subjs[0]\n",
    "        h5f = h5py.File(decimate_dir / f'{level}_sub-{subj}_ses-1_task-{task}_decimate.h5', 'w')\n",
    "        h5f.create_dataset(h5_key, data=temp)\n",
    "        h5f.close()\n",
    "        temp = None"
   ]
  },
  {
   "cell_type": "code",
   "execution_count": null,
   "metadata": {},
   "outputs": [],
   "source": []
  }
 ],
 "metadata": {
  "kernelspec": {
   "display_name": "Python [conda env:datasci] *",
   "language": "python",
   "name": "conda-env-datasci-py"
  },
  "language_info": {
   "codemirror_mode": {
    "name": "ipython",
    "version": 3
   },
   "file_extension": ".py",
   "mimetype": "text/x-python",
   "name": "python",
   "nbconvert_exporter": "python",
   "pygments_lexer": "ipython3",
   "version": "3.7.3"
  }
 },
 "nbformat": 4,
 "nbformat_minor": 2
}

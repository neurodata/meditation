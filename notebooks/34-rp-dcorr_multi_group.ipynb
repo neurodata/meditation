{
 "cells": [
  {
   "cell_type": "markdown",
   "metadata": {},
   "source": [
    "# Tesing multi group permutation\n",
    "\n",
    "In the case of dependencies between observations during a 2 sample test, we hold fixed their relative labels during the permutation. \n",
    "\n",
    "Here, we simulate pairs of observations more similar to one another than others. We form two sets of labels in the two sample test. In the \"null\" case, we are pair agnostic. Otherwise, either the pairs are assigned:\n",
    "- the same label (differences **across**)\n",
    "- different labels (differences **within**)\n",
    "\n",
    "Followng the simulations, the scipy permutation code is validated and we see that the permutations sort pairs correctly while the \"null\" permutation case shows no pattern."
   ]
  },
  {
   "cell_type": "code",
   "execution_count": 1,
   "metadata": {},
   "outputs": [],
   "source": [
    "import sys, os\n",
    "from collections import defaultdict\n",
    "\n",
    "import numpy as np\n",
    "import matplotlib.pyplot as plt\n",
    "from matplotlib.legend import Legend\n",
    "%matplotlib inline\n",
    "\n",
    "sys.path.append(os.path.realpath('..'))\n",
    "from hyppo.independence import Dcorr\n",
    "from hyppo.ksample._utils import k_sample_transform\n",
    "from scipy.spatial.distance import squareform, pdist\n",
    "from scipy.stats import multiscale_graphcorr\n",
    "%load_ext autoreload\n",
    "%autoreload 2\n",
    "import warnings\n",
    "warnings.filterwarnings('ignore')"
   ]
  },
  {
   "cell_type": "code",
   "execution_count": 2,
   "metadata": {},
   "outputs": [],
   "source": [
    "def simulate_2sample_null(n1, n2, m1, m2, d, group_std, group_structure, seed=None):\n",
    "    \"\"\"\n",
    "    n1,n2 : number of groups in each of the 2 samples\n",
    "    m1,m2 : size of groups in each sample. If group_structure is 'within', must be\n",
    "            a length 2 tuple giving the number of observations in correpsondingly indexed sample\n",
    "            and the number of observations in the other sample, respectively.\n",
    "    d : dimension of observations\n",
    "    group_std : standard deviation of normal distribution for each group around group mean\n",
    "    group_structure : one of {'within', 'across'}. 'within' allows permutations of labels in each\n",
    "                        group. 'across permutes group labels together'.\n",
    "    \"\"\"\n",
    "    np.random.seed(seed)\n",
    "    \n",
    "    # Means for each observation\n",
    "    mus1 = np.random.normal(0,1,(n1,d))\n",
    "    if n2 is not None:\n",
    "        mus2 = np.random.normal(0,1,(n2,d))\n",
    "    \n",
    "    # Paired observations\n",
    "    if group_structure == 'across' or group_structure == 'full':\n",
    "        X = np.vstack(\n",
    "            [np.random.normal(mu,group_std,(m1,d)) for mu in mus1]  +\n",
    "            [np.random.normal(mu,group_std,(m2,d)) for mu in mus2]\n",
    "        )\n",
    "        Y = np.hstack(([0]*n1*m1, [1]*n2*m2))\n",
    "        groups = np.hstack(\n",
    "            [[f'{i}']*m1 for i in range(n1)] +\n",
    "            [[f'{i}']*m2 for i in range(n2)]\n",
    "        )\n",
    "    elif group_structure == 'within':\n",
    "        X = np.vstack([np.random.normal(mu,group_std,(m1+m2,d)) for mu in mus1])\n",
    "        Y = np.hstack([[0]*m1 + [1]*m2 for _ in range(n1)])\n",
    "        groups = np.hstack([[f'{i}']*(m1+m2) for i in range(n1)])\n",
    "    else:\n",
    "        print('Invalid group_structure inpute')\n",
    "        \n",
    "    return X, Y, groups"
   ]
  },
  {
   "cell_type": "code",
   "execution_count": 22,
   "metadata": {},
   "outputs": [],
   "source": [
    "n1 = 29\n",
    "n2 = 47\n",
    "d = 100\n",
    "group_std = 0.1\n",
    "test_list = [\n",
    "    ('Experts rest vs. novices compassion', n1, n2 , 1, 1, 'full'),\n",
    "    ('Experts rest vs. experts compassion', n1, None, 1, 1, 'within'),\n",
    "    ('Experts rest vs. experts meditating', n1, None, 1, 2, 'within'),\n",
    "    ('Experts meditating vs. novices meditating', n1, n2, 2, 2, 'across'),\n",
    "    ('Experts all vs. novices all', n1, n2 ,3 ,3 , 'across'),\n",
    "]"
   ]
  },
  {
   "cell_type": "code",
   "execution_count": 24,
   "metadata": {},
   "outputs": [
    {
     "name": "stdout",
     "output_type": "stream",
     "text": [
      "Experts rest vs. experts compassion\n",
      "0\n",
      "100\n",
      "200\n",
      "300\n",
      "400\n",
      "Experts rest vs. experts meditating\n",
      "0\n",
      "100\n",
      "200\n",
      "300\n",
      "400\n",
      "Experts meditating vs. novices meditating\n",
      "0\n",
      "100\n",
      "200\n",
      "300\n",
      "400\n",
      "Experts all vs. novices all\n",
      "0\n",
      "100\n",
      "200\n",
      "300\n",
      "400\n"
     ]
    }
   ],
   "source": [
    "n_datasets = 500\n",
    "test_results = defaultdict(list)\n",
    "for test, n1, n2, m1, m2, group_structure in test_list:\n",
    "    print(test)\n",
    "    for i in range(n_datasets):\n",
    "        if i % 100 == 0:\n",
    "            print(i)\n",
    "        X, Y, groups = simulate_2sample_null(n1, n2, m1, m2, d, group_std, group_structure, seed=i)\n",
    "        stat,pval,mgc_dict = multiscale_graphcorr(\n",
    "            X,Y,\n",
    "            reps=100,\n",
    "            workers=-1,\n",
    "            random_state=1,\n",
    "            permute_groups=groups,\n",
    "            permute_structure=group_structure,\n",
    "            global_corr='mgc_restricted',\n",
    "        )\n",
    "        test_results[test].append(pval)"
   ]
  },
  {
   "cell_type": "code",
   "execution_count": 26,
   "metadata": {},
   "outputs": [
    {
     "data": {
      "image/png": "[encoded data removed]",
      "text/plain": [
       "<Figure size 288x1440 with 5 Axes>"
      ]
     },
     "metadata": {
      "needs_background": "light"
     },
     "output_type": "display_data"
    }
   ],
   "source": [
    "fig, axes = plt.subplots(len(test_results.keys()),1,sharex=True, figsize=(4, 4*len(test_results.keys())))\n",
    "for ax,test in zip(axes, test_results.keys()):\n",
    "    ax.hist(test_results[test], bins = np.arange(0,1.1,0.1))\n",
    "    ax.set_title(f'i.e. {test}')\n",
    "    ax.set_xlim(0,1)\n",
    "for ax in axes[:-1]:\n",
    "    ax.set_xticks([])\n",
    "axes[-1].set_xlabel('pvalues')\n",
    "axes[-1].set_xticks(np.arange(0,1.1,0.1))\n",
    "#fig.suptitle('Distribution of simulated pvalues under restricted permutations', y=0.89)\n",
    "plt.show()"
   ]
  },
  {
   "cell_type": "code",
   "execution_count": 3,
   "metadata": {
    "scrolled": true
   },
   "outputs": [
    {
     "data": {
      "image/png": "[encoded data removed]",
      "text/plain": [
       "<Figure size 432x288 with 2 Axes>"
      ]
     },
     "metadata": {
      "needs_background": "light"
     },
     "output_type": "display_data"
    }
   ],
   "source": [
    "data = squareform(pdist(datasets[0][:8]))\n",
    "fig, ax = plt.subplots()\n",
    "heatmap = ax.pcolor(data, cmap=plt.cm.Blues)\n",
    "plt.colorbar(heatmap)\n",
    "# want a more natural, table-like display\n",
    "ax.invert_yaxis()\n",
    "ax.xaxis.tick_top()\n",
    "plt.title('X Distance matrix subset')\n",
    "plt.show()"
   ]
  },
  {
   "cell_type": "markdown",
   "metadata": {},
   "source": [
    "### Across classes"
   ]
  },
  {
   "cell_type": "code",
   "execution_count": 4,
   "metadata": {},
   "outputs": [
    {
     "data": {
      "image/png": "[encoded data removed]",
      "text/plain": [
       "<Figure size 432x288 with 2 Axes>"
      ]
     },
     "metadata": {
      "needs_background": "light"
     },
     "output_type": "display_data"
    }
   ],
   "source": [
    "data = squareform(pdist(Y_across[:,None]))\n",
    "fig, ax = plt.subplots()\n",
    "heatmap = ax.pcolor(data, cmap=plt.cm.Blues)\n",
    "plt.colorbar(heatmap)\n",
    "# want a more natural, table-like display\n",
    "ax.invert_yaxis()\n",
    "ax.xaxis.tick_top()\n",
    "plt.title('Y (across group) Distance matrix')\n",
    "plt.show()"
   ]
  },
  {
   "cell_type": "code",
   "execution_count": 5,
   "metadata": {
    "scrolled": true
   },
   "outputs": [],
   "source": [
    "pvalues_across_uc = []\n",
    "for X in datasets:\n",
    "    stat_uc, pval_uc = Dcorr().test(\n",
    "        X,Y_across,\n",
    "        reps=100,\n",
    "        workers=-1,\n",
    "        auto=False,\n",
    "        permute_groups=np.arange(Y_across.shape[0]),\n",
    "        permute_structure='full'\n",
    "    )\n",
    "    pvalues_across_uc.append(pval_uc)"
   ]
  },
  {
   "cell_type": "code",
   "execution_count": 6,
   "metadata": {},
   "outputs": [
    {
     "data": {
      "text/plain": [
       "Text(0, 0.5, 'n')"
      ]
     },
     "execution_count": 6,
     "metadata": {},
     "output_type": "execute_result"
    },
    {
     "data": {
      "image/png": "[encoded data removed]",
      "text/plain": [
       "<Figure size 432x288 with 1 Axes>"
      ]
     },
     "metadata": {
      "needs_background": "light"
     },
     "output_type": "display_data"
    }
   ],
   "source": [
    "plt.hist(pvalues_across_uc)\n",
    "plt.title('Dcorr Distribution of unconditioned pvalues (across)')\n",
    "plt.xlabel('pvalues')\n",
    "plt.ylabel('n')"
   ]
  },
  {
   "cell_type": "code",
   "execution_count": 14,
   "metadata": {},
   "outputs": [],
   "source": [
    "pvalues_across_c = []\n",
    "for X in datasets:\n",
    "    stat_c, pval_c = Dcorr().test(\n",
    "        X,Y_across,\n",
    "        reps=100,\n",
    "        workers=-1,\n",
    "        auto=False,\n",
    "        permute_groups=groups,\n",
    "        permute_structure='across'\n",
    "    )\n",
    "    pvalues_across_c.append(pval_c)"
   ]
  },
  {
   "cell_type": "code",
   "execution_count": 15,
   "metadata": {},
   "outputs": [
    {
     "data": {
      "text/plain": [
       "Text(0, 0.5, 'n')"
      ]
     },
     "execution_count": 15,
     "metadata": {},
     "output_type": "execute_result"
    },
    {
     "data": {
      "image/png": "[encoded data removed]",
      "text/plain": [
       "<Figure size 432x288 with 1 Axes>"
      ]
     },
     "metadata": {
      "needs_background": "light"
     },
     "output_type": "display_data"
    }
   ],
   "source": [
    "plt.hist(pvalues_across_c)\n",
    "plt.title('Distribution of conditioned pvalues (across)')\n",
    "plt.xlabel('pvalues')\n",
    "plt.ylabel('n')"
   ]
  },
  {
   "cell_type": "markdown",
   "metadata": {},
   "source": [
    "### Within class"
   ]
  },
  {
   "cell_type": "code",
   "execution_count": 9,
   "metadata": {},
   "outputs": [
    {
     "data": {
      "image/png": "[encoded data removed]",
      "text/plain": [
       "<Figure size 432x288 with 2 Axes>"
      ]
     },
     "metadata": {
      "needs_background": "light"
     },
     "output_type": "display_data"
    }
   ],
   "source": [
    "data = squareform(pdist(Y_within[:8,None]))\n",
    "fig, ax = plt.subplots()\n",
    "heatmap = ax.pcolor(data, cmap=plt.cm.Blues)\n",
    "plt.colorbar(heatmap)\n",
    "# want a more natural, table-like display\n",
    "ax.invert_yaxis()\n",
    "ax.xaxis.tick_top()\n",
    "plt.title('Y (within group) Distance matrix subset')\n",
    "plt.show()"
   ]
  },
  {
   "cell_type": "code",
   "execution_count": 10,
   "metadata": {},
   "outputs": [],
   "source": [
    "pvalues_within_uc = []\n",
    "for X in datasets:\n",
    "    stat_uc, pval_uc = Dcorr().test(\n",
    "        X,Y_within,\n",
    "        reps=100,\n",
    "        workers=-1,\n",
    "        auto=False,\n",
    "        permute_groups=np.arange(Y_across.shape[0]),\n",
    "        permute_structure='full'\n",
    "    )\n",
    "    pvalues_within_uc.append(pval_uc)"
   ]
  },
  {
   "cell_type": "code",
   "execution_count": 11,
   "metadata": {},
   "outputs": [
    {
     "data": {
      "text/plain": [
       "Text(0, 0.5, 'n')"
      ]
     },
     "execution_count": 11,
     "metadata": {},
     "output_type": "execute_result"
    },
    {
     "data": {
      "image/png": "[encoded data removed]",
      "text/plain": [
       "<Figure size 432x288 with 1 Axes>"
      ]
     },
     "metadata": {
      "needs_background": "light"
     },
     "output_type": "display_data"
    }
   ],
   "source": [
    "plt.hist(pvalues_within_uc)\n",
    "plt.title('Distribution of unconditioned pvalues (within)')\n",
    "plt.xlabel('pvalues')\n",
    "plt.ylabel('n')"
   ]
  },
  {
   "cell_type": "code",
   "execution_count": 34,
   "metadata": {},
   "outputs": [],
   "source": [
    "pvalues_within_c = []\n",
    "for X in datasets:\n",
    "    stat_c, pval_c = Dcorr().test(\n",
    "        X,Y_within,\n",
    "        reps=100,\n",
    "        workers=-1,\n",
    "        auto=False,\n",
    "        permute_groups=groups,\n",
    "        permute_structure='within'\n",
    "    )\n",
    "    pvalues_within_c.append(pval_c)"
   ]
  },
  {
   "cell_type": "code",
   "execution_count": 35,
   "metadata": {},
   "outputs": [
    {
     "data": {
      "text/plain": [
       "Text(0, 0.5, 'n')"
      ]
     },
     "execution_count": 35,
     "metadata": {},
     "output_type": "execute_result"
    },
    {
     "data": {
      "image/png": "[encoded data removed]",
      "text/plain": [
       "<Figure size 432x288 with 1 Axes>"
      ]
     },
     "metadata": {
      "needs_background": "light"
     },
     "output_type": "display_data"
    }
   ],
   "source": [
    "plt.hist(pvalues_within_c)\n",
    "plt.title('Distribution of conditioned pvalues (within)')\n",
    "plt.xlabel('pvalues')\n",
    "plt.ylabel('n')"
   ]
  },
  {
   "cell_type": "markdown",
   "metadata": {},
   "source": [
    "## Test Permutation null"
   ]
  },
  {
   "cell_type": "code",
   "execution_count": 30,
   "metadata": {},
   "outputs": [],
   "source": [
    "def _center_distmat(distx, bias):  # pragma: no cover\n",
    "    \"\"\"Centers the distance matrices\"\"\"\n",
    "    n = distx.shape[0]\n",
    "\n",
    "    # double centered distance matrices\n",
    "    if bias:\n",
    "        # use sum instead of mean because of numba restrictions\n",
    "        exp_distx = (\n",
    "            np.repeat(distx.sum(axis=0) / n, n).reshape(-1, n).T\n",
    "            + np.repeat(distx.sum(axis=1) / n, n).reshape(-1, n)\n",
    "            - (distx.sum() / (n * n))\n",
    "        )\n",
    "    else:\n",
    "        exp_distx = (\n",
    "            np.repeat((distx.sum(axis=0) / (n - 2)), n).reshape(-1, n).T\n",
    "            + np.repeat((distx.sum(axis=1) / (n - 2)), n).reshape(-1, n)\n",
    "            - distx.sum() / ((n - 1) * (n - 2))\n",
    "        )\n",
    "    cent_distx = distx - exp_distx\n",
    "    if not bias:\n",
    "        np.fill_diagonal(cent_distx, 0)\n",
    "\n",
    "    return cent_distx\n",
    "\n",
    "\n",
    "def _dcorr(distx, disty, bias):  # pragma: no cover\n",
    "    \"\"\"Calculate the Dcorr test statistic\"\"\"\n",
    "    # center distance matrices\n",
    "    cent_distx = _center_distmat(distx, bias)\n",
    "    cent_disty = _center_distmat(disty, bias)\n",
    "\n",
    "    # calculate covariances and variances\n",
    "    covar = np.sum(np.multiply(cent_distx, cent_disty.T))\n",
    "    varx = np.sum(np.multiply(cent_distx, cent_distx.T))\n",
    "    vary = np.sum(np.multiply(cent_disty, cent_disty.T))\n",
    "\n",
    "    # stat is 0 with negative variances (would make denominator undefined)\n",
    "    if varx <= 0 or vary <= 0:\n",
    "        stat = 0\n",
    "\n",
    "    # calculate generalized test statistic\n",
    "    else:\n",
    "        stat = covar / np.real(np.sqrt(varx * vary))\n",
    "\n",
    "    return stat\n",
    "\n",
    "def _distmat(x):\n",
    "    if len(np.asarray(x).shape) == 1:\n",
    "        x = np.asarray(x)[:,None]\n",
    "    return squareform(pdist(x))\n",
    "\n",
    "# permutation group shuffling class\n",
    "class _PermGroups(object):\n",
    "    \"\"\"\n",
    "    Helper function to calculate parallel p-value.\n",
    "    \"\"\"\n",
    "    def __init__(self, y, permute_groups=None, permute_structure=None):\n",
    "        self.permute_groups = permute_groups\n",
    "        self.permute_structure = permute_structure\n",
    "        self.y_labels = np.unique(y, return_inverse=True, axis=1)[1]\n",
    "        if permute_structure == 'within':\n",
    "            self.group_indices = defaultdict(list)\n",
    "            for i,group in enumerate(permute_groups):\n",
    "                self.group_indices[group].append(i)\n",
    "        elif permute_structure == 'across':\n",
    "            # dict: [y_label] -> list(indices)\n",
    "            self.class_indices = defaultdict(list) \n",
    "            group_indices = defaultdict(list)\n",
    "            for i,(group,label) in enumerate(zip(permute_groups, self.y_labels)):\n",
    "                self.class_indices[label].append(i)\n",
    "                group_indices[group].append(i)\n",
    "            # list of group indices, sorted descending order\n",
    "            self.group_indices = sorted(\n",
    "                group_indices.values(), key=lambda x: len(x), reverse=True\n",
    "            )\n",
    "\n",
    "    def __call__(self):\n",
    "        if self.permute_groups is None or self.permute_structure=='full':\n",
    "            order = np.random.permutation(self.y_labels.shape[0])\n",
    "        elif self.permute_structure == 'within':\n",
    "            old_indices = np.hstack(self.group_indices.values())\n",
    "            new_indices = np.hstack([np.random.permutation(idx) for idx in self.group_indices.values()])\n",
    "            order = np.ones(self.y_labels.shape[0]) * -1\n",
    "            order[np.asarray(old_indices)] = new_indices\n",
    "            order = order.astype(int)\n",
    "        elif self.permute_structure == 'across':\n",
    "            # Copy dict: [y_label] -> list(indices)\n",
    "            class_indices_copy = deepcopy(self.class_indices)\n",
    "            new_indices = []\n",
    "            old_indices = []\n",
    "            p0 = len(class_indices_copy[0])\n",
    "            p1 = int(len(class_indices_copy[1]) / 2)\n",
    "            for group in self.group_indices:\n",
    "                #p0 = self.factorial(len(class_indices_copy[0]), len(group))\n",
    "                #p1 = self.factorial(len(class_indices_copy[1]), len(group))\n",
    "                # New indices sampled per probabilities at that step\n",
    "                if np.random.uniform() < p0 / (p0+p1):\n",
    "                    new_indices += [class_indices_copy[0][0] for _ in range(len(group))]\n",
    "                    p0 -= 1\n",
    "                else:\n",
    "                    new_indices += [class_indices_copy[1][1] for _ in range(len(group))]\n",
    "                    p1 -= 1\n",
    "                # Old indices in correct order\n",
    "                old_indices += group\n",
    "            order = np.ones(self.y_labels.shape[0]) * -1\n",
    "            order[np.asarray(old_indices)] = new_indices\n",
    "            order = order.astype(int)\n",
    "        else:\n",
    "            msg = \"permute_structure must be of {'full', 'within', 'across'}\"\n",
    "            raise ValueError(msg)\n",
    "\n",
    "        return order\n",
    "\n",
    "    def factorial(self, n, n_mults):\n",
    "        if n_mults == 0:\n",
    "            return 1\n",
    "        else:\n",
    "            return n * self.factorial(n-1, n_mults-1)"
   ]
  },
  {
   "cell_type": "code",
   "execution_count": 28,
   "metadata": {},
   "outputs": [],
   "source": [
    "n = 40\n",
    "d = 18715\n",
    "n_datasets = 100\n",
    "\n",
    "# i.e. Novices resting vs. Experts meditating\n",
    "datasets_across_12 = []\n",
    "n1 = 47\n",
    "n2 = 29\n",
    "m1 = 1\n",
    "m2 = 2\n",
    "for i in range(n_datasets):\n",
    "    np.random.seed(i)\n",
    "    mus1 = np.random.normal(0,1,(n1,d))\n",
    "    mus2 = np.random.normal(0,1,(n2,d))\n",
    "    X = np.vstack(\n",
    "        [np.random.normal(mu,0.1,(m1,d)) for mu in mus1]  +\n",
    "        [np.random.normal(mu,0.1,(m2,d)) for mu in mus2]\n",
    "    )\n",
    "    datasets_across_12.append(X)\n",
    "Y_across_12 = np.hstack((\n",
    "    [0]*n1*m1,\n",
    "    [1]*n2*m2\n",
    "))\n",
    "groups_across_12 = np.hstack(\n",
    "    [[f'{i}']*m1 for i in range(n1)] +\n",
    "    [[f'{i}']*m2 for i in range(n2)]\n",
    ")"
   ]
  },
  {
   "cell_type": "code",
   "execution_count": 32,
   "metadata": {},
   "outputs": [],
   "source": [
    "pvalues = []\n",
    "disty = _distmat(Y_across_12)\n",
    "for X in datasets_across_12:\n",
    "    distx = _distmat(X)\n",
    "    stat = _dcorr(distx, disty, bias=False)\n",
    "    pg = _PermGroups(disty, permute_groups=groups_across_12, permute_structure='across')\n",
    "    null_stats = []\n",
    "    for _ in range(100):\n",
    "        order = pg()\n",
    "        null_stats.append(_dcorr(distx, disty[order][:, order], bias=False))\n",
    "    pvalues.append(np.mean(np.asarray(null_stats) <= stat))\n",
    "    pvalues.append(pval)"
   ]
  },
  {
   "cell_type": "code",
   "execution_count": 33,
   "metadata": {},
   "outputs": [
    {
     "data": {
      "text/plain": [
       "Text(0, 0.5, 'n')"
      ]
     },
     "execution_count": 33,
     "metadata": {},
     "output_type": "execute_result"
    },
    {
     "data": {
      "image/png": "[encoded data removed]",
      "text/plain": [
       "<Figure size 432x288 with 1 Axes>"
      ]
     },
     "metadata": {
      "needs_background": "light"
     },
     "output_type": "display_data"
    }
   ],
   "source": [
    "plt.hist(pvalues)\n",
    "plt.title('Novices Resting vs. Experts Meditating')\n",
    "plt.xlabel('pvalues')\n",
    "plt.ylabel('n')"
   ]
  },
  {
   "cell_type": "markdown",
   "metadata": {},
   "source": [
    "## Effect of dimension on test stat value"
   ]
  },
  {
   "cell_type": "code",
   "execution_count": 14,
   "metadata": {},
   "outputs": [],
   "source": [
    "def simulate_2sample_null(n1, n2=None, d=100, group_std=0.1, seed=None):\n",
    "    \"\"\"\n",
    "    Simulates a set of paired observations for a 2-sample test.\n",
    "    \n",
    "    n1,n2 : size of the two groups. Are both n1 if n2 is None\n",
    "    d : dimension of observations\n",
    "    group_std : standard deviation of normal distribution around group mean\n",
    "    \"\"\"\n",
    "    np.random.seed(seed)\n",
    "    \n",
    "    # Means for each observation\n",
    "    mus1 = np.random.normal(0,1,(n1,d))\n",
    "    if n2 is None:\n",
    "        n2 = n1\n",
    "    mus2 = np.random.normal(0,1,(n2,d))\n",
    "    \n",
    "    # Paired observations\n",
    "    X = np.vstack(\n",
    "        [np.random.normal(mu, group_std, (2,d)) for mu in mus1]  +\n",
    "        [np.random.normal(mu, group_std, (2,d)) for mu in mus2]\n",
    "    )        \n",
    "    return X"
   ]
  },
  {
   "cell_type": "code",
   "execution_count": 37,
   "metadata": {},
   "outputs": [],
   "source": [
    "n1 = 29\n",
    "n2 = 47\n",
    "dimensions = [5,10,50,100,1000,5000,10000]\n",
    "n_runs = 10\n",
    "group_std = 0.1\n",
    "\n",
    "# Labels\n",
    "Y_within = np.asarray([0, 1] * (n1+n2))\n",
    "\n",
    "# Permutation tree blocks\n",
    "blocks_within = -1*np.hstack([[i+1]*2 for i in range(n1+n2)]).T"
   ]
  },
  {
   "cell_type": "code",
   "execution_count": null,
   "metadata": {},
   "outputs": [],
   "source": [
    "stat_results = []\n",
    "pval_results = []"
   ]
  },
  {
   "cell_type": "code",
   "execution_count": 30,
   "metadata": {},
   "outputs": [
    {
     "name": "stdout",
     "output_type": "stream",
     "text": [
      "5000\n",
      "10000\n"
     ]
    }
   ],
   "source": [
    "for d in dimensions:\n",
    "    print(d)\n",
    "    stat_list = []\n",
    "    pval_list = []\n",
    "    for i in range(n_runs):\n",
    "        X = simulate_2sample_null(n1, n2, d, group_std, seed=i)\n",
    "        stat, pval = Dcorr().test(\n",
    "            X,\n",
    "            Y_within,\n",
    "            reps=1,\n",
    "            workers=1,\n",
    "            auto=False,\n",
    "            perm_blocks=blocks_within,\n",
    "        )\n",
    "        stat_list.append(stat)\n",
    "        pval_list.append(pval)\n",
    "    stat_results.append(stat_list)\n",
    "    pval_results.append(pval_list)"
   ]
  },
  {
   "cell_type": "code",
   "execution_count": 46,
   "metadata": {},
   "outputs": [
    {
     "data": {
      "image/png": "[encoded data removed]",
      "text/plain": [
       "<Figure size 432x288 with 1 Axes>"
      ]
     },
     "metadata": {
      "needs_background": "light"
     },
     "output_type": "display_data"
    }
   ],
   "source": [
    "fig = plt.figure()\n",
    "\n",
    "y = [np.mean(r) for r in stat_results]\n",
    "yerr = [np.std(r) for r in stat_results]\n",
    "plt.errorbar(dimensions, y, yerr=yerr, label='test statistic')\n",
    "\n",
    "plt.xlabel('Dimension')\n",
    "plt.ylabel('Test statistic')\n",
    "plt.legend(loc='lower right')\n",
    "plt.show()"
   ]
  },
  {
   "cell_type": "code",
   "execution_count": 47,
   "metadata": {},
   "outputs": [],
   "source": [
    "n1 = 38\n",
    "n2 = 38\n",
    "dimensions = [5,10,50,100,1000,5000,10000]\n",
    "n_runs = 10\n",
    "group_std = 0.1\n",
    "\n",
    "# Labels\n",
    "Y_within = np.asarray([0, 1] * (n1+n2))\n",
    "\n",
    "# Permutation tree blocks\n",
    "blocks_within = -1*np.hstack([[i+1]*2 for i in range(n1+n2)]).T\n",
    "\n",
    "stat_results = []\n",
    "pval_results = []"
   ]
  },
  {
   "cell_type": "code",
   "execution_count": 48,
   "metadata": {},
   "outputs": [
    {
     "name": "stdout",
     "output_type": "stream",
     "text": [
      "5\n",
      "10\n",
      "50\n",
      "100\n",
      "1000\n",
      "5000\n",
      "10000\n"
     ]
    }
   ],
   "source": [
    "for d in dimensions:\n",
    "    print(d)\n",
    "    stat_list = []\n",
    "    pval_list = []\n",
    "    for i in range(n_runs):\n",
    "        X = simulate_2sample_null(n1, n2, d, group_std, seed=i)\n",
    "        stat, pval = Dcorr().test(\n",
    "            X,\n",
    "            Y_within,\n",
    "            reps=1,\n",
    "            workers=1,\n",
    "            auto=False,\n",
    "            perm_blocks=blocks_within,\n",
    "        )\n",
    "        stat_list.append(stat)\n",
    "        pval_list.append(pval)\n",
    "    stat_results.append(stat_list)\n",
    "    pval_results.append(pval_list)"
   ]
  },
  {
   "cell_type": "code",
   "execution_count": 49,
   "metadata": {},
   "outputs": [
    {
     "data": {
      "image/png": "[encoded data removed]",
      "text/plain": [
       "<Figure size 432x288 with 1 Axes>"
      ]
     },
     "metadata": {
      "needs_background": "light"
     },
     "output_type": "display_data"
    }
   ],
   "source": [
    "fig = plt.figure()\n",
    "\n",
    "y = [np.mean(r) for r in stat_results]\n",
    "yerr = [np.std(r) for r in stat_results]\n",
    "plt.errorbar(dimensions, y, yerr=yerr, label='test statistic')\n",
    "\n",
    "plt.xlabel('Dimension')\n",
    "plt.ylabel('Test statistic')\n",
    "plt.title('Equal sample sizes')\n",
    "plt.legend(loc='lower right')\n",
    "plt.show()"
   ]
  },
  {
   "cell_type": "code",
   "execution_count": null,
   "metadata": {},
   "outputs": [],
   "source": []
  }
 ],
 "metadata": {
  "kernelspec": {
   "display_name": "Python 3.7.6 64-bit ('base': conda)",
   "language": "python",
   "name": "python37664bitbaseconda19db8c3c14cd47c29dff39736515a2a6"
  },
  "language_info": {
   "codemirror_mode": {
    "name": "ipython",
    "version": 3
   },
   "file_extension": ".py",
   "mimetype": "text/x-python",
   "name": "python",
   "nbconvert_exporter": "python",
   "pygments_lexer": "ipython3",
   "version": "3.7.6"
  }
 },
 "nbformat": 4,
 "nbformat_minor": 4
}

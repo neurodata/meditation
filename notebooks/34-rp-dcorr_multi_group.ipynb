{
 "cells": [
  {
   "cell_type": "markdown",
   "metadata": {},
   "source": [
    "# Tesing multi group permutation\n",
    "\n",
    "In the case of dependencies between observations during a 2 sample test, we hold fixed their relative labels during the permutation. \n",
    "\n",
    "Here, we simulate pairs of observations more similar to one another than others. We form two sets of labels in the two sample test. In the \"null\" case, we are pair agnostic. Otherwise, either the pairs are assigned:\n",
    "- the same label (differences **across**)\n",
    "- different labels (differences **within**)\n",
    "\n",
    "Followng the simulations, the scipy permutation code is validated and we see that the permutations sort pairs correctly while the \"null\" permutation case shows no pattern."
   ]
  },
  {
   "cell_type": "code",
   "execution_count": 1,
   "metadata": {},
   "outputs": [],
   "source": [
    "import sys, os\n",
    "\n",
    "import numpy as np\n",
    "import matplotlib.pyplot as plt\n",
    "from matplotlib.legend import Legend\n",
    "%matplotlib inline\n",
    "\n",
    "sys.path.append(os.path.realpath('..'))\n",
    "from hyppo.independence import Dcorr\n",
    "from scipy.spatial.distance import squareform, pdist\n",
    "%load_ext autoreload\n",
    "%autoreload 2\n",
    "import warnings\n",
    "warnings.filterwarnings('ignore')"
   ]
  },
  {
   "cell_type": "code",
   "execution_count": 91,
   "metadata": {},
   "outputs": [],
   "source": [
    "n = 40\n",
    "d = 4\n",
    "n_datasets = 500\n",
    "\n",
    "# i.e. Experts rest vs. experts compassion\n",
    "m = 2\n",
    "datasets_within_11 = []\n",
    "for i in range(n_datasets):\n",
    "    np.random.seed(i)\n",
    "    mus = np.random.normal(0,1,(n,d))\n",
    "    X = np.vstack(\n",
    "        [np.random.normal(mu,0.1,(m,d)) for mu in mus]\n",
    "    )\n",
    "    datasets_within_11.append(X)\n",
    "Y_within_11 = np.hstack([[0,1] for _ in range(n)])\n",
    "groups_within_11 = np.hstack(\n",
    "    [[f'{i}']*m for i in range(n)]\n",
    ")\n",
    "\n",
    "# i.e. Experts rest vs. experts meditating\n",
    "datasets_within_12 = []\n",
    "m = 3\n",
    "for i in range(n_datasets):\n",
    "    np.random.seed(i)\n",
    "    mus = np.random.normal(0,1,(n,d))\n",
    "    X = np.vstack(\n",
    "        [np.random.normal(mu,0.1,(m,d)) for mu in mus]\n",
    "    )\n",
    "    datasets_within_12.append(X)\n",
    "Y_within_12 = np.hstack([[0,1,1] for _ in range(n)])\n",
    "groups_within_12 = np.hstack(\n",
    "    [[f'{i}']*(m) for i in range(n)]\n",
    ")\n",
    "\n",
    "# i.e. Novices meditating vs. experts meditating\n",
    "datasets_across_22 = []\n",
    "m = 2\n",
    "for i in range(n_datasets):\n",
    "    np.random.seed(i)\n",
    "    mus = np.random.normal(0,1,(n,d))\n",
    "    X = np.vstack(\n",
    "        [np.random.normal(mu,0.1,(m,d)) for mu in mus]\n",
    "    )\n",
    "    datasets_across_22.append(X)\n",
    "Y_across_22 = np.hstack(\n",
    "    [[0] for _ in range(int(n/2)*m)] +\n",
    "    [[1] for _ in range(int(n/2)*m)]\n",
    ")\n",
    "groups_across_22 = np.hstack(\n",
    "    [[f'{i}']*(m) for i in range(n)]\n",
    ")\n",
    "\n",
    "# i.e. Novices all vs. experts all\n",
    "datasets_across_33 = []\n",
    "m = 3\n",
    "for i in range(n_datasets):\n",
    "    np.random.seed(i)\n",
    "    mus = np.random.normal(0,1,(n,d))\n",
    "    X = np.vstack(\n",
    "        [np.random.normal(mu,0.1,(m,d)) for mu in mus]\n",
    "    )\n",
    "    datasets_across_33.append(X)\n",
    "Y_across_33 = np.hstack(\n",
    "    [[0] for _ in range(int(n/2)*m)] +\n",
    "    [[1] for _ in range(int(n/2)*m)]\n",
    ")\n",
    "groups_across_33 = np.hstack(\n",
    "    [[f'{i}']*(m) for i in range(n)]\n",
    ")\n",
    "\n",
    "# i.e. Novices resting vs. Experts meditating\n",
    "datasets_across_12 = []\n",
    "m = 2\n",
    "for i in range(n_datasets):\n",
    "    np.random.seed(i)\n",
    "    mus = np.random.normal(0,1,(n,d))\n",
    "    X = np.vstack(\n",
    "        [np.vstack(\n",
    "            [np.random.normal(0,1,(1,d))]*2 + \n",
    "            [np.random.normal(mu,0.1,(m,d))]\n",
    "        ) for mu in mus]\n",
    "    )\n",
    "    datasets_across_12.append(X)\n",
    "Y_across_12 = np.hstack([[0,0,1,1] for _ in range(n)])\n",
    "groups_across_12 = np.hstack(\n",
    "    [[f'{i}']*m + [f'{i+n}']*(m) for i in range(n)]\n",
    ")"
   ]
  },
  {
   "cell_type": "code",
   "execution_count": 92,
   "metadata": {},
   "outputs": [],
   "source": [
    "test_list = [\n",
    "    #('Experts rest vs. experts compassion', datasets_within_11, Y_within_11, groups_within_11, 'within'),\n",
    "    #('Experts rest vs. experts meditating', datasets_within_12, Y_within_12, groups_within_12, 'within'),\n",
    "    #('Novices meditating vs. experts meditating', datasets_across_22, Y_across_22, groups_across_22, 'across'),\n",
    "    #('Novices all vs. experts all', datasets_across_33, Y_across_33, groups_across_33, 'across'),\n",
    "    ('Novices resting vs. Experts meditating', datasets_across_12, Y_across_12, groups_across_12, 'across')\n",
    "]\n",
    "test_list_pvalues = test_list_pvalues[:4]"
   ]
  },
  {
   "cell_type": "code",
   "execution_count": 93,
   "metadata": {},
   "outputs": [],
   "source": [
    "for example, datasets, Y, groups, perm_struct in test_list:\n",
    "    pvalues = []\n",
    "    for X in datasets:\n",
    "        stat, pval = Dcorr().test(\n",
    "            X,Y,\n",
    "            reps=100,\n",
    "            workers=-1,\n",
    "            auto=False,\n",
    "            permute_groups=groups,\n",
    "            permute_structure=perm_struct,\n",
    "        )\n",
    "        pvalues.append(pval)\n",
    "    test_list_pvalues.append(pvalues)"
   ]
  },
  {
   "cell_type": "code",
   "execution_count": 94,
   "metadata": {},
   "outputs": [],
   "source": [
    "test_list = [\n",
    "    ('Experts rest vs. experts compassion', datasets_within_11, Y_within_11, groups_within_11, 'within'),\n",
    "    ('Experts rest vs. experts meditating', datasets_within_12, Y_within_12, groups_within_12, 'within'),\n",
    "    ('Novices meditating vs. experts meditating', datasets_across_22, Y_across_22, groups_across_22, 'across'),\n",
    "    ('Novices all vs. experts all', datasets_across_33, Y_across_33, groups_across_33, 'across'),\n",
    "    ('Novices resting vs. Experts meditating', datasets_across_12, Y_across_12, groups_across_12, 'across')\n",
    "]"
   ]
  },
  {
   "cell_type": "code",
   "execution_count": 95,
   "metadata": {},
   "outputs": [
    {
     "data": {
      "text/plain": [
       "Text(0.5, 0.93, 'Distribution of pvalues under restricted permutations')"
      ]
     },
     "execution_count": 95,
     "metadata": {},
     "output_type": "execute_result"
    },
    {
     "data": {
      "image/png": "[encoded data removed]",
      "text/plain": [
       "<Figure size 288x864 with 5 Axes>"
      ]
     },
     "metadata": {
      "needs_background": "light"
     },
     "output_type": "display_data"
    }
   ],
   "source": [
    "fig,axes = plt.subplots(5,1,sharex=True,figsize=(4,12))\n",
    "for ax,test,pvals in zip(axes, test_list, test_list_pvalues):\n",
    "    ax.hist(pvals)\n",
    "    ax.set_title(f'i.e. {test[0]}')\n",
    "    ax.set_xlim(0,1)\n",
    "for ax in axes[:-1]:\n",
    "    ax.set_xticks([])\n",
    "axes[-1].set_xlabel('pvalues')\n",
    "fig.suptitle('Distribution of pvalues under restricted permutations', y=0.93)"
   ]
  },
  {
   "cell_type": "code",
   "execution_count": 3,
   "metadata": {},
   "outputs": [
    {
     "data": {
      "image/png": "[encoded data removed]",
      "text/plain": [
       "<Figure size 432x288 with 2 Axes>"
      ]
     },
     "metadata": {
      "needs_background": "light"
     },
     "output_type": "display_data"
    }
   ],
   "source": [
    "data = squareform(pdist(datasets[0][:8]))\n",
    "fig, ax = plt.subplots()\n",
    "heatmap = ax.pcolor(data, cmap=plt.cm.Blues)\n",
    "plt.colorbar(heatmap)\n",
    "# want a more natural, table-like display\n",
    "ax.invert_yaxis()\n",
    "ax.xaxis.tick_top()\n",
    "plt.title('X Distance matrix subset')\n",
    "plt.show()"
   ]
  },
  {
   "cell_type": "markdown",
   "metadata": {},
   "source": [
    "### Across classes"
   ]
  },
  {
   "cell_type": "code",
   "execution_count": 4,
   "metadata": {},
   "outputs": [
    {
     "data": {
      "image/png": "[encoded data removed]",
      "text/plain": [
       "<Figure size 432x288 with 2 Axes>"
      ]
     },
     "metadata": {
      "needs_background": "light"
     },
     "output_type": "display_data"
    }
   ],
   "source": [
    "data = squareform(pdist(Y_across[:,None]))\n",
    "fig, ax = plt.subplots()\n",
    "heatmap = ax.pcolor(data, cmap=plt.cm.Blues)\n",
    "plt.colorbar(heatmap)\n",
    "# want a more natural, table-like display\n",
    "ax.invert_yaxis()\n",
    "ax.xaxis.tick_top()\n",
    "plt.title('Y (across group) Distance matrix')\n",
    "plt.show()"
   ]
  },
  {
   "cell_type": "code",
   "execution_count": 5,
   "metadata": {
    "scrolled": true
   },
   "outputs": [],
   "source": [
    "pvalues_across_uc = []\n",
    "for X in datasets:\n",
    "    stat_uc, pval_uc = Dcorr().test(\n",
    "        X,Y_across,\n",
    "        reps=100,\n",
    "        workers=-1,\n",
    "        auto=False,\n",
    "        permute_groups=np.arange(Y_across.shape[0]),\n",
    "        permute_structure='full'\n",
    "    )\n",
    "    pvalues_across_uc.append(pval_uc)"
   ]
  },
  {
   "cell_type": "code",
   "execution_count": 6,
   "metadata": {},
   "outputs": [
    {
     "data": {
      "text/plain": [
       "Text(0, 0.5, 'n')"
      ]
     },
     "execution_count": 6,
     "metadata": {},
     "output_type": "execute_result"
    },
    {
     "data": {
      "image/png": "[encoded data removed]",
      "text/plain": [
       "<Figure size 432x288 with 1 Axes>"
      ]
     },
     "metadata": {
      "needs_background": "light"
     },
     "output_type": "display_data"
    }
   ],
   "source": [
    "plt.hist(pvalues_across_uc)\n",
    "plt.title('Dcorr Distribution of unconditioned pvalues (across)')\n",
    "plt.xlabel('pvalues')\n",
    "plt.ylabel('n')"
   ]
  },
  {
   "cell_type": "code",
   "execution_count": 14,
   "metadata": {},
   "outputs": [],
   "source": [
    "pvalues_across_c = []\n",
    "for X in datasets:\n",
    "    stat_c, pval_c = Dcorr().test(\n",
    "        X,Y_across,\n",
    "        reps=100,\n",
    "        workers=-1,\n",
    "        auto=False,\n",
    "        permute_groups=groups,\n",
    "        permute_structure='across'\n",
    "    )\n",
    "    pvalues_across_c.append(pval_c)"
   ]
  },
  {
   "cell_type": "code",
   "execution_count": 15,
   "metadata": {},
   "outputs": [
    {
     "data": {
      "text/plain": [
       "Text(0, 0.5, 'n')"
      ]
     },
     "execution_count": 15,
     "metadata": {},
     "output_type": "execute_result"
    },
    {
     "data": {
      "image/png": "[encoded data removed]",
      "text/plain": [
       "<Figure size 432x288 with 1 Axes>"
      ]
     },
     "metadata": {
      "needs_background": "light"
     },
     "output_type": "display_data"
    }
   ],
   "source": [
    "plt.hist(pvalues_across_c)\n",
    "plt.title('Distribution of conditioned pvalues (across)')\n",
    "plt.xlabel('pvalues')\n",
    "plt.ylabel('n')"
   ]
  },
  {
   "cell_type": "markdown",
   "metadata": {},
   "source": [
    "### Within class"
   ]
  },
  {
   "cell_type": "code",
   "execution_count": 9,
   "metadata": {},
   "outputs": [
    {
     "data": {
      "image/png": "[encoded data removed]",
      "text/plain": [
       "<Figure size 432x288 with 2 Axes>"
      ]
     },
     "metadata": {
      "needs_background": "light"
     },
     "output_type": "display_data"
    }
   ],
   "source": [
    "data = squareform(pdist(Y_within[:8,None]))\n",
    "fig, ax = plt.subplots()\n",
    "heatmap = ax.pcolor(data, cmap=plt.cm.Blues)\n",
    "plt.colorbar(heatmap)\n",
    "# want a more natural, table-like display\n",
    "ax.invert_yaxis()\n",
    "ax.xaxis.tick_top()\n",
    "plt.title('Y (within group) Distance matrix subset')\n",
    "plt.show()"
   ]
  },
  {
   "cell_type": "code",
   "execution_count": 10,
   "metadata": {},
   "outputs": [],
   "source": [
    "pvalues_within_uc = []\n",
    "for X in datasets:\n",
    "    stat_uc, pval_uc = Dcorr().test(\n",
    "        X,Y_within,\n",
    "        reps=100,\n",
    "        workers=-1,\n",
    "        auto=False,\n",
    "        permute_groups=np.arange(Y_across.shape[0]),\n",
    "        permute_structure='full'\n",
    "    )\n",
    "    pvalues_within_uc.append(pval_uc)"
   ]
  },
  {
   "cell_type": "code",
   "execution_count": 11,
   "metadata": {},
   "outputs": [
    {
     "data": {
      "text/plain": [
       "Text(0, 0.5, 'n')"
      ]
     },
     "execution_count": 11,
     "metadata": {},
     "output_type": "execute_result"
    },
    {
     "data": {
      "image/png": "[encoded data removed]",
      "text/plain": [
       "<Figure size 432x288 with 1 Axes>"
      ]
     },
     "metadata": {
      "needs_background": "light"
     },
     "output_type": "display_data"
    }
   ],
   "source": [
    "plt.hist(pvalues_within_uc)\n",
    "plt.title('Distribution of unconditioned pvalues (within)')\n",
    "plt.xlabel('pvalues')\n",
    "plt.ylabel('n')"
   ]
  },
  {
   "cell_type": "code",
   "execution_count": 34,
   "metadata": {},
   "outputs": [],
   "source": [
    "pvalues_within_c = []\n",
    "for X in datasets:\n",
    "    stat_c, pval_c = Dcorr().test(\n",
    "        X,Y_within,\n",
    "        reps=100,\n",
    "        workers=-1,\n",
    "        auto=False,\n",
    "        permute_groups=groups,\n",
    "        permute_structure='within'\n",
    "    )\n",
    "    pvalues_within_c.append(pval_c)"
   ]
  },
  {
   "cell_type": "code",
   "execution_count": 35,
   "metadata": {},
   "outputs": [
    {
     "data": {
      "text/plain": [
       "Text(0, 0.5, 'n')"
      ]
     },
     "execution_count": 35,
     "metadata": {},
     "output_type": "execute_result"
    },
    {
     "data": {
      "image/png": "[encoded data removed]",
      "text/plain": [
       "<Figure size 432x288 with 1 Axes>"
      ]
     },
     "metadata": {
      "needs_background": "light"
     },
     "output_type": "display_data"
    }
   ],
   "source": [
    "plt.hist(pvalues_within_c)\n",
    "plt.title('Distribution of conditioned pvalues (within)')\n",
    "plt.xlabel('pvalues')\n",
    "plt.ylabel('n')"
   ]
  },
  {
   "cell_type": "code",
   "execution_count": 17,
   "metadata": {},
   "outputs": [],
   "source": [
    "from collections import defaultdict\n",
    "from copy import deepcopy\n",
    "\n",
    "# permutation group shuffling class\n",
    "class _PermGroups(object):\n",
    "    \"\"\"\n",
    "    Helper function to calculate parallel p-value.\n",
    "    \"\"\"\n",
    "    def __init__(self, y, permute_groups=None, permute_structure=None):\n",
    "        self.permute_groups = permute_groups\n",
    "        self.permute_structure = permute_structure\n",
    "        self.y_labels = np.unique(y, return_inverse=True, axis=1)[1]\n",
    "        if permute_structure == 'within':\n",
    "            self.group_indices = defaultdict(list)\n",
    "            for i,group in enumerate(permute_groups):\n",
    "                self.group_indices[group].append(i)\n",
    "        elif permute_structure == 'across':\n",
    "            # dict: [y_label] -> list(indices)\n",
    "            self.class_indices = defaultdict(list) \n",
    "            group_indices = defaultdict(list)\n",
    "            for i,(group,label) in enumerate(zip(permute_groups, self.y_labels)):\n",
    "                self.class_indices[label].append(i)\n",
    "                group_indices[group].append(i)\n",
    "            # list of group indices, sorted descending order\n",
    "            self.group_indices = sorted(\n",
    "                group_indices.values(), key=lambda x: len(x), reverse=True\n",
    "            )\n",
    "\n",
    "    def __call__(self):\n",
    "        if self.permute_groups is None or self.permute_structure=='full':\n",
    "            order = np.random.permutation(self.y_labels.shape[0])\n",
    "        elif self.permute_structure == 'within':\n",
    "            old_indices = np.hstack(self.group_indices.values())\n",
    "            new_indices = np.hstack([np.random.permutation(idx) for idx in self.group_indices.values()])\n",
    "            order = np.ones(self.y_labels.shape[0]) * -1\n",
    "            order[np.asarray(old_indices)] = new_indices\n",
    "            order = order.astype(int)\n",
    "        elif self.permute_structure == 'across':\n",
    "            # Copy dict: [y_label] -> list(indices)\n",
    "            class_indices_copy = deepcopy(self.class_indices)\n",
    "            new_indices = []\n",
    "            old_indices = []\n",
    "            for group in self.group_indices:\n",
    "                p0 = self.factorial(len(class_indices_copy[0]), len(group))\n",
    "                p1 = self.factorial(len(class_indices_copy[1]), len(group))\n",
    "                # New indices sampled per probabilities at that step\n",
    "                if np.random.uniform() < p0 / (p0+p1):\n",
    "                    new_indices += [class_indices_copy[0].pop() for _ in range(len(group))]\n",
    "                else:\n",
    "                    new_indices += [class_indices_copy[1].pop() for _ in range(len(group))]\n",
    "                # Old indices in correct order\n",
    "                old_indices += group\n",
    "            order = np.ones(self.y_labels.shape[0]) * -1\n",
    "            order[np.asarray(old_indices)] = new_indices\n",
    "            order = order.astype(int)\n",
    "        else:\n",
    "            msg = \"permute_structure must be of {'full', 'within', 'across'}\"\n",
    "            raise ValueError(msg)\n",
    "\n",
    "        return order"
   ]
  },
  {
   "cell_type": "code",
   "execution_count": 27,
   "metadata": {},
   "outputs": [],
   "source": [
    "pg = _PermGroups(squareform(pdist(Y_within[:,None])), groups, 'within')"
   ]
  },
  {
   "cell_type": "code",
   "execution_count": 28,
   "metadata": {},
   "outputs": [
    {
     "data": {
      "text/plain": [
       "array([ 0,  1,  3,  2,  5,  4,  7,  6,  8,  9, 11, 10, 12, 13, 15, 14, 17,\n",
       "       16, 18, 19, 20, 21, 22, 23, 24, 25, 27, 26, 28, 29, 31, 30, 33, 32,\n",
       "       35, 34, 37, 36, 39, 38, 41, 40, 42, 43, 44, 45, 46, 47, 49, 48, 50,\n",
       "       51, 52, 53, 55, 54, 57, 56, 59, 58, 61, 60, 63, 62, 65, 64, 67, 66,\n",
       "       68, 69, 71, 70, 73, 72, 75, 74, 77, 76, 79, 78])"
      ]
     },
     "execution_count": 28,
     "metadata": {},
     "output_type": "execute_result"
    }
   ],
   "source": [
    "pg()"
   ]
  },
  {
   "cell_type": "code",
   "execution_count": 29,
   "metadata": {},
   "outputs": [
    {
     "data": {
      "text/plain": [
       "array([ 1,  0,  3,  2,  5,  4,  6,  7,  9,  8, 11, 10, 13, 12, 15, 14, 16,\n",
       "       17, 18, 19, 21, 20, 22, 23, 24, 25, 26, 27, 28, 29, 31, 30, 32, 33,\n",
       "       34, 35, 36, 37, 39, 38, 41, 40, 43, 42, 45, 44, 46, 47, 48, 49, 51,\n",
       "       50, 53, 52, 54, 55, 56, 57, 58, 59, 61, 60, 62, 63, 65, 64, 67, 66,\n",
       "       69, 68, 70, 71, 72, 73, 74, 75, 76, 77, 79, 78])"
      ]
     },
     "execution_count": 29,
     "metadata": {},
     "output_type": "execute_result"
    }
   ],
   "source": [
    "pg()"
   ]
  },
  {
   "cell_type": "markdown",
   "metadata": {},
   "source": [
    "## MGC vs. DCORR"
   ]
  },
  {
   "cell_type": "code",
   "execution_count": 19,
   "metadata": {},
   "outputs": [],
   "source": [
    "pvalues_mgc = []\n",
    "for X in datasets:\n",
    "    _,pval,_ = multiscale_graphcorr(\n",
    "        X,Y_across,\n",
    "        reps=100,\n",
    "        workers=-1,\n",
    "        random_state=1,\n",
    "        permute_groups=groups\n",
    "    )\n",
    "    pvalues_mgc.append(pval)"
   ]
  },
  {
   "cell_type": "code",
   "execution_count": 20,
   "metadata": {},
   "outputs": [],
   "source": [
    "pvalues_dcorr = []\n",
    "for X in datasets:\n",
    "    _,pval,_ = multiscale_graphcorr(\n",
    "        X,Y_across,\n",
    "        reps=100,\n",
    "        workers=-1,\n",
    "        random_state=1,\n",
    "        permute_groups=groups,\n",
    "        full_scale=True\n",
    "    )\n",
    "    pvalues_dcorr.append(pval)"
   ]
  },
  {
   "cell_type": "code",
   "execution_count": 22,
   "metadata": {},
   "outputs": [
    {
     "data": {
      "text/plain": [
       "Text(0.5, 1.02, 'MGC vs. DCORR 2sample pvalue distribution (100 reps, 250 datasets)')"
      ]
     },
     "execution_count": 22,
     "metadata": {},
     "output_type": "execute_result"
    },
    {
     "data": {
      "image/png": "[encoded data removed]",
      "text/plain": [
       "<Figure size 576x288 with 2 Axes>"
      ]
     },
     "metadata": {
      "needs_background": "light"
     },
     "output_type": "display_data"
    }
   ],
   "source": [
    "fig,axes = plt.subplots(1,2,sharey=True,figsize=(8,4))\n",
    "axes[0].hist(pvalues_mgc)\n",
    "axes[1].hist(pvalues_dcorr)\n",
    "axes[0].set_ylabel('count')\n",
    "axes[0].set_xlabel('pvalues')\n",
    "axes[1].set_xlabel('pvalues')\n",
    "axes[0].set_title('MGC')\n",
    "axes[1].set_title('DCORR')\n",
    "axes[0].set_xlim(0,1)\n",
    "axes[1].set_xlim(0,1)\n",
    "fig.suptitle('MGC vs. DCORR 2sample pvalue distribution (100 reps, 250 datasets)', y=1.02)"
   ]
  }
 ],
 "metadata": {
  "kernelspec": {
   "display_name": "Python 3.7.6 64-bit ('base': conda)",
   "language": "python",
   "name": "python37664bitbaseconda19db8c3c14cd47c29dff39736515a2a6"
  },
  "language_info": {
   "codemirror_mode": {
    "name": "ipython",
    "version": 3
   },
   "file_extension": ".py",
   "mimetype": "text/x-python",
   "name": "python",
   "nbconvert_exporter": "python",
   "pygments_lexer": "ipython3",
   "version": "3.7.6"
  }
 },
 "nbformat": 4,
 "nbformat_minor": 4
}

{
 "cells": [
  {
   "cell_type": "code",
   "execution_count": 57,
   "metadata": {},
   "outputs": [
    {
     "name": "stdout",
     "output_type": "stream",
     "text": [
      "The autoreload extension is already loaded. To reload it, use:\n",
      "  %reload_ext autoreload\n"
     ]
    }
   ],
   "source": [
    "import numpy as np\n",
    "from mvlearn.decomposition import GroupPCA\n",
    "from mvlearn.embed import GCCA\n",
    "from hyppo.independence import Dcorr\n",
    "from hyppo.ksample import KSample\n",
    "from graspologic.datasets import load_mice\n",
    "import seaborn as sns\n",
    "\n",
    "%load_ext autoreload\n",
    "%autoreload 2"
   ]
  },
  {
   "cell_type": "code",
   "execution_count": 13,
   "metadata": {},
   "outputs": [],
   "source": [
    "mice_bunch = load_mice()"
   ]
  },
  {
   "cell_type": "code",
   "execution_count": 14,
   "metadata": {},
   "outputs": [],
   "source": [
    "Xs = mice_bunch.graphs\n",
    "labels = mice_bunch.labels"
   ]
  },
  {
   "cell_type": "code",
   "execution_count": 19,
   "metadata": {},
   "outputs": [
    {
     "name": "stdout",
     "output_type": "stream",
     "text": [
      "32 mice connectomes\n",
      "graph size = (332, 332)\n"
     ]
    }
   ],
   "source": [
    "print(f'{len(Xs)} mice connectomes')\n",
    "print(f'graph size = {Xs[0].shape}')"
   ]
  },
  {
   "cell_type": "code",
   "execution_count": 22,
   "metadata": {},
   "outputs": [
    {
     "name": "stdout",
     "output_type": "stream",
     "text": [
      "['DBA2' 'DBA2' 'DBA2' 'DBA2' 'B6' 'B6' 'B6' 'B6' 'BTBR' 'BTBR' 'BTBR'\n",
      " 'BTBR' 'CAST' 'CAST' 'DBA2' 'DBA2' 'DBA2' 'DBA2' 'CAST' 'CAST' 'BTBR'\n",
      " 'BTBR' 'BTBR' 'BTBR' 'B6' 'B6' 'B6' 'B6' 'CAST' 'CAST' 'CAST' 'CAST']\n"
     ]
    }
   ],
   "source": [
    "print(labels)"
   ]
  },
  {
   "cell_type": "code",
   "execution_count": 36,
   "metadata": {},
   "outputs": [],
   "source": [
    "group_labels = np.unique(labels)\n",
    "group_indices = [np.where(labels == label)[0] for label in group_labels]"
   ]
  },
  {
   "cell_type": "code",
   "execution_count": 28,
   "metadata": {},
   "outputs": [],
   "source": [
    "Xs_gcca = GCCA().fit_transform(Xs)"
   ]
  },
  {
   "cell_type": "code",
   "execution_count": 69,
   "metadata": {},
   "outputs": [],
   "source": [
    "all_stat0, all_pvalue0 = KSample('Dcorr').test(\n",
    "    *[Xs_gcca[idx][:, :, 0].squeeze() for idx in group_indices], reps=1000\n",
    ")"
   ]
  },
  {
   "cell_type": "code",
   "execution_count": 74,
   "metadata": {},
   "outputs": [
    {
     "name": "stdout",
     "output_type": "stream",
     "text": [
      "0.7461814108102066 6.108163096044568e-07\n"
     ]
    }
   ],
   "source": [
    "print(all_stat0, all_pvalue0)"
   ]
  },
  {
   "cell_type": "code",
   "execution_count": 66,
   "metadata": {},
   "outputs": [],
   "source": [
    "test_dict0 = {}\n",
    "for label1, indices1 in zip(group_labels, group_indices):\n",
    "    for label2, indices2 in zip(group_labels, group_indices):\n",
    "        name = label1 + ' vs ' + label2\n",
    "        if name in test_dict0.keys() or label2 + ' vs ' + label1 in test_dict0.keys() or label1 == label2:\n",
    "            continue\n",
    "        stat, pvalue = KSample('Dcorr').test(\n",
    "            Xs_gcca[indices1][:, :, 0].squeeze(), Xs_gcca[indices2][:, :, 0].squeeze(), reps=1000\n",
    "        )\n",
    "        test_dict0[name] = {'stat': stat, 'pvalue': pvalue}"
   ]
  },
  {
   "cell_type": "code",
   "execution_count": 67,
   "metadata": {},
   "outputs": [],
   "source": [
    "from pprint import pprint"
   ]
  },
  {
   "cell_type": "code",
   "execution_count": 68,
   "metadata": {},
   "outputs": [
    {
     "name": "stdout",
     "output_type": "stream",
     "text": [
      "{'B6 vs BTBR': {'pvalue': 0.000999000999000999, 'stat': 0.9713100050502701},\n",
      " 'B6 vs CAST': {'pvalue': 0.000999000999000999, 'stat': 0.944089704915741},\n",
      " 'B6 vs DBA2': {'pvalue': 0.000999000999000999, 'stat': 0.8418578967792666},\n",
      " 'BTBR vs CAST': {'pvalue': 0.000999000999000999, 'stat': 0.9203121848324822},\n",
      " 'BTBR vs DBA2': {'pvalue': 0.000999000999000999, 'stat': 0.9166509782289824},\n",
      " 'CAST vs DBA2': {'pvalue': 0.000999000999000999, 'stat': 0.8401919076629106}}\n"
     ]
    }
   ],
   "source": [
    "pprint(test_dict0)"
   ]
  },
  {
   "cell_type": "code",
   "execution_count": 75,
   "metadata": {},
   "outputs": [],
   "source": [
    "test_dict1 = {}\n",
    "for label1, indices1 in zip(group_labels, group_indices):\n",
    "    for label2, indices2 in zip(group_labels, group_indices):\n",
    "        name = label1 + ' vs ' + label2\n",
    "        if name in test_dict1.keys() or label2 + ' vs ' + label1 in test_dict1.keys() or label1 == label2:\n",
    "            continue\n",
    "        stat, pvalue = KSample('Dcorr').test(\n",
    "            Xs_gcca[indices1][:, :, 1].squeeze(), Xs_gcca[indices2][:, :, 1].squeeze(), reps=1000\n",
    "        )\n",
    "        test_dict1[name] = {'stat': stat, 'pvalue': pvalue}"
   ]
  },
  {
   "cell_type": "code",
   "execution_count": 76,
   "metadata": {},
   "outputs": [
    {
     "name": "stdout",
     "output_type": "stream",
     "text": [
      "{'B6 vs BTBR': {'pvalue': 0.000999000999000999, 'stat': 0.9723852740341754},\n",
      " 'B6 vs CAST': {'pvalue': 0.000999000999000999, 'stat': 0.921745799417295},\n",
      " 'B6 vs DBA2': {'pvalue': 0.000999000999000999, 'stat': 0.8297340537336971},\n",
      " 'BTBR vs CAST': {'pvalue': 0.000999000999000999, 'stat': 0.9669363785481304},\n",
      " 'BTBR vs DBA2': {'pvalue': 0.000999000999000999, 'stat': 0.976077950127172},\n",
      " 'CAST vs DBA2': {'pvalue': 0.001998001998001998, 'stat': 0.8092110722538809}}\n"
     ]
    }
   ],
   "source": [
    "pprint(test_dict1)"
   ]
  },
  {
   "cell_type": "code",
   "execution_count": null,
   "metadata": {},
   "outputs": [],
   "source": []
  }
 ],
 "metadata": {
  "kernelspec": {
   "display_name": "Python 3.7.6 64-bit ('base': conda)",
   "language": "python",
   "name": "python37664bitbaseconda19db8c3c14cd47c29dff39736515a2a6"
  },
  "language_info": {
   "codemirror_mode": {
    "name": "ipython",
    "version": 3
   },
   "file_extension": ".py",
   "mimetype": "text/x-python",
   "name": "python",
   "nbconvert_exporter": "python",
   "pygments_lexer": "ipython3",
   "version": "3.7.6"
  }
 },
 "nbformat": 4,
 "nbformat_minor": 4
}

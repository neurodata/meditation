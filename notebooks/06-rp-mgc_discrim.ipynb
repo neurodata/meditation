{
 "cells": [
  {
   "cell_type": "code",
   "execution_count": 323,
   "metadata": {},
   "outputs": [],
   "source": [
    "import h5py\n",
    "import numpy as np\n",
    "import matplotlib.pyplot as plt\n",
    "import matplotlib as mpl\n",
    "%matplotlib inline\n",
    "\n",
    "from pathlib import Path\n",
    "import os\n",
    "import re\n",
    "import pandas as pd\n",
    "\n",
    "from tqdm import tqdm\n",
    "import time\n",
    "\n",
    "from mgcpy.independence_tests.mgc import MGC\n",
    "\n",
    "from itertools import combinations\n",
    "\n",
    "np.set_printoptions(precision=5)\n",
    "pd.set_option(\"display.precision\", 5)"
   ]
  },
  {
   "cell_type": "code",
   "execution_count": 328,
   "metadata": {},
   "outputs": [],
   "source": [
    "h5_key = 'latent'\n",
    "## Define paths\n",
    "basedir = Path('..') \n",
    "datadir = basedir / 'data'\n",
    "rawdir = datadir / 'raw'\n",
    "gccadir = datadir / 'interim' / 'gcca250'"
   ]
  },
  {
   "cell_type": "code",
   "execution_count": 284,
   "metadata": {},
   "outputs": [],
   "source": [
    "tasks = ['restingstate', 'openmonitoring', 'compassion']\n",
    "levels = ['e', 'n']"
   ]
  },
  {
   "cell_type": "code",
   "execution_count": 177,
   "metadata": {},
   "outputs": [],
   "source": [
    "def get_files(path,\n",
    "              level='(e|n)',\n",
    "              subject='([0-9]{3})',\n",
    "              task='(.+?)',\n",
    "              filetype='h5',\n",
    "              flag=''):\n",
    "    files = []\n",
    "    query = f'^{level}_sub-'\n",
    "    query += f'{subject}_ses-1_'\n",
    "    query += f'task-{task}{flag}.{filetype}'\n",
    "    for f in os.listdir(path):\n",
    "        match = re.search(query, f)\n",
    "        if match:\n",
    "            files.append((f, match.groups()))\n",
    "    \n",
    "    return(files)"
   ]
  },
  {
   "cell_type": "code",
   "execution_count": 179,
   "metadata": {},
   "outputs": [],
   "source": [
    "lookup = {'(e|n)':'All',\n",
    "          '(.+?)':'All',\n",
    "          'e':'Experts',\n",
    "          'n':'Novices',\n",
    "          'openmonitoring':'Open Monitoring',\n",
    "          'compassion':'Compassion',\n",
    "          'restingstate':'Resting',\n",
    "          '(openmonitoring|compassion)': 'Meditating'}"
   ]
  },
  {
   "cell_type": "code",
   "execution_count": 222,
   "metadata": {},
   "outputs": [],
   "source": [
    "## Get class files\n",
    "def get_class(components,level,task,cls_num=1):\n",
    "    paths = get_files(path=gccadir, level=level, task=task, flag='_gcca')\n",
    "\n",
    "    latents = []\n",
    "    labels = []\n",
    "    for path,_ in tqdm(paths):\n",
    "        h5f = h5py.File(gccadir / path,'r')\n",
    "        if components is not None:\n",
    "            latent = h5f[h5_key][:][:,components]\n",
    "        else:\n",
    "            latent = h5f[h5_key][:]\n",
    "        h5f.close()\n",
    "        latents.append(latent.reshape(1, -1))\n",
    "        labels.append(f'{cls_num}')\n",
    "\n",
    "    return(np.vstack(latents), labels)"
   ]
  },
  {
   "cell_type": "code",
   "execution_count": 169,
   "metadata": {},
   "outputs": [],
   "source": [
    "def transform_matrices(x, y, is_y_categorical=False):\n",
    "    if not is_y_categorical:\n",
    "        u = np.concatenate([x, y], axis=0)\n",
    "        v = np.concatenate([np.repeat(1, x.shape[0]), np.repeat(2, y.shape[0])], axis=0)\n",
    "    else:\n",
    "        u = x\n",
    "        v = preprocessing.LabelEncoder().fit_transform(y) + 1\n",
    "    \n",
    "    if len(u.shape) == 1:\n",
    "        u = u[..., np.newaxis]\n",
    "    if len(v.shape) == 1:\n",
    "        v = v[..., np.newaxis]\n",
    "    \n",
    "    return(u, v)"
   ]
  },
  {
   "cell_type": "code",
   "execution_count": 326,
   "metadata": {},
   "outputs": [],
   "source": [
    "def discrim_test(trait1,state1,trait2,state2,components):\n",
    "    latents1, _ = get_class(components=components,cls_num=1,level=trait1,task=state1)\n",
    "    latents2, _ = get_class(components=components,cls_num=2,level=trait2,task=state2)\n",
    "    \n",
    "    u,v = transform_matrices(latents1,latents2)\n",
    "    \n",
    "    mgc = MGC()\n",
    "    pval, _ = mgc.p_value(u,v, is_fast=False, replication_factor=1000)\n",
    "    \n",
    "    name = f'{lookup[trait1]} {lookup[state1]} vs. {lookup[trait2]} {lookup[state2]}'\n",
    "    \n",
    "    return(pval, name)"
   ]
  },
  {
   "cell_type": "code",
   "execution_count": 330,
   "metadata": {},
   "outputs": [],
   "source": [
    "data_dict = {}"
   ]
  },
  {
   "cell_type": "code",
   "execution_count": 331,
   "metadata": {},
   "outputs": [
    {
     "name": "stderr",
     "output_type": "stream",
     "text": [
      "100%|██████████| 29/29 [00:00<00:00, 79.52it/s]\n",
      "100%|██████████| 29/29 [00:00<00:00, 84.44it/s]\n",
      "/home/rflperry/miniconda3/envs/datasci/lib/python3.7/site-packages/mgcpy/independence_tests/abstract_class.py:153: UserWarning: The p-value is greater than 0.05, implying that the results are not statistically significant.\n",
      "Use results such as test_statistic and optimal_scale, with caution!\n",
      "  warnings.warn(\"The p-value is greater than 0.05, implying that the results are not statistically significant.\\n\" +\n",
      "100%|██████████| 29/29 [00:00<00:00, 392.21it/s]\n",
      " 28%|██▊       | 8/29 [00:00<00:00, 73.78it/s]"
     ]
    },
    {
     "name": "stdout",
     "output_type": "stream",
     "text": [
      "Experts Resting vs. Experts Open Monitoring\n"
     ]
    },
    {
     "name": "stderr",
     "output_type": "stream",
     "text": [
      "100%|██████████| 29/29 [00:00<00:00, 64.07it/s]\n",
      "/home/rflperry/miniconda3/envs/datasci/lib/python3.7/site-packages/mgcpy/independence_tests/abstract_class.py:153: UserWarning: The p-value is greater than 0.05, implying that the results are not statistically significant.\n",
      "Use results such as test_statistic and optimal_scale, with caution!\n",
      "  warnings.warn(\"The p-value is greater than 0.05, implying that the results are not statistically significant.\\n\" +\n",
      "100%|██████████| 29/29 [00:00<00:00, 312.25it/s]\n",
      "100%|██████████| 29/29 [00:00<00:00, 324.84it/s]\n"
     ]
    },
    {
     "name": "stdout",
     "output_type": "stream",
     "text": [
      "Experts Resting vs. Experts Compassion\n"
     ]
    },
    {
     "name": "stderr",
     "output_type": "stream",
     "text": [
      "/home/rflperry/miniconda3/envs/datasci/lib/python3.7/site-packages/mgcpy/independence_tests/abstract_class.py:153: UserWarning: The p-value is greater than 0.05, implying that the results are not statistically significant.\n",
      "Use results such as test_statistic and optimal_scale, with caution!\n",
      "  warnings.warn(\"The p-value is greater than 0.05, implying that the results are not statistically significant.\\n\" +\n",
      " 57%|█████▋    | 33/58 [00:00<00:00, 327.24it/s]"
     ]
    },
    {
     "name": "stdout",
     "output_type": "stream",
     "text": [
      "Experts Open Monitoring vs. Experts Compassion\n"
     ]
    },
    {
     "name": "stderr",
     "output_type": "stream",
     "text": [
      "100%|██████████| 58/58 [00:00<00:00, 275.75it/s]\n",
      "100%|██████████| 29/29 [00:00<00:00, 194.64it/s]\n",
      "/home/rflperry/miniconda3/envs/datasci/lib/python3.7/site-packages/mgcpy/independence_tests/abstract_class.py:153: UserWarning: The p-value is greater than 0.05, implying that the results are not statistically significant.\n",
      "Use results such as test_statistic and optimal_scale, with caution!\n",
      "  warnings.warn(\"The p-value is greater than 0.05, implying that the results are not statistically significant.\\n\" +\n",
      " 13%|█▎        | 6/47 [00:00<00:00, 52.89it/s]"
     ]
    },
    {
     "name": "stdout",
     "output_type": "stream",
     "text": [
      "Experts Meditating vs. Experts Resting\n"
     ]
    },
    {
     "name": "stderr",
     "output_type": "stream",
     "text": [
      "100%|██████████| 47/47 [00:00<00:00, 54.50it/s]\n",
      "100%|██████████| 47/47 [00:00<00:00, 51.80it/s]\n",
      "/home/rflperry/miniconda3/envs/datasci/lib/python3.7/site-packages/mgcpy/independence_tests/abstract_class.py:153: UserWarning: The p-value is greater than 0.05, implying that the results are not statistically significant.\n",
      "Use results such as test_statistic and optimal_scale, with caution!\n",
      "  warnings.warn(\"The p-value is greater than 0.05, implying that the results are not statistically significant.\\n\" +\n",
      "100%|██████████| 47/47 [00:00<00:00, 497.01it/s]\n",
      "  0%|          | 0/47 [00:00<?, ?it/s]"
     ]
    },
    {
     "name": "stdout",
     "output_type": "stream",
     "text": [
      "Novices Resting vs. Novices Open Monitoring\n"
     ]
    },
    {
     "name": "stderr",
     "output_type": "stream",
     "text": [
      "100%|██████████| 47/47 [00:00<00:00, 93.18it/s]\n",
      "/home/rflperry/miniconda3/envs/datasci/lib/python3.7/site-packages/mgcpy/independence_tests/abstract_class.py:153: UserWarning: The p-value is greater than 0.05, implying that the results are not statistically significant.\n",
      "Use results such as test_statistic and optimal_scale, with caution!\n",
      "  warnings.warn(\"The p-value is greater than 0.05, implying that the results are not statistically significant.\\n\" +\n",
      "100%|██████████| 47/47 [00:00<00:00, 435.22it/s]\n",
      "  0%|          | 0/47 [00:00<?, ?it/s]"
     ]
    },
    {
     "name": "stdout",
     "output_type": "stream",
     "text": [
      "Novices Resting vs. Novices Compassion\n"
     ]
    },
    {
     "name": "stderr",
     "output_type": "stream",
     "text": [
      "100%|██████████| 47/47 [00:00<00:00, 511.47it/s]\n",
      "/home/rflperry/miniconda3/envs/datasci/lib/python3.7/site-packages/mgcpy/independence_tests/abstract_class.py:153: UserWarning: The p-value is greater than 0.05, implying that the results are not statistically significant.\n",
      "Use results such as test_statistic and optimal_scale, with caution!\n",
      "  warnings.warn(\"The p-value is greater than 0.05, implying that the results are not statistically significant.\\n\" +\n",
      " 46%|████▌     | 43/94 [00:00<00:00, 421.67it/s]"
     ]
    },
    {
     "name": "stdout",
     "output_type": "stream",
     "text": [
      "Novices Open Monitoring vs. Novices Compassion\n"
     ]
    },
    {
     "name": "stderr",
     "output_type": "stream",
     "text": [
      "100%|██████████| 94/94 [00:00<00:00, 415.65it/s]\n",
      "100%|██████████| 47/47 [00:00<00:00, 617.48it/s]\n",
      "/home/rflperry/miniconda3/envs/datasci/lib/python3.7/site-packages/mgcpy/independence_tests/abstract_class.py:153: UserWarning: The p-value is greater than 0.05, implying that the results are not statistically significant.\n",
      "Use results such as test_statistic and optimal_scale, with caution!\n",
      "  warnings.warn(\"The p-value is greater than 0.05, implying that the results are not statistically significant.\\n\" +\n",
      "100%|██████████| 76/76 [00:00<00:00, 544.59it/s]\n",
      "  0%|          | 0/76 [00:00<?, ?it/s]"
     ]
    },
    {
     "name": "stdout",
     "output_type": "stream",
     "text": [
      "Novices Meditating vs. Novices Resting\n"
     ]
    },
    {
     "name": "stderr",
     "output_type": "stream",
     "text": [
      "100%|██████████| 76/76 [00:00<00:00, 521.75it/s]\n",
      "/home/rflperry/miniconda3/envs/datasci/lib/python3.7/site-packages/mgcpy/independence_tests/abstract_class.py:153: UserWarning: The p-value is greater than 0.05, implying that the results are not statistically significant.\n",
      "Use results such as test_statistic and optimal_scale, with caution!\n",
      "  warnings.warn(\"The p-value is greater than 0.05, implying that the results are not statistically significant.\\n\" +\n",
      "100%|██████████| 76/76 [00:00<00:00, 452.42it/s]\n",
      "  0%|          | 0/76 [00:00<?, ?it/s]"
     ]
    },
    {
     "name": "stdout",
     "output_type": "stream",
     "text": [
      "All Resting vs. All Open Monitoring\n"
     ]
    },
    {
     "name": "stderr",
     "output_type": "stream",
     "text": [
      "100%|██████████| 76/76 [00:00<00:00, 399.37it/s]\n",
      "/home/rflperry/miniconda3/envs/datasci/lib/python3.7/site-packages/mgcpy/independence_tests/abstract_class.py:153: UserWarning: The p-value is greater than 0.05, implying that the results are not statistically significant.\n",
      "Use results such as test_statistic and optimal_scale, with caution!\n",
      "  warnings.warn(\"The p-value is greater than 0.05, implying that the results are not statistically significant.\\n\" +\n",
      "  8%|▊         | 6/76 [00:00<00:01, 54.40it/s]"
     ]
    },
    {
     "name": "stdout",
     "output_type": "stream",
     "text": [
      "All Resting vs. All Compassion\n"
     ]
    },
    {
     "name": "stderr",
     "output_type": "stream",
     "text": [
      "100%|██████████| 76/76 [00:01<00:00, 53.52it/s]\n",
      "100%|██████████| 76/76 [00:01<00:00, 61.81it/s]\n",
      "/home/rflperry/miniconda3/envs/datasci/lib/python3.7/site-packages/mgcpy/independence_tests/abstract_class.py:153: UserWarning: The p-value is greater than 0.05, implying that the results are not statistically significant.\n",
      "Use results such as test_statistic and optimal_scale, with caution!\n",
      "  warnings.warn(\"The p-value is greater than 0.05, implying that the results are not statistically significant.\\n\" +\n",
      " 27%|██▋       | 41/152 [00:00<00:00, 409.86it/s]"
     ]
    },
    {
     "name": "stdout",
     "output_type": "stream",
     "text": [
      "All Open Monitoring vs. All Compassion\n"
     ]
    },
    {
     "name": "stderr",
     "output_type": "stream",
     "text": [
      "100%|██████████| 152/152 [00:00<00:00, 326.55it/s]\n",
      "100%|██████████| 76/76 [00:00<00:00, 80.22it/s]\n",
      "/home/rflperry/miniconda3/envs/datasci/lib/python3.7/site-packages/mgcpy/independence_tests/abstract_class.py:153: UserWarning: The p-value is greater than 0.05, implying that the results are not statistically significant.\n",
      "Use results such as test_statistic and optimal_scale, with caution!\n",
      "  warnings.warn(\"The p-value is greater than 0.05, implying that the results are not statistically significant.\\n\" +\n",
      " 14%|█▍        | 4/29 [00:00<00:00, 38.66it/s]"
     ]
    },
    {
     "name": "stdout",
     "output_type": "stream",
     "text": [
      "All Meditating vs. All Resting\n"
     ]
    },
    {
     "name": "stderr",
     "output_type": "stream",
     "text": [
      "100%|██████████| 29/29 [00:00<00:00, 49.83it/s]\n",
      "100%|██████████| 47/47 [00:01<00:00, 36.46it/s]\n",
      "100%|██████████| 29/29 [00:00<00:00, 179.79it/s]\n",
      "  0%|          | 0/47 [00:00<?, ?it/s]"
     ]
    },
    {
     "name": "stdout",
     "output_type": "stream",
     "text": [
      "Experts Resting vs. Novices Open Monitoring\n"
     ]
    },
    {
     "name": "stderr",
     "output_type": "stream",
     "text": [
      "100%|██████████| 47/47 [00:00<00:00, 141.23it/s]\n",
      "/home/rflperry/miniconda3/envs/datasci/lib/python3.7/site-packages/mgcpy/independence_tests/abstract_class.py:153: UserWarning: The p-value is greater than 0.05, implying that the results are not statistically significant.\n",
      "Use results such as test_statistic and optimal_scale, with caution!\n",
      "  warnings.warn(\"The p-value is greater than 0.05, implying that the results are not statistically significant.\\n\" +\n",
      "100%|██████████| 29/29 [00:00<00:00, 308.30it/s]\n",
      "  0%|          | 0/47 [00:00<?, ?it/s]"
     ]
    },
    {
     "name": "stdout",
     "output_type": "stream",
     "text": [
      "Experts Open Monitoring vs. Novices Resting\n"
     ]
    },
    {
     "name": "stderr",
     "output_type": "stream",
     "text": [
      "100%|██████████| 47/47 [00:00<00:00, 251.24it/s]\n",
      "/home/rflperry/miniconda3/envs/datasci/lib/python3.7/site-packages/mgcpy/independence_tests/abstract_class.py:153: UserWarning: The p-value is greater than 0.05, implying that the results are not statistically significant.\n",
      "Use results such as test_statistic and optimal_scale, with caution!\n",
      "  warnings.warn(\"The p-value is greater than 0.05, implying that the results are not statistically significant.\\n\" +\n",
      " 90%|████████▉ | 26/29 [00:00<00:00, 128.09it/s]"
     ]
    },
    {
     "name": "stdout",
     "output_type": "stream",
     "text": [
      "Experts Resting vs. Novices Compassion\n"
     ]
    },
    {
     "name": "stderr",
     "output_type": "stream",
     "text": [
      "100%|██████████| 29/29 [00:00<00:00, 124.37it/s]\n",
      "100%|██████████| 47/47 [00:00<00:00, 286.30it/s]\n",
      "/home/rflperry/miniconda3/envs/datasci/lib/python3.7/site-packages/mgcpy/independence_tests/abstract_class.py:153: UserWarning: The p-value is greater than 0.05, implying that the results are not statistically significant.\n",
      "Use results such as test_statistic and optimal_scale, with caution!\n",
      "  warnings.warn(\"The p-value is greater than 0.05, implying that the results are not statistically significant.\\n\" +\n",
      "100%|██████████| 29/29 [00:00<00:00, 459.70it/s]\n",
      " 26%|██▌       | 12/47 [00:00<00:00, 117.65it/s]"
     ]
    },
    {
     "name": "stdout",
     "output_type": "stream",
     "text": [
      "Experts Compassion vs. Novices Resting\n"
     ]
    },
    {
     "name": "stderr",
     "output_type": "stream",
     "text": [
      "100%|██████████| 47/47 [00:00<00:00, 186.94it/s]\n",
      "/home/rflperry/miniconda3/envs/datasci/lib/python3.7/site-packages/mgcpy/independence_tests/abstract_class.py:153: UserWarning: The p-value is greater than 0.05, implying that the results are not statistically significant.\n",
      "Use results such as test_statistic and optimal_scale, with caution!\n",
      "  warnings.warn(\"The p-value is greater than 0.05, implying that the results are not statistically significant.\\n\" +\n",
      "100%|██████████| 29/29 [00:00<00:00, 543.59it/s]\n",
      "100%|██████████| 47/47 [00:00<00:00, 380.18it/s]\n"
     ]
    },
    {
     "name": "stdout",
     "output_type": "stream",
     "text": [
      "Experts Open Monitoring vs. Novices Compassion\n"
     ]
    },
    {
     "name": "stderr",
     "output_type": "stream",
     "text": [
      "/home/rflperry/miniconda3/envs/datasci/lib/python3.7/site-packages/mgcpy/independence_tests/abstract_class.py:153: UserWarning: The p-value is greater than 0.05, implying that the results are not statistically significant.\n",
      "Use results such as test_statistic and optimal_scale, with caution!\n",
      "  warnings.warn(\"The p-value is greater than 0.05, implying that the results are not statistically significant.\\n\" +\n",
      "100%|██████████| 29/29 [00:00<00:00, 565.80it/s]\n",
      "100%|██████████| 47/47 [00:00<00:00, 409.47it/s]\n"
     ]
    },
    {
     "name": "stdout",
     "output_type": "stream",
     "text": [
      "Experts Compassion vs. Novices Open Monitoring\n"
     ]
    },
    {
     "name": "stderr",
     "output_type": "stream",
     "text": [
      "/home/rflperry/miniconda3/envs/datasci/lib/python3.7/site-packages/mgcpy/independence_tests/abstract_class.py:153: UserWarning: The p-value is greater than 0.05, implying that the results are not statistically significant.\n",
      "Use results such as test_statistic and optimal_scale, with caution!\n",
      "  warnings.warn(\"The p-value is greater than 0.05, implying that the results are not statistically significant.\\n\" +\n",
      "100%|██████████| 29/29 [00:00<00:00, 467.26it/s]\n",
      "100%|██████████| 47/47 [00:00<00:00, 423.16it/s]\n"
     ]
    },
    {
     "name": "stdout",
     "output_type": "stream",
     "text": [
      "Experts Resting vs. Novices Resting\n"
     ]
    },
    {
     "name": "stderr",
     "output_type": "stream",
     "text": [
      "/home/rflperry/miniconda3/envs/datasci/lib/python3.7/site-packages/mgcpy/independence_tests/abstract_class.py:153: UserWarning: The p-value is greater than 0.05, implying that the results are not statistically significant.\n",
      "Use results such as test_statistic and optimal_scale, with caution!\n",
      "  warnings.warn(\"The p-value is greater than 0.05, implying that the results are not statistically significant.\\n\" +\n",
      "100%|██████████| 29/29 [00:00<00:00, 419.16it/s]\n",
      " 89%|████████▉ | 42/47 [00:00<00:00, 414.39it/s]"
     ]
    },
    {
     "name": "stdout",
     "output_type": "stream",
     "text": [
      "Experts Open Monitoring vs. Novices Open Monitoring\n"
     ]
    },
    {
     "name": "stderr",
     "output_type": "stream",
     "text": [
      "100%|██████████| 47/47 [00:00<00:00, 291.11it/s]\n",
      "/home/rflperry/miniconda3/envs/datasci/lib/python3.7/site-packages/mgcpy/independence_tests/abstract_class.py:153: UserWarning: The p-value is greater than 0.05, implying that the results are not statistically significant.\n",
      "Use results such as test_statistic and optimal_scale, with caution!\n",
      "  warnings.warn(\"The p-value is greater than 0.05, implying that the results are not statistically significant.\\n\" +\n",
      " 38%|███▊      | 33/87 [00:00<00:00, 325.72it/s]"
     ]
    },
    {
     "name": "stdout",
     "output_type": "stream",
     "text": [
      "Experts Compassion vs. Novices Compassion\n"
     ]
    },
    {
     "name": "stderr",
     "output_type": "stream",
     "text": [
      "100%|██████████| 87/87 [00:00<00:00, 296.88it/s]\n",
      "100%|██████████| 141/141 [00:00<00:00, 306.85it/s]\n",
      "100%|██████████| 58/58 [00:00<00:00, 378.52it/s]\n",
      "  0%|          | 0/47 [00:00<?, ?it/s]"
     ]
    },
    {
     "name": "stdout",
     "output_type": "stream",
     "text": [
      "Experts All vs. Novices All\n"
     ]
    },
    {
     "name": "stderr",
     "output_type": "stream",
     "text": [
      "100%|██████████| 47/47 [00:00<00:00, 414.26it/s]\n"
     ]
    },
    {
     "name": "stdout",
     "output_type": "stream",
     "text": [
      "Experts Meditating vs. Novices Resting\n"
     ]
    }
   ],
   "source": [
    "n_components = [0]\n",
    "pvals = []\n",
    "names = []\n",
    "\n",
    "## x vs. x\n",
    "states = ['restingstate', 'openmonitoring', 'compassion']\n",
    "traits = ['e', 'n', '(e|n)']\n",
    "\n",
    "for trait in traits:\n",
    "    for state1,state2 in combinations(states,2):\n",
    "        pval,name = discrim_test(trait,state1,trait,state2,n_components)\n",
    "        pvals.append(pval)\n",
    "        names.append(name)\n",
    "        print(name)\n",
    "        \n",
    "    state1, state2 = '(openmonitoring|compassion)', 'restingstate'\n",
    "    pval,name = discrim_test(trait,state1,trait,state2,n_components)\n",
    "    pvals.append(pval)\n",
    "    names.append(name)\n",
    "    print(name)\n",
    "\n",
    "## x vs. y\n",
    "trait1 = 'e'\n",
    "trait2 = 'n'\n",
    "\n",
    "## Inter (between) states\n",
    "for state1,state2 in combinations(states,2):\n",
    "    pval,name = discrim_test(trait1,state1,trait2,state2,n_components)\n",
    "    pvals.append(pval)\n",
    "    names.append(name)\n",
    "    print(name)\n",
    "    pval,name = discrim_test(trait1,state2,trait2,state1,n_components)\n",
    "    pvals.append(pval)\n",
    "    names.append(name)\n",
    "    print(name)\n",
    "    \n",
    "## Intra (within) state\n",
    "for state in states + ['(.+?)']:\n",
    "    pval,name = discrim_test(trait1,state,trait2,state,n_components)\n",
    "    pvals.append(pval)\n",
    "    names.append(name)\n",
    "    print(name)\n",
    "    \n",
    "state1, state2 = '(openmonitoring|compassion)', 'restingstate'\n",
    "pval,name = discrim_test(trait1,state1,trait2,state2,n_components)\n",
    "pvals.append(pval)\n",
    "names.append(name)\n",
    "print(name)\n",
    "\n",
    "data_dict[str(n_components)] = (names,pvals)"
   ]
  },
  {
   "cell_type": "code",
   "execution_count": 286,
   "metadata": {},
   "outputs": [],
   "source": [
    "df=pd.DataFrame(columns=[])\n",
    "for key in sorted(data_dict.keys(), reverse=True):\n",
    "    names,pvals = data_dict[key]\n",
    "    df['Samples Compared'] = names\n",
    "    df[f'components={key}'] = [f'{x:.2g}' for x in pvals]"
   ]
  },
  {
   "cell_type": "code",
   "execution_count": 189,
   "metadata": {},
   "outputs": [],
   "source": [
    "save_path = basedir / 'reports' / 'mgc_gcca_pvals.csv'\n",
    "#df.to_csv(save_path, index=False)"
   ]
  },
  {
   "cell_type": "markdown",
   "metadata": {},
   "source": [
    "### MGC two-sample for each component, all vs. all"
   ]
  },
  {
   "cell_type": "code",
   "execution_count": 321,
   "metadata": {},
   "outputs": [
    {
     "name": "stderr",
     "output_type": "stream",
     "text": [
      "100%|██████████| 58/58 [00:00<00:00, 156.64it/s]\n",
      "100%|██████████| 47/47 [00:00<00:00, 211.89it/s]\n",
      "100%|██████████| 58/58 [00:00<00:00, 277.58it/s]\n",
      "100%|██████████| 47/47 [00:00<00:00, 260.21it/s]\n",
      "100%|██████████| 58/58 [00:01<00:00, 34.49it/s]\n",
      "100%|██████████| 47/47 [00:01<00:00, 45.05it/s]\n",
      "100%|██████████| 58/58 [00:00<00:00, 181.71it/s]\n",
      "100%|██████████| 47/47 [00:00<00:00, 232.89it/s]\n",
      "100%|██████████| 58/58 [00:00<00:00, 276.79it/s]\n",
      "100%|██████████| 47/47 [00:00<00:00, 250.10it/s]\n",
      "100%|██████████| 58/58 [00:00<00:00, 272.67it/s]\n",
      "100%|██████████| 47/47 [00:00<00:00, 231.92it/s]\n",
      "100%|██████████| 58/58 [00:00<00:00, 248.54it/s]\n",
      "100%|██████████| 47/47 [00:00<00:00, 271.50it/s]\n",
      "100%|██████████| 58/58 [00:00<00:00, 258.69it/s]\n",
      "100%|██████████| 47/47 [00:00<00:00, 259.41it/s]\n",
      "100%|██████████| 58/58 [00:00<00:00, 248.83it/s]\n",
      "100%|██████████| 47/47 [00:00<00:00, 249.65it/s]\n",
      "100%|██████████| 58/58 [00:00<00:00, 267.16it/s]\n",
      "100%|██████████| 47/47 [00:00<00:00, 262.22it/s]\n",
      "100%|██████████| 58/58 [00:01<00:00, 53.61it/s]\n",
      "100%|██████████| 47/47 [00:00<00:00, 50.53it/s]\n",
      "100%|██████████| 58/58 [00:00<00:00, 211.82it/s]\n",
      "100%|██████████| 47/47 [00:00<00:00, 199.64it/s]\n",
      "100%|██████████| 58/58 [00:01<00:00, 52.73it/s]\n",
      "100%|██████████| 47/47 [00:01<00:00, 26.03it/s]\n",
      "100%|██████████| 58/58 [00:00<00:00, 103.78it/s]\n",
      "100%|██████████| 47/47 [00:00<00:00, 122.39it/s]\n"
     ]
    },
    {
     "ename": "KeyboardInterrupt",
     "evalue": "",
     "output_type": "error",
     "traceback": [
      "\u001b[0;31m---------------------------------------------------------------------------\u001b[0m",
      "\u001b[0;31mKeyboardInterrupt\u001b[0m                         Traceback (most recent call last)",
      "\u001b[0;32m<ipython-input-321-8b83f2219215>\u001b[0m in \u001b[0;36m<module>\u001b[0;34m\u001b[0m\n\u001b[1;32m     11\u001b[0m \u001b[0;32mfor\u001b[0m \u001b[0mi\u001b[0m \u001b[0;32min\u001b[0m \u001b[0mrange\u001b[0m\u001b[0;34m(\u001b[0m\u001b[0;36m9\u001b[0m\u001b[0;34m)\u001b[0m\u001b[0;34m:\u001b[0m\u001b[0;34m\u001b[0m\u001b[0;34m\u001b[0m\u001b[0m\n\u001b[1;32m     12\u001b[0m     \u001b[0;32mfor\u001b[0m \u001b[0mncomp\u001b[0m \u001b[0;32min\u001b[0m \u001b[0mncomps\u001b[0m\u001b[0;34m:\u001b[0m\u001b[0;34m\u001b[0m\u001b[0;34m\u001b[0m\u001b[0m\n\u001b[0;32m---> 13\u001b[0;31m         \u001b[0mpval\u001b[0m\u001b[0;34m,\u001b[0m\u001b[0mname\u001b[0m \u001b[0;34m=\u001b[0m \u001b[0mdiscrim_test\u001b[0m\u001b[0;34m(\u001b[0m\u001b[0mtrait1\u001b[0m\u001b[0;34m,\u001b[0m\u001b[0mstate1\u001b[0m\u001b[0;34m,\u001b[0m\u001b[0mtrait2\u001b[0m\u001b[0;34m,\u001b[0m\u001b[0mstate2\u001b[0m\u001b[0;34m,\u001b[0m\u001b[0mcomponents\u001b[0m\u001b[0;34m=\u001b[0m\u001b[0;34m[\u001b[0m\u001b[0mncomp\u001b[0m\u001b[0;34m]\u001b[0m\u001b[0;34m)\u001b[0m\u001b[0;34m\u001b[0m\u001b[0;34m\u001b[0m\u001b[0m\n\u001b[0m\u001b[1;32m     14\u001b[0m         \u001b[0mpvals\u001b[0m\u001b[0;34m[\u001b[0m\u001b[0mncomp\u001b[0m\u001b[0;34m]\u001b[0m\u001b[0;34m.\u001b[0m\u001b[0mappend\u001b[0m\u001b[0;34m(\u001b[0m\u001b[0mpval\u001b[0m\u001b[0;34m)\u001b[0m\u001b[0;34m\u001b[0m\u001b[0;34m\u001b[0m\u001b[0m\n\u001b[1;32m     15\u001b[0m \u001b[0mtimediff\u001b[0m\u001b[0;34m=\u001b[0m\u001b[0mtime\u001b[0m\u001b[0;34m.\u001b[0m\u001b[0mtime\u001b[0m\u001b[0;34m(\u001b[0m\u001b[0;34m)\u001b[0m\u001b[0;34m-\u001b[0m\u001b[0mt0\u001b[0m\u001b[0;34m\u001b[0m\u001b[0;34m\u001b[0m\u001b[0m\n",
      "\u001b[0;32m<ipython-input-317-1d7a3fdf7758>\u001b[0m in \u001b[0;36mdiscrim_test\u001b[0;34m(trait1, state1, trait2, state2, components)\u001b[0m\n\u001b[1;32m      6\u001b[0m \u001b[0;34m\u001b[0m\u001b[0m\n\u001b[1;32m      7\u001b[0m     \u001b[0mmgc\u001b[0m \u001b[0;34m=\u001b[0m \u001b[0mMGC\u001b[0m\u001b[0;34m(\u001b[0m\u001b[0;34m)\u001b[0m\u001b[0;34m\u001b[0m\u001b[0;34m\u001b[0m\u001b[0m\n\u001b[0;32m----> 8\u001b[0;31m     \u001b[0mpval\u001b[0m\u001b[0;34m,\u001b[0m \u001b[0m_\u001b[0m \u001b[0;34m=\u001b[0m \u001b[0mmgc\u001b[0m\u001b[0;34m.\u001b[0m\u001b[0mp_value\u001b[0m\u001b[0;34m(\u001b[0m\u001b[0mu\u001b[0m\u001b[0;34m,\u001b[0m\u001b[0mv\u001b[0m\u001b[0;34m,\u001b[0m \u001b[0mis_fast\u001b[0m\u001b[0;34m=\u001b[0m\u001b[0;32mFalse\u001b[0m\u001b[0;34m,\u001b[0m \u001b[0mreplication_factor\u001b[0m\u001b[0;34m=\u001b[0m\u001b[0;36m1000\u001b[0m\u001b[0;34m)\u001b[0m\u001b[0;34m\u001b[0m\u001b[0;34m\u001b[0m\u001b[0m\n\u001b[0m\u001b[1;32m      9\u001b[0m \u001b[0;34m\u001b[0m\u001b[0m\n\u001b[1;32m     10\u001b[0m     \u001b[0mname\u001b[0m \u001b[0;34m=\u001b[0m \u001b[0;34mf'{lookup[trait1]} {lookup[state1]} vs. {lookup[trait2]} {lookup[state2]}'\u001b[0m\u001b[0;34m\u001b[0m\u001b[0;34m\u001b[0m\u001b[0m\n",
      "\u001b[0;32m~/miniconda3/envs/datasci/lib/python3.7/site-packages/mgcpy/independence_tests/mgc.py\u001b[0m in \u001b[0;36mp_value\u001b[0;34m(self, matrix_X, matrix_Y, replication_factor, is_fast, fast_mgc_data)\u001b[0m\n\u001b[1;32m    226\u001b[0m             \u001b[0;32mreturn\u001b[0m \u001b[0mp_value\u001b[0m\u001b[0;34m,\u001b[0m \u001b[0mp_value_metadata\u001b[0m\u001b[0;34m\u001b[0m\u001b[0;34m\u001b[0m\u001b[0m\n\u001b[1;32m    227\u001b[0m         \u001b[0;32melse\u001b[0m\u001b[0;34m:\u001b[0m\u001b[0;34m\u001b[0m\u001b[0;34m\u001b[0m\u001b[0m\n\u001b[0;32m--> 228\u001b[0;31m             \u001b[0;32mreturn\u001b[0m \u001b[0msuper\u001b[0m\u001b[0;34m(\u001b[0m\u001b[0mMGC\u001b[0m\u001b[0;34m,\u001b[0m \u001b[0mself\u001b[0m\u001b[0;34m)\u001b[0m\u001b[0;34m.\u001b[0m\u001b[0mp_value\u001b[0m\u001b[0;34m(\u001b[0m\u001b[0mmatrix_X\u001b[0m\u001b[0;34m,\u001b[0m \u001b[0mmatrix_Y\u001b[0m\u001b[0;34m)\u001b[0m\u001b[0;34m\u001b[0m\u001b[0;34m\u001b[0m\u001b[0m\n\u001b[0m\u001b[1;32m    229\u001b[0m \u001b[0;34m\u001b[0m\u001b[0m\n\u001b[1;32m    230\u001b[0m     \u001b[0;32mdef\u001b[0m \u001b[0m_fast_mgc_p_value\u001b[0m\u001b[0;34m(\u001b[0m\u001b[0mself\u001b[0m\u001b[0;34m,\u001b[0m \u001b[0mmatrix_X\u001b[0m\u001b[0;34m,\u001b[0m \u001b[0mmatrix_Y\u001b[0m\u001b[0;34m,\u001b[0m \u001b[0msub_samples\u001b[0m\u001b[0;34m=\u001b[0m\u001b[0;36m10\u001b[0m\u001b[0;34m)\u001b[0m\u001b[0;34m:\u001b[0m\u001b[0;34m\u001b[0m\u001b[0;34m\u001b[0m\u001b[0m\n",
      "\u001b[0;32m~/miniconda3/envs/datasci/lib/python3.7/site-packages/mgcpy/independence_tests/abstract_class.py\u001b[0m in \u001b[0;36mp_value\u001b[0;34m(self, matrix_X, matrix_Y, replication_factor)\u001b[0m\n\u001b[1;32m    119\u001b[0m \u001b[0;34m\u001b[0m\u001b[0m\n\u001b[1;32m    120\u001b[0m                 temp_mgc_statistic, temp_independence_test_metadata = self.test_statistic(\n\u001b[0;32m--> 121\u001b[0;31m                     matrix_X, premuted_matrix_Y)\n\u001b[0m\u001b[1;32m    122\u001b[0m                 \u001b[0mtemp_local_correlation_matrix\u001b[0m \u001b[0;34m=\u001b[0m \u001b[0mtemp_independence_test_metadata\u001b[0m\u001b[0;34m[\u001b[0m\u001b[0;34m\"local_correlation_matrix\"\u001b[0m\u001b[0;34m]\u001b[0m\u001b[0;34m\u001b[0m\u001b[0;34m\u001b[0m\u001b[0m\n\u001b[1;32m    123\u001b[0m \u001b[0;34m\u001b[0m\u001b[0m\n",
      "\u001b[0;32m~/miniconda3/envs/datasci/lib/python3.7/site-packages/mgcpy/independence_tests/mgc.py\u001b[0m in \u001b[0;36mtest_statistic\u001b[0;34m(self, matrix_X, matrix_Y, is_fast, fast_mgc_data)\u001b[0m\n\u001b[1;32m     88\u001b[0m             \u001b[0mdistance_matrix_X\u001b[0m\u001b[0;34m,\u001b[0m \u001b[0mdistance_matrix_Y\u001b[0m \u001b[0;34m=\u001b[0m \u001b[0mcompute_distance\u001b[0m\u001b[0;34m(\u001b[0m\u001b[0mmatrix_X\u001b[0m\u001b[0;34m,\u001b[0m \u001b[0mmatrix_Y\u001b[0m\u001b[0;34m,\u001b[0m \u001b[0mself\u001b[0m\u001b[0;34m.\u001b[0m\u001b[0mcompute_distance_matrix\u001b[0m\u001b[0;34m)\u001b[0m\u001b[0;34m\u001b[0m\u001b[0;34m\u001b[0m\u001b[0m\n\u001b[1;32m     89\u001b[0m             local_correlation_matrix = local_correlations(distance_matrix_X, distance_matrix_Y,\n\u001b[0;32m---> 90\u001b[0;31m                                                           base_global_correlation=self.base_global_correlation)[\"local_correlation_matrix\"]\n\u001b[0m\u001b[1;32m     91\u001b[0m             \u001b[0mm\u001b[0m\u001b[0;34m,\u001b[0m \u001b[0mn\u001b[0m \u001b[0;34m=\u001b[0m \u001b[0mlocal_correlation_matrix\u001b[0m\u001b[0;34m.\u001b[0m\u001b[0mshape\u001b[0m\u001b[0;34m\u001b[0m\u001b[0;34m\u001b[0m\u001b[0m\n\u001b[1;32m     92\u001b[0m             \u001b[0;32mif\u001b[0m \u001b[0mm\u001b[0m \u001b[0;34m==\u001b[0m \u001b[0;36m1\u001b[0m \u001b[0;32mor\u001b[0m \u001b[0mn\u001b[0m \u001b[0;34m==\u001b[0m \u001b[0;36m1\u001b[0m\u001b[0;34m:\u001b[0m\u001b[0;34m\u001b[0m\u001b[0;34m\u001b[0m\u001b[0m\n",
      "\u001b[0;32mmgcpy/independence_tests/mgc_utils/local_correlation.pyx\u001b[0m in \u001b[0;36mmgcpy.independence_tests.mgc_utils.local_correlation.local_correlations\u001b[0;34m()\u001b[0m\n",
      "\u001b[0;32mmgcpy/independence_tests/mgc_utils/local_correlation.pyx\u001b[0m in \u001b[0;36mmgcpy.independence_tests.mgc_utils.local_correlation.local_correlations\u001b[0;34m()\u001b[0m\n",
      "\u001b[0;32mmgcpy/independence_tests/mgc_utils/local_correlation.pyx\u001b[0m in \u001b[0;36mmgcpy.independence_tests.mgc_utils.local_correlation.local_covariance\u001b[0;34m()\u001b[0m\n",
      "\u001b[0;32m~/miniconda3/envs/datasci/lib/python3.7/site-packages/numpy/core/fromnumeric.py\u001b[0m in \u001b[0;36mamax\u001b[0;34m(a, axis, out, keepdims, initial)\u001b[0m\n\u001b[1;32m   2395\u001b[0m \u001b[0;34m\u001b[0m\u001b[0m\n\u001b[1;32m   2396\u001b[0m \u001b[0;34m\u001b[0m\u001b[0m\n\u001b[0;32m-> 2397\u001b[0;31m \u001b[0;34m@\u001b[0m\u001b[0marray_function_dispatch\u001b[0m\u001b[0;34m(\u001b[0m\u001b[0m_amax_dispatcher\u001b[0m\u001b[0;34m)\u001b[0m\u001b[0;34m\u001b[0m\u001b[0;34m\u001b[0m\u001b[0m\n\u001b[0m\u001b[1;32m   2398\u001b[0m \u001b[0;32mdef\u001b[0m \u001b[0mamax\u001b[0m\u001b[0;34m(\u001b[0m\u001b[0ma\u001b[0m\u001b[0;34m,\u001b[0m \u001b[0maxis\u001b[0m\u001b[0;34m=\u001b[0m\u001b[0;32mNone\u001b[0m\u001b[0;34m,\u001b[0m \u001b[0mout\u001b[0m\u001b[0;34m=\u001b[0m\u001b[0;32mNone\u001b[0m\u001b[0;34m,\u001b[0m \u001b[0mkeepdims\u001b[0m\u001b[0;34m=\u001b[0m\u001b[0mnp\u001b[0m\u001b[0;34m.\u001b[0m\u001b[0m_NoValue\u001b[0m\u001b[0;34m,\u001b[0m \u001b[0minitial\u001b[0m\u001b[0;34m=\u001b[0m\u001b[0mnp\u001b[0m\u001b[0;34m.\u001b[0m\u001b[0m_NoValue\u001b[0m\u001b[0;34m)\u001b[0m\u001b[0;34m:\u001b[0m\u001b[0;34m\u001b[0m\u001b[0;34m\u001b[0m\u001b[0m\n\u001b[1;32m   2399\u001b[0m     \"\"\"\n",
      "\u001b[0;31mKeyboardInterrupt\u001b[0m: "
     ]
    }
   ],
   "source": [
    "trait1 = 'e'\n",
    "trait2 = 'n'\n",
    "    \n",
    "n_components = None\n",
    "## Intra (within) state\n",
    "state1, state2 = '(openmonitoring|compassion)', 'restingstate'\n",
    "#state1, state2 = '(.+?)', '(.+?)'\n",
    "ncomps = list(range(3))\n",
    "#pvals = {i:[] for i in ncomps}\n",
    "t0=time.time()\n",
    "for i in range(9):\n",
    "    for ncomp in ncomps:\n",
    "        pval,name = discrim_test(trait1,state1,trait2,state2,components=[ncomp])\n",
    "        pvals[ncomp].append(pval)\n",
    "timediff=time.time()-t0"
   ]
  },
  {
   "cell_type": "code",
   "execution_count": 302,
   "metadata": {},
   "outputs": [
    {
     "data": {
      "text/plain": [
       "([<matplotlib.axis.XTick at 0x7f5dbae84fd0>,\n",
       "  <matplotlib.axis.XTick at 0x7f5dbaede4a8>,\n",
       "  <matplotlib.axis.XTick at 0x7f5dbaede9b0>,\n",
       "  <matplotlib.axis.XTick at 0x7f5dbaead710>,\n",
       "  <matplotlib.axis.XTick at 0x7f5dbaeadba8>,\n",
       "  <matplotlib.axis.XTick at 0x7f5dbae8c128>,\n",
       "  <matplotlib.axis.XTick at 0x7f5dbaead390>,\n",
       "  <matplotlib.axis.XTick at 0x7f5dbae8c668>],\n",
       " <a list of 8 Text xticklabel objects>)"
      ]
     },
     "execution_count": 302,
     "metadata": {},
     "output_type": "execute_result"
    },
    {
     "data": {
      "image/png": "[encoded data removed]",
      "text/plain": [
       "<Figure size 1296x360 with 3 Axes>"
      ]
     },
     "metadata": {
      "needs_background": "light"
     },
     "output_type": "display_data"
    }
   ],
   "source": [
    "n = 3\n",
    "plt.subplots(1,n,figsize=(18,5))\n",
    "plt.subplot(1,n,1)\n",
    "plt.plot(list(range(1,16)),pvals_en_all)\n",
    "plt.title('Experts All vs. Novices All')\n",
    "plt.xticks(range(1,16,2))\n",
    "\n",
    "plt.subplot(1,n,2)\n",
    "plt.plot(list(range(1,16)),pvals_en_med)\n",
    "plt.title('Experts meditating vs. Novices resting')\n",
    "plt.xticks(range(1,16,2))\n",
    "\n",
    "plt.subplot(1,n,3)\n",
    "plt.plot(list(range(1,16)),pvals_ee_med)\n",
    "plt.title('Experts Meditating vs. Experts resting')\n",
    "plt.xticks(range(1,16,2))"
   ]
  },
  {
   "cell_type": "code",
   "execution_count": 218,
   "metadata": {},
   "outputs": [
    {
     "name": "stderr",
     "output_type": "stream",
     "text": [
      "100%|██████████| 87/87 [00:00<00:00, 434.66it/s]\n"
     ]
    }
   ],
   "source": [
    "latents1,labels1 = get_class(n_components=None,task=state,level=trait1)"
   ]
  },
  {
   "cell_type": "code",
   "execution_count": null,
   "metadata": {},
   "outputs": [],
   "source": []
  }
 ],
 "metadata": {
  "kernelspec": {
   "display_name": "Python [conda env:datasci]",
   "language": "python",
   "name": "conda-env-datasci-py"
  },
  "language_info": {
   "codemirror_mode": {
    "name": "ipython",
    "version": 3
   },
   "file_extension": ".py",
   "mimetype": "text/x-python",
   "name": "python",
   "nbconvert_exporter": "python",
   "pygments_lexer": "ipython3",
   "version": "3.7.3"
  }
 },
 "nbformat": 4,
 "nbformat_minor": 2
}

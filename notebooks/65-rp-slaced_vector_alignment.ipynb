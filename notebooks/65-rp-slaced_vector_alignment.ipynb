{
 "cells": [
  {
   "cell_type": "code",
   "execution_count": 1,
   "metadata": {},
   "outputs": [],
   "source": [
    "import numpy as np\n",
    "from scipy.linalg import svd"
   ]
  },
  {
   "cell_type": "code",
   "execution_count": 42,
   "metadata": {},
   "outputs": [],
   "source": [
    "X = np.random.normal(0, 1, (10, 2))"
   ]
  },
  {
   "cell_type": "code",
   "execution_count": 43,
   "metadata": {},
   "outputs": [],
   "source": [
    "u1, s1, vt1 = svd(X, full_matrices=False)"
   ]
  },
  {
   "cell_type": "code",
   "execution_count": 85,
   "metadata": {},
   "outputs": [],
   "source": [
    "Z = np.hstack([u1] * 2)\n",
    "Z = Z @ np.diag([2, 1, 1, 2])"
   ]
  },
  {
   "cell_type": "code",
   "execution_count": 86,
   "metadata": {},
   "outputs": [],
   "source": [
    "u2, s2, vt2 = svd(Z, full_matrices=False)"
   ]
  },
  {
   "cell_type": "code",
   "execution_count": 87,
   "metadata": {},
   "outputs": [
    {
     "data": {
      "text/plain": [
       "array([[ 1.        , -0.00139413],\n",
       "       [ 0.00139413, -1.        ]])"
      ]
     },
     "execution_count": 87,
     "metadata": {},
     "output_type": "execute_result"
    }
   ],
   "source": [
    "np.corrcoef(u1, u2[:, :2], rowvar=False)[:2, 2:]"
   ]
  },
  {
   "cell_type": "code",
   "execution_count": 31,
   "metadata": {},
   "outputs": [
    {
     "data": {
      "text/plain": [
       "array([[-0.36228834,  0.33770927, -0.05113998],\n",
       "       [ 0.34966977,  0.83879778,  0.36651057],\n",
       "       [-0.31367977,  0.41599302, -0.78126742],\n",
       "       [-0.64021035, -0.00999825,  0.31061931],\n",
       "       [-0.48807163,  0.09602377,  0.39521079]])"
      ]
     },
     "execution_count": 31,
     "metadata": {},
     "output_type": "execute_result"
    }
   ],
   "source": [
    "u1"
   ]
  },
  {
   "cell_type": "code",
   "execution_count": 32,
   "metadata": {},
   "outputs": [
    {
     "data": {
      "text/plain": [
       "array([[ 0.33770927, -0.36228834,  0.10549024,  0.77981423],\n",
       "       [ 0.83879778,  0.34966977, -0.06655109, -0.31635175],\n",
       "       [ 0.41599302, -0.31367977,  0.25652784,  0.02348563],\n",
       "       [-0.00999825, -0.64021035,  0.43093449, -0.52245818],\n",
       "       [ 0.09602377, -0.48807163, -0.8561143 , -0.1352672 ]])"
      ]
     },
     "execution_count": 32,
     "metadata": {},
     "output_type": "execute_result"
    }
   ],
   "source": [
    "u2"
   ]
  },
  {
   "cell_type": "code",
   "execution_count": 37,
   "metadata": {},
   "outputs": [
    {
     "data": {
      "text/plain": [
       "array([[-1.12974202e-16,  7.07106781e-01,  1.11022302e-16,\n",
       "         7.07106781e-01],\n",
       "       [ 7.07106781e-01,  0.00000000e+00,  7.07106781e-01,\n",
       "         0.00000000e+00],\n",
       "       [-1.52624051e-01,  6.90438918e-01,  1.52624051e-01,\n",
       "        -6.90438918e-01],\n",
       "       [-6.90438918e-01, -1.52624051e-01,  6.90438918e-01,\n",
       "         1.52624051e-01]])"
      ]
     },
     "execution_count": 37,
     "metadata": {},
     "output_type": "execute_result"
    }
   ],
   "source": [
    "vt2"
   ]
  },
  {
   "cell_type": "code",
   "execution_count": null,
   "metadata": {},
   "outputs": [],
   "source": []
  }
 ],
 "metadata": {
  "kernelspec": {
   "display_name": "Python 3.7.6 64-bit ('base': conda)",
   "language": "python",
   "name": "python37664bitbaseconda19db8c3c14cd47c29dff39736515a2a6"
  },
  "language_info": {
   "codemirror_mode": {
    "name": "ipython",
    "version": 3
   },
   "file_extension": ".py",
   "mimetype": "text/x-python",
   "name": "python",
   "nbconvert_exporter": "python",
   "pygments_lexer": "ipython3",
   "version": "3.7.6"
  }
 },
 "nbformat": 4,
 "nbformat_minor": 4
}

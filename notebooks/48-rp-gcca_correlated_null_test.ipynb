{
 "cells": [
  {
   "cell_type": "markdown",
   "metadata": {},
   "source": [
    "Here, we investigate the potential violation of a valid 2sample test following gcca on data with pairwise correlations"
   ]
  },
  {
   "cell_type": "code",
   "execution_count": 2,
   "metadata": {},
   "outputs": [],
   "source": [
    "from hyppo.independence import Dcorr\n",
    "from hyppo.ksample._utils import k_sample_transform\n",
    "from mvlearn.embed import GCCA\n",
    "import numpy as np\n",
    "\n",
    "from collections import defaultdict\n",
    "from scipy.spatial.distance import squareform, pdist\n",
    "import matplotlib.pyplot as plt\n",
    "from mpl_toolkits.axes_grid1 import make_axes_locatable\n",
    "import seaborn as sns\n",
    "\n",
    "# custom seaborn plot options to make the figures pretty\n",
    "sns.set(color_codes=True, style='white', context='notebook', font_scale=1.25)\n",
    "PALETTE = sns.color_palette(\"Set1\")\n",
    "sns.set_palette(PALETTE[3:])\n",
    "\n",
    "import warnings\n",
    "warnings.filterwarnings('ignore')"
   ]
  },
  {
   "cell_type": "code",
   "execution_count": 97,
   "metadata": {},
   "outputs": [],
   "source": [
    "def simulate_2sample_null(n1, n2=None, d=100, group_std=0.1, seed=None):\n",
    "    \"\"\"\n",
    "    Simulates a set of paired observations for a 2-sample test.\n",
    "    \n",
    "    n1,n2 : size of the two groups. Are both n1 if n2 is None\n",
    "    d : dimension of observations\n",
    "    group_std : standard deviation of normal distribution around group mean\n",
    "    \"\"\"\n",
    "    np.random.seed(seed)\n",
    "    \n",
    "    # Means for each observation\n",
    "    mus1 = np.random.normal(0,1,(n1,d))\n",
    "    if n2 is None:\n",
    "        n2 = n1\n",
    "    mus2 = np.random.normal(0,1,(n2,d))\n",
    "    \n",
    "    # Paired observations\n",
    "    X = np.vstack(\n",
    "        [np.random.normal(mu, group_std, (2,d)) for mu in mus1]  +\n",
    "        [np.random.normal(mu, group_std, (2,d)) for mu in mus2]\n",
    "    )        \n",
    "    return X\n",
    "\n",
    "def simulate_multiviews_null(n_view_pairs, n, d=100, group_std=0.1, seed=None, dist=np.random.normal, dist_kwargs={'loc':0, 'scale':1}):\n",
    "    \"\"\"\n",
    "    Simulates multivariate gaussian data of shape (n_niews, n, d)\n",
    "    where sequential pairs in the 1st dimension are correlated\n",
    "    \"\"\"\n",
    "    np.random.seed(seed)\n",
    "\n",
    "    mus = [dist(**dist_kwargs,size=(n,d)) for i in range(n_view_pairs)]\n",
    "    X = np.asarray(np.vstack([\n",
    "        [np.random.normal(mu, group_std), np.random.normal(mu, group_std)] for mu in mus\n",
    "    ]))\n",
    "    \n",
    "    return X"
   ]
  },
  {
   "cell_type": "code",
   "execution_count": 51,
   "metadata": {},
   "outputs": [],
   "source": [
    "# Simulation parameters\n",
    "n_views = 25\n",
    "n = 1000\n",
    "d = 100\n",
    "group_std = 0.1\n",
    "\n",
    "N_DATASETS = 100\n",
    "REPS = 250"
   ]
  },
  {
   "cell_type": "code",
   "execution_count": 47,
   "metadata": {},
   "outputs": [
    {
     "data": {
      "text/plain": [
       "(50, 1000, 100)"
      ]
     },
     "execution_count": 47,
     "metadata": {},
     "output_type": "execute_result"
    }
   ],
   "source": [
    "Xs.shape"
   ]
  },
  {
   "cell_type": "code",
   "execution_count": 76,
   "metadata": {},
   "outputs": [],
   "source": [
    "# Labels\n",
    "Y_within = np.asarray([0, 1] * (n_views))\n",
    "#Y_across = np.hstack(([0] * n1 * 2, [1] * n2 * 2))\n",
    "\n",
    "# Permutation tree blocks\n",
    "blocks_within = -1*np.hstack([[i+1]*2 for i in range(n_views)]).T\n",
    "# blocks_across = np.c_[\n",
    "#     np.hstack([[i+1]*2 for i in range(n1+n2)]),\n",
    "#     -1*Y_within - 1\n",
    "# ]\n",
    "\n",
    "REPS = 500\n",
    "test_results = []"
   ]
  },
  {
   "cell_type": "code",
   "execution_count": 80,
   "metadata": {},
   "outputs": [
    {
     "name": "stdout",
     "output_type": "stream",
     "text": [
      "80\n"
     ]
    }
   ],
   "source": [
    "print(len(test_results))"
   ]
  },
  {
   "cell_type": "code",
   "execution_count": 82,
   "metadata": {},
   "outputs": [
    {
     "name": "stdout",
     "output_type": "stream",
     "text": [
      "0 25 50 75 "
     ]
    }
   ],
   "source": [
    "for i in range(N_DATASETS):\n",
    "    if i % 25 == 0:\n",
    "        print(i, end=' ')\n",
    "    Xs = simulate_multiviews_null(n_views, n, d, seed=i+len(test_results))\n",
    "    components = GCCA(n_components=1).fit_transform(Xs)\n",
    "    _, pval = Dcorr().test(\n",
    "        components[:,:,0],\n",
    "        Y_within,\n",
    "        reps=REPS,\n",
    "        workers=-1,\n",
    "        #auto=False,\n",
    "        perm_blocks=blocks_within,\n",
    "    )\n",
    "    test_results.append(pval)"
   ]
  },
  {
   "cell_type": "code",
   "execution_count": 92,
   "metadata": {},
   "outputs": [
    {
     "data": {
      "image/png": "[encoded data removed]",
      "text/plain": [
       "<Figure size 576x288 with 1 Axes>"
      ]
     },
     "metadata": {},
     "output_type": "display_data"
    }
   ],
   "source": [
    "#fig, axes = plt.subplots(2,3, figsize=(4, 4*len(data_dict.keys())))\n",
    "fig = plt.figure(figsize=(8, 4))\n",
    "\n",
    "ax = fig.add_subplot(111)#, sharey=ax)\n",
    "N = len(test_results)\n",
    "entries, edges, _ = ax.hist(test_results, bins = np.arange(0,1.1,0.1), weights=np.ones(N)/N, color='b')\n",
    "# entries = height of each column = proportion in that bin\n",
    "# calculate bin centers\n",
    "bin_centers = 0.5 * (edges[:-1] + edges[1:])\n",
    "ax.axhline(y=sum(entries) / len(bin_centers), ls='--', c='#333333')\n",
    "# errorbars are binomial proportion confidence intervals\n",
    "ax.errorbar(\n",
    "    bin_centers, entries,\n",
    "    yerr = 1.96 * np.sqrt(entries * (1 - entries) / N),\n",
    "    fmt='.',c='#333333'\n",
    ")\n",
    "ax.set_title(f'pvalues distribution')\n",
    "\n",
    "ax.set_xticks([0,1])\n",
    "\n",
    "ax.set_yticks([0,0.1])\n",
    "#ax.set_yticks([0, 0.1, 1])\n",
    "\n",
    "plt.show()"
   ]
  },
  {
   "cell_type": "markdown",
   "metadata": {},
   "source": [
    "### Fat tailed sampels (pareto dist)"
   ]
  },
  {
   "cell_type": "code",
   "execution_count": 95,
   "metadata": {},
   "outputs": [],
   "source": [
    "results_pareto = []"
   ]
  },
  {
   "cell_type": "code",
   "execution_count": 98,
   "metadata": {},
   "outputs": [
    {
     "name": "stdout",
     "output_type": "stream",
     "text": [
      "0\n",
      "0 25 50 75 "
     ]
    }
   ],
   "source": [
    "print(f'Results list length: {len(results_pareto)}')\n",
    "for i in range(N_DATASETS):\n",
    "    if i % 25 == 0:\n",
    "        print(i, end=' ')\n",
    "    Xs = simulate_multiviews_null(n_views, n, d, seed=i+len(test_results),\n",
    "                                  dist=np.random.pareto,dist_kwargs={'a':3})\n",
    "    components = GCCA(n_components=1).fit_transform(Xs)\n",
    "    _, pval = Dcorr().test(\n",
    "        components[:,:,0],\n",
    "        Y_within,\n",
    "        reps=REPS,\n",
    "        workers=-1,\n",
    "        #auto=False,\n",
    "        perm_blocks=blocks_within,\n",
    "    )\n",
    "    results_pareto.append(pval)"
   ]
  },
  {
   "cell_type": "code",
   "execution_count": 99,
   "metadata": {},
   "outputs": [
    {
     "data": {
      "image/png": "[encoded data removed]",
      "text/plain": [
       "<Figure size 576x288 with 1 Axes>"
      ]
     },
     "metadata": {},
     "output_type": "display_data"
    }
   ],
   "source": [
    "#fig, axes = plt.subplots(2,3, figsize=(4, 4*len(data_dict.keys())))\n",
    "fig = plt.figure(figsize=(8, 4))\n",
    "\n",
    "ax = fig.add_subplot(111)#, sharey=ax)\n",
    "N = len(results_pareto)\n",
    "entries, edges, _ = ax.hist(results_pareto, bins = np.arange(0,1.1,0.1), weights=np.ones(N)/N, color='b')\n",
    "# entries = height of each column = proportion in that bin\n",
    "# calculate bin centers\n",
    "bin_centers = 0.5 * (edges[:-1] + edges[1:])\n",
    "ax.axhline(y=sum(entries) / len(bin_centers), ls='--', c='#333333')\n",
    "# errorbars are binomial proportion confidence intervals\n",
    "ax.errorbar(\n",
    "    bin_centers, entries,\n",
    "    yerr = 1.96 * np.sqrt(entries * (1 - entries) / N),\n",
    "    fmt='.',c='#333333'\n",
    ")\n",
    "ax.set_title(f'pvalues under pareto distribution')\n",
    "\n",
    "ax.set_xticks([0,1])\n",
    "\n",
    "ax.set_yticks([0,0.1])\n",
    "#ax.set_yticks([0, 0.1, 1])\n",
    "\n",
    "plt.show()"
   ]
  },
  {
   "cell_type": "markdown",
   "metadata": {},
   "source": [
    "### Third gradient"
   ]
  },
  {
   "cell_type": "code",
   "execution_count": 104,
   "metadata": {},
   "outputs": [],
   "source": [
    "results_pareto3 = []"
   ]
  },
  {
   "cell_type": "code",
   "execution_count": 105,
   "metadata": {},
   "outputs": [
    {
     "name": "stdout",
     "output_type": "stream",
     "text": [
      "Results list length: 0\n",
      "0 25 50 75 "
     ]
    }
   ],
   "source": [
    "print(f'Results list length: {len(results_pareto3)}')\n",
    "for i in range(N_DATASETS):\n",
    "    if i % 25 == 0:\n",
    "        print(i, end=' ')\n",
    "    Xs = simulate_multiviews_null(n_views, n, d, seed=i+len(test_results),\n",
    "                                  dist=np.random.pareto,dist_kwargs={'a':3})\n",
    "    components = GCCA(n_components=3).fit_transform(Xs)\n",
    "    _, pval = Dcorr().test(\n",
    "        components[:,:,2],\n",
    "        Y_within,\n",
    "        reps=REPS,\n",
    "        workers=-1,\n",
    "        #auto=False,\n",
    "        perm_blocks=blocks_within,\n",
    "    )\n",
    "    results_pareto3.append(pval)"
   ]
  },
  {
   "cell_type": "code",
   "execution_count": 106,
   "metadata": {},
   "outputs": [
    {
     "data": {
      "image/png": "[encoded data removed]",
      "text/plain": [
       "<Figure size 576x288 with 1 Axes>"
      ]
     },
     "metadata": {},
     "output_type": "display_data"
    }
   ],
   "source": [
    "#fig, axes = plt.subplots(2,3, figsize=(4, 4*len(data_dict.keys())))\n",
    "fig = plt.figure(figsize=(8, 4))\n",
    "\n",
    "ax = fig.add_subplot(111)#, sharey=ax)\n",
    "N = len(results_pareto3)\n",
    "entries, edges, _ = ax.hist(results_pareto3, bins = np.arange(0,1.1,0.1), weights=np.ones(N)/N, color='b')\n",
    "# entries = height of each column = proportion in that bin\n",
    "# calculate bin centers\n",
    "bin_centers = 0.5 * (edges[:-1] + edges[1:])\n",
    "ax.axhline(y=sum(entries) / len(bin_centers), ls='--', c='#333333')\n",
    "# errorbars are binomial proportion confidence intervals\n",
    "ax.errorbar(\n",
    "    bin_centers, entries,\n",
    "    yerr = 1.96 * np.sqrt(entries * (1 - entries) / N),\n",
    "    fmt='.',c='#333333'\n",
    ")\n",
    "ax.set_title(f'pvalues under pareto distribution')\n",
    "\n",
    "ax.set_xticks([0,1])\n",
    "\n",
    "ax.set_yticks([0,0.1])\n",
    "#ax.set_yticks([0, 0.1, 1])\n",
    "\n",
    "plt.show()"
   ]
  },
  {
   "cell_type": "code",
   "execution_count": null,
   "metadata": {},
   "outputs": [],
   "source": []
  }
 ],
 "metadata": {
  "kernelspec": {
   "display_name": "Python 3.7.6 64-bit ('base': conda)",
   "language": "python",
   "name": "python37664bitbaseconda19db8c3c14cd47c29dff39736515a2a6"
  },
  "language_info": {
   "codemirror_mode": {
    "name": "ipython",
    "version": 3
   },
   "file_extension": ".py",
   "mimetype": "text/x-python",
   "name": "python",
   "nbconvert_exporter": "python",
   "pygments_lexer": "ipython3",
   "version": "3.7.6"
  }
 },
 "nbformat": 4,
 "nbformat_minor": 4
}

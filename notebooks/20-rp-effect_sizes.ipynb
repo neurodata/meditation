{
 "cells": [
  {
   "cell_type": "code",
   "execution_count": 19,
   "metadata": {},
   "outputs": [
    {
     "name": "stdout",
     "output_type": "stream",
     "text": [
      "The autoreload extension is already loaded. To reload it, use:\n",
      "  %reload_ext autoreload\n",
      "The nb_black extension is already loaded. To reload it, use:\n",
      "  %reload_ext nb_black\n"
     ]
    },
    {
     "data": {
      "application/javascript": [
       "\n",
       "            setTimeout(function() {\n",
       "                var nbb_cell_id = 19;\n",
       "                var nbb_unformatted_code = \"import numpy as np\\nimport pandas as pd\\nfrom pathlib import Path\\nimport matplotlib.pyplot as plt\\nimport matplotlib.ticker as ticker\\n\\n%matplotlib inline\\n\\nimport seaborn as sns\\n\\nsns.set(color_codes=True, style=\\\"white\\\", context=\\\"talk\\\", font_scale=1)\\nPALETTE = sns.color_palette(\\\"Set1\\\")\\n\\nfrom sklearn.metrics import pairwise_distances\\nfrom hyppo.independence import Dcorr\\nfrom scipy.stats import multiscale_graphcorr\\nfrom hyppo.ksample._utils import k_sample_transform\\nfrom hyppo.independence.dcorr import _center_distmat\\nfrom graspy.plot import heatmap\\n\\nimport sys\\n\\nsys.path.append(\\\"../\\\")\\nfrom src.tools.utils import get_files, get_latents\\n\\n%load_ext autoreload\\n%autoreload 2\\n%load_ext nb_black\";\n",
       "                var nbb_formatted_code = \"import numpy as np\\nimport pandas as pd\\nfrom pathlib import Path\\nimport matplotlib.pyplot as plt\\nimport matplotlib.ticker as ticker\\n\\n%matplotlib inline\\n\\nimport seaborn as sns\\n\\nsns.set(color_codes=True, style=\\\"white\\\", context=\\\"talk\\\", font_scale=1)\\nPALETTE = sns.color_palette(\\\"Set1\\\")\\n\\nfrom sklearn.metrics import pairwise_distances\\nfrom hyppo.independence import Dcorr\\nfrom scipy.stats import multiscale_graphcorr\\nfrom hyppo.ksample._utils import k_sample_transform\\nfrom hyppo.independence.dcorr import _center_distmat\\nfrom graspy.plot import heatmap\\n\\nimport sys\\n\\nsys.path.append(\\\"../\\\")\\nfrom src.tools.utils import get_files, get_latents\\n\\n%load_ext autoreload\\n%autoreload 2\\n%load_ext nb_black\";\n",
       "                var nbb_cells = Jupyter.notebook.get_cells();\n",
       "                for (var i = 0; i < nbb_cells.length; ++i) {\n",
       "                    if (nbb_cells[i].input_prompt_number == nbb_cell_id) {\n",
       "                        if (nbb_cells[i].get_text() == nbb_unformatted_code) {\n",
       "                             nbb_cells[i].set_text(nbb_formatted_code);\n",
       "                        }\n",
       "                        break;\n",
       "                    }\n",
       "                }\n",
       "            }, 500);\n",
       "            "
      ],
      "text/plain": [
       "<IPython.core.display.Javascript object>"
      ]
     },
     "metadata": {},
     "output_type": "display_data"
    }
   ],
   "source": [
    "import numpy as np\n",
    "import pandas as pd\n",
    "from pathlib import Path\n",
    "import matplotlib.pyplot as plt\n",
    "import matplotlib.ticker as ticker\n",
    "\n",
    "%matplotlib inline\n",
    "\n",
    "import seaborn as sns\n",
    "\n",
    "sns.set(color_codes=True, style=\"white\", context=\"talk\", font_scale=1)\n",
    "PALETTE = sns.color_palette(\"Set1\")\n",
    "\n",
    "from sklearn.metrics import pairwise_distances\n",
    "from hyppo.independence import Dcorr\n",
    "from scipy.stats import multiscale_graphcorr\n",
    "from hyppo.ksample._utils import k_sample_transform\n",
    "from hyppo.independence.dcorr import _center_distmat\n",
    "from graspy.plot import heatmap\n",
    "\n",
    "import sys\n",
    "\n",
    "sys.path.append(\"../\")\n",
    "from src.tools.utils import get_files, get_latents\n",
    "\n",
    "%load_ext autoreload\n",
    "%autoreload 2\n",
    "%load_ext nb_black"
   ]
  },
  {
   "cell_type": "code",
   "execution_count": 2,
   "metadata": {},
   "outputs": [
    {
     "data": {
      "application/javascript": [
       "\n",
       "            setTimeout(function() {\n",
       "                var nbb_cell_id = 2;\n",
       "                var nbb_unformatted_code = \"sns.set(color_codes=True, style=\\\"white\\\", context=\\\"poster\\\", font_scale=2)\\nPALETTE = sns.color_palette(\\\"Set1\\\")\\nsns.set_palette(PALETTE[3:])\";\n",
       "                var nbb_formatted_code = \"sns.set(color_codes=True, style=\\\"white\\\", context=\\\"poster\\\", font_scale=2)\\nPALETTE = sns.color_palette(\\\"Set1\\\")\\nsns.set_palette(PALETTE[3:])\";\n",
       "                var nbb_cells = Jupyter.notebook.get_cells();\n",
       "                for (var i = 0; i < nbb_cells.length; ++i) {\n",
       "                    if (nbb_cells[i].input_prompt_number == nbb_cell_id) {\n",
       "                        if (nbb_cells[i].get_text() == nbb_unformatted_code) {\n",
       "                             nbb_cells[i].set_text(nbb_formatted_code);\n",
       "                        }\n",
       "                        break;\n",
       "                    }\n",
       "                }\n",
       "            }, 500);\n",
       "            "
      ],
      "text/plain": [
       "<IPython.core.display.Javascript object>"
      ]
     },
     "metadata": {},
     "output_type": "display_data"
    }
   ],
   "source": [
    "sns.set(color_codes=True, style=\"white\", context=\"poster\", font_scale=2)\n",
    "PALETTE = sns.color_palette(\"Set1\")\n",
    "sns.set_palette(PALETTE[3:])"
   ]
  },
  {
   "cell_type": "code",
   "execution_count": 3,
   "metadata": {},
   "outputs": [
    {
     "data": {
      "application/javascript": [
       "\n",
       "            setTimeout(function() {\n",
       "                var nbb_cell_id = 3;\n",
       "                var nbb_unformatted_code = \"base_dir = Path(\\\"/mnt/ssd3/ronan/data/gcca_05-26-10:39_min_rank-ZG3/\\\")\\n# base_dir = Path(\\\"/mnt/ssd3/ronan/data/gcca_05-17-18:27_max_rank-ZG2/\\\")\\ngroups, labels = get_latents(base_dir, flag=\\\"_gcca\\\")\";\n",
       "                var nbb_formatted_code = \"base_dir = Path(\\\"/mnt/ssd3/ronan/data/gcca_05-26-10:39_min_rank-ZG3/\\\")\\n# base_dir = Path(\\\"/mnt/ssd3/ronan/data/gcca_05-17-18:27_max_rank-ZG2/\\\")\\ngroups, labels = get_latents(base_dir, flag=\\\"_gcca\\\")\";\n",
       "                var nbb_cells = Jupyter.notebook.get_cells();\n",
       "                for (var i = 0; i < nbb_cells.length; ++i) {\n",
       "                    if (nbb_cells[i].input_prompt_number == nbb_cell_id) {\n",
       "                        if (nbb_cells[i].get_text() == nbb_unformatted_code) {\n",
       "                             nbb_cells[i].set_text(nbb_formatted_code);\n",
       "                        }\n",
       "                        break;\n",
       "                    }\n",
       "                }\n",
       "            }, 500);\n",
       "            "
      ],
      "text/plain": [
       "<IPython.core.display.Javascript object>"
      ]
     },
     "metadata": {},
     "output_type": "display_data"
    }
   ],
   "source": [
    "base_dir = Path(\"/mnt/ssd3/ronan/data/gcca_05-26-10:39_min_rank-ZG3/\")\n",
    "# base_dir = Path(\"/mnt/ssd3/ronan/data/gcca_05-17-18:27_max_rank-ZG2/\")\n",
    "groups, labels = get_latents(base_dir, flag=\"_gcca\")"
   ]
  },
  {
   "cell_type": "code",
   "execution_count": 4,
   "metadata": {},
   "outputs": [
    {
     "data": {
      "text/plain": [
       "[['e', 'restingstate'],\n",
       " ['e', 'openmonitoring'],\n",
       " ['e', 'compassion'],\n",
       " ['n', 'restingstate'],\n",
       " ['n', 'openmonitoring'],\n",
       " ['n', 'compassion']]"
      ]
     },
     "execution_count": 4,
     "metadata": {},
     "output_type": "execute_result"
    },
    {
     "data": {
      "application/javascript": [
       "\n",
       "            setTimeout(function() {\n",
       "                var nbb_cell_id = 4;\n",
       "                var nbb_unformatted_code = \"labels\";\n",
       "                var nbb_formatted_code = \"labels\";\n",
       "                var nbb_cells = Jupyter.notebook.get_cells();\n",
       "                for (var i = 0; i < nbb_cells.length; ++i) {\n",
       "                    if (nbb_cells[i].input_prompt_number == nbb_cell_id) {\n",
       "                        if (nbb_cells[i].get_text() == nbb_unformatted_code) {\n",
       "                             nbb_cells[i].set_text(nbb_formatted_code);\n",
       "                        }\n",
       "                        break;\n",
       "                    }\n",
       "                }\n",
       "            }, 500);\n",
       "            "
      ],
      "text/plain": [
       "<IPython.core.display.Javascript object>"
      ]
     },
     "metadata": {},
     "output_type": "display_data"
    }
   ],
   "source": [
    "labels"
   ]
  },
  {
   "cell_type": "code",
   "execution_count": 31,
   "metadata": {},
   "outputs": [
    {
     "data": {
      "application/javascript": [
       "\n",
       "            setTimeout(function() {\n",
       "                var nbb_cell_id = 31;\n",
       "                var nbb_unformatted_code = \"ways = [[0,0], [0,1], [0,2], [1,0], [1,1], [1,2]]\\nX, Y = k_sample_transform(groups, ways=ways)\\nX = X[:, :, :3]\";\n",
       "                var nbb_formatted_code = \"ways = [[0, 0], [0, 1], [0, 2], [1, 0], [1, 1], [1, 2]]\\nX, Y = k_sample_transform(groups, ways=ways)\\nX = X[:, :, :3]\";\n",
       "                var nbb_cells = Jupyter.notebook.get_cells();\n",
       "                for (var i = 0; i < nbb_cells.length; ++i) {\n",
       "                    if (nbb_cells[i].input_prompt_number == nbb_cell_id) {\n",
       "                        if (nbb_cells[i].get_text() == nbb_unformatted_code) {\n",
       "                             nbb_cells[i].set_text(nbb_formatted_code);\n",
       "                        }\n",
       "                        break;\n",
       "                    }\n",
       "                }\n",
       "            }, 500);\n",
       "            "
      ],
      "text/plain": [
       "<IPython.core.display.Javascript object>"
      ]
     },
     "metadata": {},
     "output_type": "display_data"
    }
   ],
   "source": [
    "ways = [[0, 0], [0, 1], [0, 2], [1, 0], [1, 1], [1, 2]]\n",
    "X, Y = k_sample_transform(groups, ways=ways)\n",
    "X = X[:, :, :3]"
   ]
  },
  {
   "cell_type": "markdown",
   "metadata": {},
   "source": [
    "## Effects to test\n",
    "Each gradient\n",
    "- Expert vs Novice (global)\n",
    "- Expert vs Novice (per state)\n",
    "- Expert vs Expert (state-vs-other)"
   ]
  },
  {
   "cell_type": "code",
   "execution_count": 48,
   "metadata": {},
   "outputs": [
    {
     "data": {
      "application/javascript": [
       "\n",
       "            setTimeout(function() {\n",
       "                var nbb_cell_id = 48;\n",
       "                var nbb_unformatted_code = \"def get_sum(c_mat, Y, trait, states, normalized=True):\\n    \\\"\\\"\\\"\\n    \\n    \\\"\\\"\\\"\\n    trait_idx = np.where(Y[:, trait] == 1)[0]\\n    states_idxs = []\\n    for state in states:\\n        states_idxs.append(set(np.where(Y[:, state + 2] == 1)[0]))\\n    idx = list(set.union(*states_idxs) & set(trait_idx))\\n\\n    return np.sum(c_mat[np.ix_(idx, idx)])\";\n",
       "                var nbb_formatted_code = \"def get_sum(c_mat, Y, trait, states, normalized=True):\\n    \\\"\\\"\\\"\\n    \\n    \\\"\\\"\\\"\\n    trait_idx = np.where(Y[:, trait] == 1)[0]\\n    states_idxs = []\\n    for state in states:\\n        states_idxs.append(set(np.where(Y[:, state + 2] == 1)[0]))\\n    idx = list(set.union(*states_idxs) & set(trait_idx))\\n\\n    return np.sum(c_mat[np.ix_(idx, idx)])\";\n",
       "                var nbb_cells = Jupyter.notebook.get_cells();\n",
       "                for (var i = 0; i < nbb_cells.length; ++i) {\n",
       "                    if (nbb_cells[i].input_prompt_number == nbb_cell_id) {\n",
       "                        if (nbb_cells[i].get_text() == nbb_unformatted_code) {\n",
       "                             nbb_cells[i].set_text(nbb_formatted_code);\n",
       "                        }\n",
       "                        break;\n",
       "                    }\n",
       "                }\n",
       "            }, 500);\n",
       "            "
      ],
      "text/plain": [
       "<IPython.core.display.Javascript object>"
      ]
     },
     "metadata": {},
     "output_type": "display_data"
    }
   ],
   "source": [
    "def get_sum(c_mat, Y, trait, states, normalized=True):\n",
    "    \"\"\"\n",
    "    \n",
    "    \"\"\"\n",
    "    trait_idx = np.where(Y[:, trait] == 1)[0]\n",
    "    states_idxs = []\n",
    "    for state in states:\n",
    "        states_idxs.append(set(np.where(Y[:, state + 2] == 1)[0]))\n",
    "    idx = list(set.union(*states_idxs) & set(trait_idx))\n",
    "\n",
    "    return np.sum(c_mat[np.ix_(idx, idx)])"
   ]
  },
  {
   "cell_type": "code",
   "execution_count": 50,
   "metadata": {},
   "outputs": [
    {
     "data": {
      "application/javascript": [
       "\n",
       "            setTimeout(function() {\n",
       "                var nbb_cell_id = 50;\n",
       "                var nbb_unformatted_code = \"effects = []\\ninteractions = [\\n    \\\"Expert - Novice\\\",\\n    \\\"Expert - Novice (resting state)\\\",\\n    \\\"Expert - Novice (open monitoring)\\\",\\n    \\\"Expert - Novice (compassion)\\\",\\n    \\\"Expert (Meditating) - Novice (Resting)\\\",\\n    \\\"Expert (resting) - Expert (other)\\\",\\n    \\\"Expert (open monitoring) - Expert (other)\\\",\\n    \\\"Expert (compassion) - Expert (other)\\\",\\n]\\nfor gradient in [0, 1, 2]:\\n    effs = []\\n    X_dists = pairwise_distances(X[:, :, gradient], metric=\\\"euclidean\\\")\\n    Y_dists = pairwise_distances(Y[:, :2], metric=\\\"sqeuclidean\\\") / 2\\n\\n    X_centered_dists = _center_distmat(X_dists, bias=False)\\n    Y_centered_dists = _center_distmat(Y_dists, bias=False)\\n\\n    c_mat = X_centered_dists * Y_centered_dists\\n\\n    ## e vs n global\\n    effs.append((get_sum(c_mat, Y, 0, [0, 1, 2]) - get_sum(c_mat, Y, 1, [0, 1, 2])) / 9)\\n    ## e vs n statewise\\n    for state in range(3):\\n        effs.append((get_sum(c_mat, Y, 0, [state]) - get_sum(c_mat, Y, 1, [state])))\\n    ## e meditating vs n resting\\n    effs.append((get_sum(c_mat, Y, 0, [1, 2]) / 4 - get_sum(c_mat, Y, 1, [0])))\\n    ## e vs e state-vs-other\\n    for state in range(3):\\n        other = list(set(range(3)) - set([state]))\\n        effs.append((get_sum(c_mat, Y, 0, [state]) - get_sum(c_mat, Y, 0, other) / 4))\\n\\n    effects.append(effs)\";\n",
       "                var nbb_formatted_code = \"effects = []\\ninteractions = [\\n    \\\"Expert - Novice\\\",\\n    \\\"Expert - Novice (resting state)\\\",\\n    \\\"Expert - Novice (open monitoring)\\\",\\n    \\\"Expert - Novice (compassion)\\\",\\n    \\\"Expert (Meditating) - Novice (Resting)\\\",\\n    \\\"Expert (resting) - Expert (other)\\\",\\n    \\\"Expert (open monitoring) - Expert (other)\\\",\\n    \\\"Expert (compassion) - Expert (other)\\\",\\n]\\nfor gradient in [0, 1, 2]:\\n    effs = []\\n    X_dists = pairwise_distances(X[:, :, gradient], metric=\\\"euclidean\\\")\\n    Y_dists = pairwise_distances(Y[:, :2], metric=\\\"sqeuclidean\\\") / 2\\n\\n    X_centered_dists = _center_distmat(X_dists, bias=False)\\n    Y_centered_dists = _center_distmat(Y_dists, bias=False)\\n\\n    c_mat = X_centered_dists * Y_centered_dists\\n\\n    ## e vs n global\\n    effs.append((get_sum(c_mat, Y, 0, [0, 1, 2]) - get_sum(c_mat, Y, 1, [0, 1, 2])) / 9)\\n    ## e vs n statewise\\n    for state in range(3):\\n        effs.append((get_sum(c_mat, Y, 0, [state]) - get_sum(c_mat, Y, 1, [state])))\\n    ## e meditating vs n resting\\n    effs.append((get_sum(c_mat, Y, 0, [1, 2]) / 4 - get_sum(c_mat, Y, 1, [0])))\\n    ## e vs e state-vs-other\\n    for state in range(3):\\n        other = list(set(range(3)) - set([state]))\\n        effs.append((get_sum(c_mat, Y, 0, [state]) - get_sum(c_mat, Y, 0, other) / 4))\\n\\n    effects.append(effs)\";\n",
       "                var nbb_cells = Jupyter.notebook.get_cells();\n",
       "                for (var i = 0; i < nbb_cells.length; ++i) {\n",
       "                    if (nbb_cells[i].input_prompt_number == nbb_cell_id) {\n",
       "                        if (nbb_cells[i].get_text() == nbb_unformatted_code) {\n",
       "                             nbb_cells[i].set_text(nbb_formatted_code);\n",
       "                        }\n",
       "                        break;\n",
       "                    }\n",
       "                }\n",
       "            }, 500);\n",
       "            "
      ],
      "text/plain": [
       "<IPython.core.display.Javascript object>"
      ]
     },
     "metadata": {},
     "output_type": "display_data"
    }
   ],
   "source": [
    "effects = []\n",
    "interactions = [\n",
    "    \"Expert - Novice\",\n",
    "    \"Expert (resting state) - Novice (resting state)\",\n",
    "    \"Expert (open monitoring) - Novice (open monitoring)\",\n",
    "    \"Expert (compassion) - Novice (compassion)\",\n",
    "    \"Expert (Meditating) - Novice (Resting)\",\n",
    "    \"Expert (resting) - Expert (other)\",\n",
    "    \"Expert (open monitoring) - Expert (other)\",\n",
    "    \"Expert (compassion) - Expert (other)\",\n",
    "]\n",
    "for gradient in [0, 1, 2]:\n",
    "    effs = []\n",
    "    X_dists = pairwise_distances(X[:, :, gradient], metric=\"euclidean\")\n",
    "    Y_dists = pairwise_distances(Y[:, :2], metric=\"sqeuclidean\") / 2\n",
    "\n",
    "    X_centered_dists = _center_distmat(X_dists, bias=False)\n",
    "    Y_centered_dists = _center_distmat(Y_dists, bias=False)\n",
    "\n",
    "    c_mat = X_centered_dists * Y_centered_dists\n",
    "\n",
    "    ## e vs n global\n",
    "    effs.append((get_sum(c_mat, Y, 0, [0, 1, 2]) - get_sum(c_mat, Y, 1, [0, 1, 2])) / 9)\n",
    "    ## e vs n statewise\n",
    "    for state in range(3):\n",
    "        effs.append((get_sum(c_mat, Y, 0, [state]) - get_sum(c_mat, Y, 1, [state])))\n",
    "    ## e meditating vs n resting\n",
    "    effs.append((get_sum(c_mat, Y, 0, [1, 2]) / 4 - get_sum(c_mat, Y, 1, [0])))\n",
    "    ## e vs e state-vs-other\n",
    "    for state in range(3):\n",
    "        other = list(set(range(3)) - set([state]))\n",
    "        effs.append((get_sum(c_mat, Y, 0, [state]) - get_sum(c_mat, Y, 0, other) / 4))\n",
    "\n",
    "    effects.append(effs)"
   ]
  },
  {
   "cell_type": "code",
   "execution_count": 74,
   "metadata": {},
   "outputs": [
    {
     "data": {
      "application/javascript": [
       "\n",
       "            setTimeout(function() {\n",
       "                var nbb_cell_id = 74;\n",
       "                var nbb_unformatted_code = \"df = pd.DataFrame(\\n    np.vstack((interactions, *np.asarray(effects).astype(int))).T,\\n    columns=[\\\"Effect\\\", \\\"Gradient 1\\\", \\\"Gradient 2\\\", \\\"Gradient 3\\\"],\\n).set_index(\\\"Effect\\\")\";\n",
       "                var nbb_formatted_code = \"df = pd.DataFrame(\\n    np.vstack((interactions, *np.asarray(effects).astype(int))).T,\\n    columns=[\\\"Effect\\\", \\\"Gradient 1\\\", \\\"Gradient 2\\\", \\\"Gradient 3\\\"],\\n).set_index(\\\"Effect\\\")\";\n",
       "                var nbb_cells = Jupyter.notebook.get_cells();\n",
       "                for (var i = 0; i < nbb_cells.length; ++i) {\n",
       "                    if (nbb_cells[i].input_prompt_number == nbb_cell_id) {\n",
       "                        if (nbb_cells[i].get_text() == nbb_unformatted_code) {\n",
       "                             nbb_cells[i].set_text(nbb_formatted_code);\n",
       "                        }\n",
       "                        break;\n",
       "                    }\n",
       "                }\n",
       "            }, 500);\n",
       "            "
      ],
      "text/plain": [
       "<IPython.core.display.Javascript object>"
      ]
     },
     "metadata": {},
     "output_type": "display_data"
    }
   ],
   "source": [
    "df = pd.DataFrame(\n",
    "    np.vstack((interactions, *np.asarray(effects).astype(int))).T,\n",
    "    columns=[\"Effect\", \"Gradient 1\", \"Gradient 2\", \"Gradient 3\"],\n",
    ").set_index(\"Effect\")"
   ]
  },
  {
   "cell_type": "code",
   "execution_count": 75,
   "metadata": {},
   "outputs": [
    {
     "data": {
      "text/html": [
       "<div>\n",
       "<style scoped>\n",
       "    .dataframe tbody tr th:only-of-type {\n",
       "        vertical-align: middle;\n",
       "    }\n",
       "\n",
       "    .dataframe tbody tr th {\n",
       "        vertical-align: top;\n",
       "    }\n",
       "\n",
       "    .dataframe thead th {\n",
       "        text-align: right;\n",
       "    }\n",
       "</style>\n",
       "<table border=\"1\" class=\"dataframe\">\n",
       "  <thead>\n",
       "    <tr style=\"text-align: right;\">\n",
       "      <th></th>\n",
       "      <th>Gradient 1</th>\n",
       "      <th>Gradient 2</th>\n",
       "      <th>Gradient 3</th>\n",
       "    </tr>\n",
       "    <tr>\n",
       "      <th>Effect</th>\n",
       "      <th></th>\n",
       "      <th></th>\n",
       "      <th></th>\n",
       "    </tr>\n",
       "  </thead>\n",
       "  <tbody>\n",
       "    <tr>\n",
       "      <th>Expert - Novice</th>\n",
       "      <td>154</td>\n",
       "      <td>139</td>\n",
       "      <td>162</td>\n",
       "    </tr>\n",
       "    <tr>\n",
       "      <th>Expert (resting state) - Novice (resting state)</th>\n",
       "      <td>26</td>\n",
       "      <td>167</td>\n",
       "      <td>-268</td>\n",
       "    </tr>\n",
       "    <tr>\n",
       "      <th>Expert (open monitoring) - Novice (open monitoring)</th>\n",
       "      <td>-253</td>\n",
       "      <td>-58</td>\n",
       "      <td>239</td>\n",
       "    </tr>\n",
       "    <tr>\n",
       "      <th>Expert (compassion) - Novice (compassion)</th>\n",
       "      <td>143</td>\n",
       "      <td>-183</td>\n",
       "      <td>333</td>\n",
       "    </tr>\n",
       "    <tr>\n",
       "      <th>Expert (Meditating) - Novice (Resting)</th>\n",
       "      <td>320</td>\n",
       "      <td>324</td>\n",
       "      <td>319</td>\n",
       "    </tr>\n",
       "    <tr>\n",
       "      <th>Expert (resting) - Expert (other)</th>\n",
       "      <td>-293</td>\n",
       "      <td>-157</td>\n",
       "      <td>-587</td>\n",
       "    </tr>\n",
       "    <tr>\n",
       "      <th>Expert (open monitoring) - Expert (other)</th>\n",
       "      <td>-314</td>\n",
       "      <td>-114</td>\n",
       "      <td>-24</td>\n",
       "    </tr>\n",
       "    <tr>\n",
       "      <th>Expert (compassion) - Expert (other)</th>\n",
       "      <td>-169</td>\n",
       "      <td>-402</td>\n",
       "      <td>388</td>\n",
       "    </tr>\n",
       "  </tbody>\n",
       "</table>\n",
       "</div>"
      ],
      "text/plain": [
       "                                                   Gradient 1 Gradient 2  \\\n",
       "Effect                                                                     \n",
       "Expert - Novice                                           154        139   \n",
       "Expert (resting state) - Novice (resting state)            26        167   \n",
       "Expert (open monitoring) - Novice (open monitor...       -253        -58   \n",
       "Expert (compassion) - Novice (compassion)                 143       -183   \n",
       "Expert (Meditating) - Novice (Resting)                    320        324   \n",
       "Expert (resting) - Expert (other)                        -293       -157   \n",
       "Expert (open monitoring) - Expert (other)                -314       -114   \n",
       "Expert (compassion) - Expert (other)                     -169       -402   \n",
       "\n",
       "                                                   Gradient 3  \n",
       "Effect                                                         \n",
       "Expert - Novice                                           162  \n",
       "Expert (resting state) - Novice (resting state)          -268  \n",
       "Expert (open monitoring) - Novice (open monitor...        239  \n",
       "Expert (compassion) - Novice (compassion)                 333  \n",
       "Expert (Meditating) - Novice (Resting)                    319  \n",
       "Expert (resting) - Expert (other)                        -587  \n",
       "Expert (open monitoring) - Expert (other)                 -24  \n",
       "Expert (compassion) - Expert (other)                      388  "
      ]
     },
     "execution_count": 75,
     "metadata": {},
     "output_type": "execute_result"
    },
    {
     "data": {
      "application/javascript": [
       "\n",
       "            setTimeout(function() {\n",
       "                var nbb_cell_id = 75;\n",
       "                var nbb_unformatted_code = \"df\";\n",
       "                var nbb_formatted_code = \"df\";\n",
       "                var nbb_cells = Jupyter.notebook.get_cells();\n",
       "                for (var i = 0; i < nbb_cells.length; ++i) {\n",
       "                    if (nbb_cells[i].input_prompt_number == nbb_cell_id) {\n",
       "                        if (nbb_cells[i].get_text() == nbb_unformatted_code) {\n",
       "                             nbb_cells[i].set_text(nbb_formatted_code);\n",
       "                        }\n",
       "                        break;\n",
       "                    }\n",
       "                }\n",
       "            }, 500);\n",
       "            "
      ],
      "text/plain": [
       "<IPython.core.display.Javascript object>"
      ]
     },
     "metadata": {},
     "output_type": "display_data"
    }
   ],
   "source": [
    "df"
   ]
  },
  {
   "cell_type": "code",
   "execution_count": 79,
   "metadata": {},
   "outputs": [
    {
     "data": {
      "application/javascript": [
       "\n",
       "            setTimeout(function() {\n",
       "                var nbb_cell_id = 79;\n",
       "                var nbb_unformatted_code = \"df.to_csv(\\\"../reports/ohbm/effect_sizes.csv\\\")\";\n",
       "                var nbb_formatted_code = \"df.to_csv(\\\"../reports/ohbm/effect_sizes.csv\\\")\";\n",
       "                var nbb_cells = Jupyter.notebook.get_cells();\n",
       "                for (var i = 0; i < nbb_cells.length; ++i) {\n",
       "                    if (nbb_cells[i].input_prompt_number == nbb_cell_id) {\n",
       "                        if (nbb_cells[i].get_text() == nbb_unformatted_code) {\n",
       "                             nbb_cells[i].set_text(nbb_formatted_code);\n",
       "                        }\n",
       "                        break;\n",
       "                    }\n",
       "                }\n",
       "            }, 500);\n",
       "            "
      ],
      "text/plain": [
       "<IPython.core.display.Javascript object>"
      ]
     },
     "metadata": {},
     "output_type": "display_data"
    }
   ],
   "source": [
    "df.to_csv(\"../reports/ohbm/effect_sizes.csv\")"
   ]
  },
  {
   "cell_type": "markdown",
   "metadata": {},
   "source": [
    "## Standardized by Permutation"
   ]
  },
  {
   "cell_type": "code",
   "execution_count": null,
   "metadata": {},
   "outputs": [],
   "source": []
  }
 ],
 "metadata": {
  "kernelspec": {
   "display_name": "Python 3.7.6 64-bit ('base': conda)",
   "language": "python",
   "name": "python37664bitbaseconda19db8c3c14cd47c29dff39736515a2a6"
  },
  "language_info": {
   "codemirror_mode": {
    "name": "ipython",
    "version": 3
   },
   "file_extension": ".py",
   "mimetype": "text/x-python",
   "name": "python",
   "nbconvert_exporter": "python",
   "pygments_lexer": "ipython3",
   "version": "3.7.6"
  }
 },
 "nbformat": 4,
 "nbformat_minor": 4
}

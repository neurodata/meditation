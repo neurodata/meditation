{
 "cells": [
  {
   "cell_type": "code",
   "execution_count": 1,
   "metadata": {},
   "outputs": [
    {
     "name": "stderr",
     "output_type": "stream",
     "text": [
      "/home/rflperry/miniconda3/envs/datasci/lib/python3.7/site-packages/sklearn/externals/joblib/__init__.py:15: DeprecationWarning: sklearn.externals.joblib is deprecated in 0.21 and will be removed in 0.23. Please import this functionality directly from joblib, which can be installed with: pip install joblib. If this warning is raised when loading pickled models, you may need to re-serialize those models with scikit-learn 0.21+.\n",
      "  warnings.warn(msg, category=DeprecationWarning)\n"
     ]
    }
   ],
   "source": [
    "import h5py\n",
    "import nibabel as nib\n",
    "import numpy as np\n",
    "import matplotlib.pyplot as plt\n",
    "import matplotlib as mpl\n",
    "%matplotlib inline\n",
    "\n",
    "from scipy import stats\n",
    "\n",
    "from nilearn import datasets, plotting\n",
    "# Note nilearn plotting incompatible with Mtplotlib version >= 3.1\n",
    "\n",
    "from pathlib import Path\n",
    "import os\n",
    "import re\n",
    "import pandas as pd\n",
    "\n",
    "from tqdm import tqdm"
   ]
  },
  {
   "cell_type": "code",
   "execution_count": 2,
   "metadata": {},
   "outputs": [],
   "source": [
    "h5_key = 'latent'\n",
    "## Define paths\n",
    "basedir = Path('..')\n",
    "datadir = basedir / 'data'\n",
    "rawdir = datadir / 'raw'\n",
    "gccadir = datadir / 'interim' / 'gcca'\n",
    "externaldir = datadir / 'external'"
   ]
  },
  {
   "cell_type": "markdown",
   "metadata": {},
   "source": [
    "## Load Files"
   ]
  },
  {
   "cell_type": "code",
   "execution_count": 26,
   "metadata": {},
   "outputs": [],
   "source": [
    "def get_files(path,\n",
    "              level='(e|n)',\n",
    "              subject='([0-9]{3})',\n",
    "              task='(.+?)',\n",
    "              filetype='h5',\n",
    "              flag=''):\n",
    "    files = []\n",
    "    query = f'^{level}_sub-'\n",
    "    query += f'{subject}_ses-1_'\n",
    "    query += f'task-{task}{flag}\\.{filetype}'\n",
    "    for f in os.listdir(path):\n",
    "        match = re.search(query, f)\n",
    "        if match:\n",
    "            files.append((f, match.groups()))\n",
    "    \n",
    "    return(files)"
   ]
  },
  {
   "cell_type": "code",
   "execution_count": 13,
   "metadata": {},
   "outputs": [
    {
     "data": {
      "text/plain": [
       "228"
      ]
     },
     "execution_count": 13,
     "metadata": {},
     "output_type": "execute_result"
    }
   ],
   "source": [
    "len(get_files(path=gccadir))"
   ]
  },
  {
   "cell_type": "code",
   "execution_count": 17,
   "metadata": {},
   "outputs": [],
   "source": [
    "# plot on fsa5 surface:\n",
    "fsa5 = datasets.fetch_surf_fsaverage()"
   ]
  },
  {
   "cell_type": "code",
   "execution_count": 14,
   "metadata": {},
   "outputs": [],
   "source": [
    "def visualize_embeddings(embeddings, level, task, statistic, save=True, vmax=None, symmetric_cbar=True,colorbar=False, n_embed = 4):\n",
    "    fig, axes = plt.subplots(n_embed, 4, subplot_kw={'projection': '3d'}, figsize=(20, 20))\n",
    "\n",
    "    for i in range(n_embed):\n",
    "        ax = axes[i]\n",
    "        X = embeddings[:, i]\n",
    "\n",
    "        cortex_left = nib.freesurfer.read_label(externaldir / 'lh.cortex.label')\n",
    "\n",
    "        conn_map = np.zeros(10242)\n",
    "        conn_map[cortex_left] = X[:len(cortex_left)]\n",
    "\n",
    "        plotting.plot_surf_stat_map(fsa5.infl_left, \n",
    "          conn_map, hemi='left', colorbar=False, cmap='RdBu', axes = ax[0],\n",
    "          vmax=vmax, symmetric_cbar=symmetric_cbar)\n",
    "\n",
    "        plotting.plot_surf_stat_map(fsa5.infl_left,\n",
    "          conn_map, hemi='left', colorbar=False, cmap='RdBu', view='medial', axes=ax[1], \n",
    "            vmax=vmax,symmetric_cbar=symmetric_cbar)\n",
    "\n",
    "        cortex_right = nib.freesurfer.read_label(externaldir / 'rh.cortex.label')\n",
    "\n",
    "        conn_map = np.zeros(10242)\n",
    "        conn_map[cortex_right] = X[len(cortex_left):]\n",
    "\n",
    "        plotting.plot_surf_stat_map(fsa5.infl_right, \n",
    "          conn_map, hemi='right', colorbar=False, cmap='RdBu', axes = ax[2], \n",
    "           vmax=vmax,symmetric_cbar=symmetric_cbar)\n",
    "\n",
    "        plotting.plot_surf_stat_map(fsa5.infl_right,\n",
    "          conn_map, hemi='right', colorbar=colorbar, cmap='RdBu', view='medial', axes=ax[3], \n",
    "            vmax=vmax,symmetric_cbar=symmetric_cbar)\n",
    "\n",
    "    fig.suptitle(f'{statistic}: {level}, {task}', fontsize=20)\n",
    "    if save:\n",
    "        plt.savefig(f'../reports/figures/{level}-{task}-{statistic}.png', format='png', bbox_inches='tight')\n",
    "    else:\n",
    "        plt.show()\n",
    "    plt.close(fig)"
   ]
  },
  {
   "cell_type": "code",
   "execution_count": 15,
   "metadata": {},
   "outputs": [],
   "source": [
    "tasks = ['restingstate', 'openmonitoring', 'compassion']\n",
    "levels = ['e', 'n']"
   ]
  },
  {
   "cell_type": "code",
   "execution_count": 7,
   "metadata": {},
   "outputs": [
    {
     "name": "stderr",
     "output_type": "stream",
     "text": [
      "100%|██████████| 29/29 [00:00<00:00, 41.10it/s]\n",
      "100%|██████████| 29/29 [00:00<00:00, 60.73it/s]\n",
      "100%|██████████| 29/29 [00:00<00:00, 73.26it/s]\n",
      "100%|██████████| 47/47 [00:00<00:00, 67.39it/s]\n",
      "100%|██████████| 47/47 [00:00<00:00, 65.06it/s]\n",
      "100%|██████████| 47/47 [00:00<00:00, 68.74it/s]\n"
     ]
    }
   ],
   "source": [
    "## Get filenames for each task, novice vs. experienced\n",
    "\n",
    "\n",
    "## Load a single set of latents\n",
    "#for task,level in np.array(np.meshgrid(tasks,levels)).T.reshape(-1,2):\n",
    "\n",
    "stds = {l:{} for l in levels}\n",
    "avgs = {l:{} for l in levels}\n",
    "\n",
    "#latents = {t:{l:[] for l in tasks} for t in levels}\n",
    "\n",
    "vmax_avg = 0\n",
    "vmax_std = 0\n",
    "\n",
    "for level in levels:#level=levels[1]\n",
    "    for task in tasks:\n",
    "        paths = get_files(path=gccadir, level=level, task=task, flag='_gcca')\n",
    "        subjs = []\n",
    "        latents = []\n",
    "        \n",
    "        n_load = len(paths)\n",
    "\n",
    "        for path,subj in tqdm(paths[:n_load]):\n",
    "            h5f = h5py.File(gccadir / path,'r')\n",
    "            latent = h5f[h5_key][:]\n",
    "            h5f.close()\n",
    "            latents.append(latent)\n",
    "            subjs.append(subj)\n",
    "            \n",
    "        avgs[level][task] = np.mean(np.array(latents), axis=0)\n",
    "        stds[level][task] = np.std(np.array(latents), axis=0)\n",
    "        \n",
    "        if max(avgs[level][task][:,:4].flatten()) > vmax_avg:\n",
    "            vmax_avg = max(avgs[level][task][:,:4].flatten())\n",
    "        if max(stds[level][task][:,:4].flatten()) > vmax_std:\n",
    "            vmax_std = max(stds[level][task][:,:4].flatten())\n",
    "\n",
    "#vmax = max([max(l[:,:4].flatten()) for l in latents.])"
   ]
  },
  {
   "cell_type": "code",
   "execution_count": 23,
   "metadata": {},
   "outputs": [
    {
     "name": "stdout",
     "output_type": "stream",
     "text": [
      "e restingstate\n",
      "e openmonitoring\n",
      "e compassion\n",
      "n restingstate\n",
      "n openmonitoring\n",
      "n compassion\n"
     ]
    }
   ],
   "source": [
    "colorbar=False\n",
    "for level in levels:\n",
    "    for task in tasks:\n",
    "        print(level, task)\n",
    "        visualize_embeddings(avgs[level][task], level=level, task=task, vmax=vmax_avg, statistic=, save=True,colorbar=colorbar)\n",
    "        visualize_embeddings(stds[level][task], level=level, task=task, vmax=vmax_std, statistic='std', save=True,colorbar=colorbar)"
   ]
  },
  {
   "cell_type": "code",
   "execution_count": 28,
   "metadata": {},
   "outputs": [],
   "source": [
    "def make_cbar(vmax, label):\n",
    "    fig, ax = plt.subplots(figsize=(1, 15))\n",
    "    fig.subplots_adjust(bottom=0.5)\n",
    "\n",
    "    cmap = mpl.cm.RdBu\n",
    "    norm = mpl.colors.Normalize(vmin=-vmax, vmax=vmax)\n",
    "\n",
    "    cb1 = mpl.colorbar.ColorbarBase(ax, cmap=cmap,\n",
    "                                    norm=norm,\n",
    "                                    orientation='vertical')\n",
    "    #cb1.set_label('Some Units')\n",
    "    plt.savefig(f'../reports/figures/{label}_colorbar.png', format='png', bbox_inches='tight')\n",
    "    plt.close(fig)"
   ]
  },
  {
   "cell_type": "markdown",
   "metadata": {},
   "source": [
    "## Single subject"
   ]
  },
  {
   "cell_type": "code",
   "execution_count": 35,
   "metadata": {},
   "outputs": [],
   "source": [
    "latents = {t:{l:None for l in tasks} for t in levels}\n",
    "subjs = {'e': '025', 'n': '002'}\n",
    "\n",
    "for level in levels:#level=levels[1]\n",
    "    for task in tasks:\n",
    "        path, _ = get_files(path=gccadir, subject=subjs[level], level=level, task=task, flag='_gcca')[0]\n",
    "        \n",
    "        h5f = h5py.File(gccadir / path,'r')\n",
    "        latent = h5f[h5_key][:]\n",
    "        h5f.close()\n",
    "        latents[level][task] = latent"
   ]
  },
  {
   "cell_type": "code",
   "execution_count": 44,
   "metadata": {},
   "outputs": [
    {
     "name": "stdout",
     "output_type": "stream",
     "text": [
      "e restingstate\n",
      "e openmonitoring\n",
      "e compassion\n",
      "n restingstate\n",
      "n openmonitoring\n",
      "n compassion\n"
     ]
    }
   ],
   "source": [
    "vmax = max(max(a.flatten()) for l in latents.values() for a in l.values())\n",
    "\n",
    "colorbar=True\n",
    "\n",
    "if not colorbar:\n",
    "    make_cbar(vmax, 'individuals')\n",
    "\n",
    "for level in levels:\n",
    "    for task in tasks:\n",
    "        print(level, task)\n",
    "        if not colorbar:\n",
    "            visualize_embeddings(latents[level][task], level=level, task=task, vmax=vmax_avg, statistic=subjs[level], save=True, colorbar=colorbar)\n",
    "        else:\n",
    "            visualize_embeddings(latents[level][task], level=level, task=task, statistic=f'{subjs[level]}_unnormalized', save=True, colorbar=colorbar)"
   ]
  },
  {
   "cell_type": "markdown",
   "metadata": {},
   "source": [
    "## Various visualizations"
   ]
  },
  {
   "cell_type": "code",
   "execution_count": 111,
   "metadata": {},
   "outputs": [],
   "source": [
    "std_diffs = {}\n",
    "avg_diffs = {}\n",
    "for task in tasks:\n",
    "    std_diffs[task] = stds['e'][task] - stds['n'][task]\n",
    "    avg_diffs[task] = avgs['e'][task] - avgs['n'][task]"
   ]
  },
  {
   "cell_type": "code",
   "execution_count": 113,
   "metadata": {},
   "outputs": [
    {
     "name": "stderr",
     "output_type": "stream",
     "text": [
      "100%|██████████| 3/3 [04:28<00:00, 87.40s/it]\n"
     ]
    }
   ],
   "source": [
    "for task in tqdm(tasks):\n",
    "    visualize_embeddings(avg_diffs[task] / stds['n'][task], level='zscore', task=task, statistic='zscore', vmax=1)"
   ]
  },
  {
   "cell_type": "code",
   "execution_count": 21,
   "metadata": {},
   "outputs": [
    {
     "name": "stderr",
     "output_type": "stream",
     "text": [
      "100%|██████████| 29/29 [00:00<00:00, 248.55it/s]\n"
     ]
    }
   ],
   "source": [
    "task = tasks[2]\n",
    "level = levels[0]\n",
    "\n",
    "paths = get_files(path=gccadir, level=level, task=task, flag='_gcca')\n",
    "latents = []\n",
    "\n",
    "n_load = len(paths)\n",
    "\n",
    "for path,subj in tqdm(paths[:n_load]):\n",
    "    h5f = h5py.File(gccadir / path,'r')\n",
    "    latent = h5f[h5_key][:]\n",
    "    h5f.close()\n",
    "    latents.append(latent)"
   ]
  },
  {
   "cell_type": "code",
   "execution_count": 42,
   "metadata": {},
   "outputs": [
    {
     "data": {
      "image/png": "[encoded data removed]",
      "text/plain": [
       "<Figure size 720x360 with 6 Axes>"
      ]
     },
     "metadata": {
      "needs_background": "light"
     },
     "output_type": "display_data"
    }
   ],
   "source": [
    "idxs = np.random.choice(18000,size=10)\n",
    "fig, axes = plt.subplots(3, 2, figsize=(10, 5))\n",
    "for i,ax in enumerate(axes.flatten()):\n",
    "    for idx in idxs:\n",
    "        ax.hist(np.array(latents)[:,idx,i],alpha=0.3)"
   ]
  },
  {
   "cell_type": "code",
   "execution_count": 22,
   "metadata": {},
   "outputs": [
    {
     "data": {
      "text/plain": [
       "Text(0.5, 0.98, 'e, compassion')"
      ]
     },
     "execution_count": 22,
     "metadata": {},
     "output_type": "execute_result"
    },
    {
     "data": {
      "image/png": "[encoded data removed]",
      "text/plain": [
       "<Figure size 720x360 with 6 Axes>"
      ]
     },
     "metadata": {
      "needs_background": "light"
     },
     "output_type": "display_data"
    }
   ],
   "source": [
    "#idxs = np.random.choice(18000,size=10)\n",
    "fig, axes = plt.subplots(3, 2, figsize=(10, 5), sharex=True, sharey=True)\n",
    "for i,ax in enumerate(axes.flatten()):\n",
    "    #for idx in idxs:\n",
    "    ax.hist(np.array(latents)[0,:,i],alpha=0.3)\n",
    "        \n",
    "fig.suptitle(f'{level}, {task}')"
   ]
  },
  {
   "cell_type": "code",
   "execution_count": 14,
   "metadata": {},
   "outputs": [
    {
     "data": {
      "text/plain": [
       "Text(0.5, 0.98, 'e, compassion')"
      ]
     },
     "execution_count": 14,
     "metadata": {},
     "output_type": "execute_result"
    },
    {
     "data": {
      "image/png": "[encoded data removed]",
      "text/plain": [
       "<Figure size 720x360 with 30 Axes>"
      ]
     },
     "metadata": {
      "needs_background": "light"
     },
     "output_type": "display_data"
    }
   ],
   "source": [
    "fig, axes = plt.subplots(3, 10, figsize=(10, 5), sharex=True, sharey=True)\n",
    "for i,ax in enumerate(axes.flatten()):\n",
    "    if i >= 29:\n",
    "        continue\n",
    "    ax.hist(np.array(latents)[i,:,0],alpha=1)\n",
    "        \n",
    "fig.suptitle(f'{level}, {task}')"
   ]
  },
  {
   "cell_type": "code",
   "execution_count": 20,
   "metadata": {},
   "outputs": [
    {
     "data": {
      "text/plain": [
       "Text(0.5, 0.98, 'n, compassion')"
      ]
     },
     "execution_count": 20,
     "metadata": {},
     "output_type": "execute_result"
    },
    {
     "data": {
      "image/png": "[encoded data removed]",
      "text/plain": [
       "<Figure size 720x360 with 6 Axes>"
      ]
     },
     "metadata": {
      "needs_background": "light"
     },
     "output_type": "display_data"
    }
   ],
   "source": [
    "fig, axes = plt.subplots(3, 2, figsize=(10, 5), sharex=True, sharey=True)\n",
    "for i,ax in enumerate(axes.flatten()):\n",
    "    #for idx in idxs:\n",
    "    ax.hist(np.array(latents)[0,:,i],alpha=0.3)\n",
    "        \n",
    "fig.suptitle(f'{level}, {task}')"
   ]
  },
  {
   "cell_type": "code",
   "execution_count": 19,
   "metadata": {},
   "outputs": [
    {
     "data": {
      "text/plain": [
       "Text(0.5, 0.98, 'n, compassion')"
      ]
     },
     "execution_count": 19,
     "metadata": {},
     "output_type": "execute_result"
    },
    {
     "data": {
      "image/png": "[encoded data removed]",
      "text/plain": [
       "<Figure size 720x360 with 50 Axes>"
      ]
     },
     "metadata": {
      "needs_background": "light"
     },
     "output_type": "display_data"
    }
   ],
   "source": [
    "fig, axes = plt.subplots(5, 10, figsize=(10, 5), sharex=True, sharey=True)\n",
    "for i,ax in enumerate(axes.flatten()):\n",
    "    if i >= 47:\n",
    "        continue\n",
    "    ax.hist(np.array(latents)[i,:,0],alpha=1)\n",
    "        \n",
    "fig.suptitle(f'{level}, {task}')"
   ]
  },
  {
   "cell_type": "code",
   "execution_count": null,
   "metadata": {},
   "outputs": [],
   "source": []
  }
 ],
 "metadata": {
  "kernelspec": {
   "display_name": "Python [conda env:datasci] *",
   "language": "python",
   "name": "conda-env-datasci-py"
  },
  "language_info": {
   "codemirror_mode": {
    "name": "ipython",
    "version": 3
   },
   "file_extension": ".py",
   "mimetype": "text/x-python",
   "name": "python",
   "nbconvert_exporter": "python",
   "pygments_lexer": "ipython3",
   "version": "3.7.3"
  }
 },
 "nbformat": 4,
 "nbformat_minor": 2
}

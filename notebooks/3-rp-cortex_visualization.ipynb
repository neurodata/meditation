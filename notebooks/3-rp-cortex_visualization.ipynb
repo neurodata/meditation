{
 "cells": [
  {
   "cell_type": "code",
   "execution_count": 4,
   "metadata": {},
   "outputs": [],
   "source": [
    "import h5py\n",
    "import nibabel as nib\n",
    "import numpy as np\n",
    "import matplotlib.pyplot as plt\n",
    "%matplotlib inline\n",
    "\n",
    "from nilearn import datasets, plotting\n",
    "\n",
    "from pathlib import Path\n",
    "import os\n",
    "import pandas as pd"
   ]
  },
  {
   "cell_type": "code",
   "execution_count": null,
   "metadata": {},
   "outputs": [],
   "source": [
    "h5_key = 'latent'\n",
    "## Define paths\n",
    "basedir = Path('..')\n",
    "datadir = basedir / 'data'\n",
    "rawdir = datadir / 'raw'\n",
    "gccadir = datadir / 'gcca'"
   ]
  },
  {
   "cell_type": "markdown",
   "metadata": {},
   "source": [
    "## Load Files"
   ]
  },
  {
   "cell_type": "code",
   "execution_count": null,
   "metadata": {},
   "outputs": [],
   "source": [
    "def get_files(path,\n",
    "              level='(e|n)',\n",
    "              subject='[0-9]{3}',\n",
    "              task='.+?',\n",
    "              filetype='h5',\n",
    "              flag=''):\n",
    "    files = []\n",
    "    query = f'^{level}_sub-'\n",
    "    query += f'({subject})_ses-1_'\n",
    "    query += f'task-{task}{flag}\\.{filetype}'\n",
    "    for f in os.listdir(path):\n",
    "        match = re.search(query, f)\n",
    "        if match:\n",
    "            files.append((f, match.group(1)))\n",
    "    \n",
    "    return(files)"
   ]
  },
  {
   "cell_type": "code",
   "execution_count": 2,
   "metadata": {},
   "outputs": [],
   "source": [
    "# plot on fsa5 surface:\n",
    "fsa5 = datasets.fetch_surf_fsaverage()"
   ]
  },
  {
   "cell_type": "code",
   "execution_count": null,
   "metadata": {},
   "outputs": [],
   "source": [
    "## Get filenames for each task, novice vs. experienced\n",
    "tasks = ['restingstate', 'openmonitoring', 'compassion']\n",
    "levels = ['e', 'n']\n",
    "\n",
    "\n",
    "## Load a single set of latents\n",
    "#for task,level in np.array(np.meshgrid(tasks,levels)).T.reshape(-1,2):\n",
    "level=levels[0]\n",
    "task=tasks[0]\n",
    "paths = get_files(path=gccadir, level=level, task=task, flag='_gcca')\n",
    "latents = []\n",
    "subjs = []\n",
    "\n",
    "n_load = 1\n",
    "\n",
    "for path,subj in paths[:n_load]:\n",
    "    h5f = h5py.File(path,'r')\n",
    "    latent = h5f[h5_key][:]\n",
    "    h5f.close()\n",
    "    latents.append(latent)\n",
    "    subjs.append(subj)"
   ]
  },
  {
   "cell_type": "code",
   "execution_count": null,
   "metadata": {},
   "outputs": [],
   "source": [
    "embedding = latents[0]\n",
    "\n",
    "fig, axes = plt.subplots(4, 4, subplot_kw={'projection': '3d'}, figsize=(20, 20))\n",
    "\n",
    "for i in range(4):\n",
    "    ax = axes[i]\n",
    "    X = embeddings[:, i]\n",
    "    \n",
    "\n",
    "    cortex_left = nib.freesurfer.read_label('lh.cortex.label')\n",
    "\n",
    "    conn_map = np.zeros(10242)\n",
    "    conn_map[cortex_left] = X[:len(cortex_left)]\n",
    "\n",
    "    plotting.plot_surf_stat_map(fsa5.infl_left, \n",
    "      conn_map, hemi='left', colorbar=False, cmap='jet', axes = ax[0])\n",
    "\n",
    "    plotting.plot_surf_stat_map(fsa5.infl_left,\n",
    "      conn_map, hemi='left', colorbar=False, cmap='jet', view='medial', axes=ax[1])\n",
    "\n",
    "    cortex_right = nib.freesurfer.read_label('rh.cortex.label')\n",
    "\n",
    "    conn_map = np.zeros(10242)\n",
    "    conn_map[cortex_right] = X[len(cortex_left):]\n",
    "\n",
    "    plotting.plot_surf_stat_map(fsa5.infl_right, \n",
    "      conn_map, hemi='right', colorbar=False, cmap='jet', axes = ax[2])\n",
    "\n",
    "    plotting.plot_surf_stat_map(fsa5.infl_right,\n",
    "      conn_map, hemi='right', colorbar=True, cmap='jet', view='medial', axes=ax[3])\n"
   ]
  }
 ],
 "metadata": {
  "kernelspec": {
   "display_name": "Python [conda env:datasci] *",
   "language": "python",
   "name": "conda-env-datasci-py"
  },
  "language_info": {
   "codemirror_mode": {
    "name": "ipython",
    "version": 3
   },
   "file_extension": ".py",
   "mimetype": "text/x-python",
   "name": "python",
   "nbconvert_exporter": "python",
   "pygments_lexer": "ipython3",
   "version": "3.7.3"
  }
 },
 "nbformat": 4,
 "nbformat_minor": 2
}

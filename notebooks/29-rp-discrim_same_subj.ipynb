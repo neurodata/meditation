{
 "cells": [
  {
   "cell_type": "markdown",
   "metadata": {},
   "source": [
    "# Are novice/expert subjects more similar to themselves or others?\n"
   ]
  },
  {
   "cell_type": "code",
   "execution_count": 1,
   "metadata": {},
   "outputs": [
    {
     "name": "stderr",
     "output_type": "stream",
     "text": [
      "/home/rflperry/miniconda3/lib/python3.7/site-packages/sklearn/utils/deprecation.py:143: FutureWarning: The sklearn.mixture.gaussian_mixture module is  deprecated in version 0.22 and will be removed in version 0.24. The corresponding classes / functions should instead be imported from sklearn.mixture. Anything that cannot be imported from sklearn.mixture is now part of the private API.\n",
      "  warnings.warn(message, FutureWarning)\n"
     ]
    },
    {
     "data": {
      "application/javascript": [
       "\n",
       "            setTimeout(function() {\n",
       "                var nbb_cell_id = 1;\n",
       "                var nbb_unformatted_code = \"import numpy as np\\nfrom pathlib import Path\\nimport matplotlib.pyplot as plt\\nimport matplotlib.ticker as ticker\\n\\n%matplotlib inline\\n\\nimport seaborn as sns\\n\\nsns.set(color_codes=True, style=\\\"white\\\", context=\\\"talk\\\", font_scale=1)\\nPALETTE = sns.color_palette(\\\"Set1\\\")\\n\\nfrom sklearn.metrics import pairwise_distances\\nfrom sklearn.manifold import MDS\\nfrom hyppo.independence import Dcorr\\nfrom scipy.stats import multiscale_graphcorr\\nfrom hyppo.ksample._utils import k_sample_transform\\nfrom graspy.plot import heatmap, pairplot\\n\\nimport sys\\n\\nsys.path.append(\\\"../\\\")\\nfrom src.tools.utils import get_files, get_latents\\n\\n%load_ext autoreload\\n%autoreload 2\\n%load_ext nb_black\";\n",
       "                var nbb_formatted_code = \"import numpy as np\\nfrom pathlib import Path\\nimport matplotlib.pyplot as plt\\nimport matplotlib.ticker as ticker\\n\\n%matplotlib inline\\n\\nimport seaborn as sns\\n\\nsns.set(color_codes=True, style=\\\"white\\\", context=\\\"talk\\\", font_scale=1)\\nPALETTE = sns.color_palette(\\\"Set1\\\")\\n\\nfrom sklearn.metrics import pairwise_distances\\nfrom sklearn.manifold import MDS\\nfrom hyppo.independence import Dcorr\\nfrom scipy.stats import multiscale_graphcorr\\nfrom hyppo.ksample._utils import k_sample_transform\\nfrom graspy.plot import heatmap, pairplot\\n\\nimport sys\\n\\nsys.path.append(\\\"../\\\")\\nfrom src.tools.utils import get_files, get_latents\\n\\n%load_ext autoreload\\n%autoreload 2\\n%load_ext nb_black\";\n",
       "                var nbb_cells = Jupyter.notebook.get_cells();\n",
       "                for (var i = 0; i < nbb_cells.length; ++i) {\n",
       "                    if (nbb_cells[i].input_prompt_number == nbb_cell_id) {\n",
       "                        if (nbb_cells[i].get_text() == nbb_unformatted_code) {\n",
       "                             nbb_cells[i].set_text(nbb_formatted_code);\n",
       "                        }\n",
       "                        break;\n",
       "                    }\n",
       "                }\n",
       "            }, 500);\n",
       "            "
      ],
      "text/plain": [
       "<IPython.core.display.Javascript object>"
      ]
     },
     "metadata": {},
     "output_type": "display_data"
    }
   ],
   "source": [
    "import numpy as np\n",
    "from pathlib import Path\n",
    "import matplotlib.pyplot as plt\n",
    "import matplotlib.ticker as ticker\n",
    "\n",
    "%matplotlib inline\n",
    "\n",
    "import seaborn as sns\n",
    "\n",
    "sns.set(color_codes=True, style=\"white\", context=\"talk\", font_scale=1)\n",
    "PALETTE = sns.color_palette(\"Set1\")\n",
    "\n",
    "from sklearn.metrics import pairwise_distances\n",
    "from sklearn.manifold import MDS\n",
    "from hyppo.independence import Dcorr\n",
    "from scipy.stats import multiscale_graphcorr\n",
    "from hyppo.ksample._utils import k_sample_transform\n",
    "from graspy.plot import heatmap, pairplot\n",
    "\n",
    "import sys\n",
    "\n",
    "sys.path.append(\"../\")\n",
    "from src.tools.utils import get_files, get_latents\n",
    "\n",
    "%load_ext autoreload\n",
    "%autoreload 2\n",
    "%load_ext nb_black"
   ]
  },
  {
   "cell_type": "code",
   "execution_count": 2,
   "metadata": {},
   "outputs": [
    {
     "data": {
      "application/javascript": [
       "\n",
       "            setTimeout(function() {\n",
       "                var nbb_cell_id = 2;\n",
       "                var nbb_unformatted_code = \"## Define paths, get raw\\nbase_dir = Path(\\\"/mnt/ssd3/ronan/data/gcca_05-26-10:39_min_rank-ZG3/\\\")\\ngroups, labels, subjs = get_latents(base_dir, flag=\\\"_gcca\\\", ids=True)\";\n",
       "                var nbb_formatted_code = \"## Define paths, get raw\\nbase_dir = Path(\\\"/mnt/ssd3/ronan/data/gcca_05-26-10:39_min_rank-ZG3/\\\")\\ngroups, labels, subjs = get_latents(base_dir, flag=\\\"_gcca\\\", ids=True)\";\n",
       "                var nbb_cells = Jupyter.notebook.get_cells();\n",
       "                for (var i = 0; i < nbb_cells.length; ++i) {\n",
       "                    if (nbb_cells[i].input_prompt_number == nbb_cell_id) {\n",
       "                        if (nbb_cells[i].get_text() == nbb_unformatted_code) {\n",
       "                             nbb_cells[i].set_text(nbb_formatted_code);\n",
       "                        }\n",
       "                        break;\n",
       "                    }\n",
       "                }\n",
       "            }, 500);\n",
       "            "
      ],
      "text/plain": [
       "<IPython.core.display.Javascript object>"
      ]
     },
     "metadata": {},
     "output_type": "display_data"
    }
   ],
   "source": [
    "## Define paths, get raw\n",
    "base_dir = Path(\"/mnt/ssd3/ronan/data/gcca_05-26-10:39_min_rank-ZG3/\")\n",
    "groups, labels, subjs = get_latents(base_dir, flag=\"_gcca\", ids=True)"
   ]
  },
  {
   "cell_type": "code",
   "execution_count": 18,
   "metadata": {},
   "outputs": [
    {
     "data": {
      "application/javascript": [
       "\n",
       "            setTimeout(function() {\n",
       "                var nbb_cell_id = 18;\n",
       "                var nbb_unformatted_code = \"y = np.repeat(labels, [len(g) for g in groups], axis=0)\\nlabel_transform = {\\n    \\\"e\\\": \\\"Expert\\\",\\n    \\\"n\\\": \\\"Novice\\\",\\n    \\\"compassion\\\": \\\"Compasson\\\",\\n    \\\"restingstate\\\": \\\"Resting\\\",\\n    \\\"openmonitoring\\\": \\\"Open\\\",\\n}\\ny_labels = [[a,b] for a, b in y]\";\n",
       "                var nbb_formatted_code = \"y = np.repeat(labels, [len(g) for g in groups], axis=0)\\nlabel_transform = {\\n    \\\"e\\\": \\\"Expert\\\",\\n    \\\"n\\\": \\\"Novice\\\",\\n    \\\"compassion\\\": \\\"Compasson\\\",\\n    \\\"restingstate\\\": \\\"Resting\\\",\\n    \\\"openmonitoring\\\": \\\"Open\\\",\\n}\\ny_labels = [[a, b] for a, b in y]\";\n",
       "                var nbb_cells = Jupyter.notebook.get_cells();\n",
       "                for (var i = 0; i < nbb_cells.length; ++i) {\n",
       "                    if (nbb_cells[i].input_prompt_number == nbb_cell_id) {\n",
       "                        if (nbb_cells[i].get_text() == nbb_unformatted_code) {\n",
       "                             nbb_cells[i].set_text(nbb_formatted_code);\n",
       "                        }\n",
       "                        break;\n",
       "                    }\n",
       "                }\n",
       "            }, 500);\n",
       "            "
      ],
      "text/plain": [
       "<IPython.core.display.Javascript object>"
      ]
     },
     "metadata": {},
     "output_type": "display_data"
    }
   ],
   "source": [
    "y = np.repeat(labels, [len(g) for g in groups], axis=0)\n",
    "label_transform = {\n",
    "    \"e\": \"Expert\",\n",
    "    \"n\": \"Novice\",\n",
    "    \"compassion\": \"Compasson\",\n",
    "    \"restingstate\": \"Resting\",\n",
    "    \"openmonitoring\": \"Open\",\n",
    "}\n",
    "y_labels = [[a, b] for a, b in y]"
   ]
  },
  {
   "cell_type": "code",
   "execution_count": 12,
   "metadata": {},
   "outputs": [
    {
     "data": {
      "text/plain": [
       "(1,)"
      ]
     },
     "execution_count": 12,
     "metadata": {},
     "output_type": "execute_result"
    },
    {
     "data": {
      "application/javascript": [
       "\n",
       "            setTimeout(function() {\n",
       "                var nbb_cell_id = 12;\n",
       "                var nbb_unformatted_code = \"np.asarray(list(set([1, 2]) - set([1]))).shape\";\n",
       "                var nbb_formatted_code = \"np.asarray(list(set([1, 2]) - set([1]))).shape\";\n",
       "                var nbb_cells = Jupyter.notebook.get_cells();\n",
       "                for (var i = 0; i < nbb_cells.length; ++i) {\n",
       "                    if (nbb_cells[i].input_prompt_number == nbb_cell_id) {\n",
       "                        if (nbb_cells[i].get_text() == nbb_unformatted_code) {\n",
       "                             nbb_cells[i].set_text(nbb_formatted_code);\n",
       "                        }\n",
       "                        break;\n",
       "                    }\n",
       "                }\n",
       "            }, 500);\n",
       "            "
      ],
      "text/plain": [
       "<IPython.core.display.Javascript object>"
      ]
     },
     "metadata": {},
     "output_type": "display_data"
    }
   ],
   "source": [
    "np.asarray(list(set([1, 2]) - set([1]))).shape"
   ]
  },
  {
   "cell_type": "code",
   "execution_count": 62,
   "metadata": {},
   "outputs": [
    {
     "data": {
      "application/javascript": [
       "\n",
       "            setTimeout(function() {\n",
       "                var nbb_cell_id = 62;\n",
       "                var nbb_unformatted_code = \"def disc_stat(dist_mat, labels1, labels2=None):\\n    if labels2 is None:  # Reduces to normal discrim\\n        labels2 = np.ones(len(labels1))\\n    dist_mat = np.asarray(dist_mat)\\n    N = dist_mat.shape[0]\\n    stats = []\\n\\n    ## For each label in the first set (i.e. subject)\\n    for label in np.unique(labels1):\\n        idxs_in = np.where(labels1 == label)[0]\\n        stat = []\\n        for i in idxs_in:  ## For each row in the in idxs\\n            ## Comparison made in second label category (i.e. resting)\\n            idxs_out = np.where(labels2 == labels2[i])[0]\\n            idxs_out = np.asarray(list(set(idxs_out) - set(idxs_in)))\\n            stat.append(\\n                [\\n                    1\\n                    - (\\n                        np.sum(dist_mat[i, j] < dist_mat[i, idxs_out])\\n                        + 0.5 * np.sum(dist_mat[i, j] == dist_mat[i, idxs_out])\\n                    )\\n                    / len(idxs_out)\\n                    for j in idxs_in\\n                    if i != j\\n                ]\\n            )\\n        ## Average percent of the time in group is larger than out group\\n        stats.append(np.mean(stat))\\n\\n    # Equally weights each unique label\\n    return np.mean(stats)\\n\\n\\n##### ONE SIDED (lower) #####\\ndef disc_pval(dist_mat, labels1, labels2=None, n_permutations=100):\\n    labels1 = np.asarray(labels1)\\n    if labels2 is None:\\n        labels2 = np.ones(len(labels1))\\n    else:\\n        labels2 = np.asarray(labels2)\\n    idxs = np.arange(len(labels1))\\n    obs_stat = disc_stat(dist_mat, labels1, labels2)\\n    null_stats = []\\n    for _ in range(n_permutations):\\n        np.random.shuffle(idxs)\\n        null_stat = disc_stat(dist_mat, labels1[idxs], labels2[idxs])\\n        null_stats.append(null_stat)\\n\\n    pval = (np.sum(np.asarray(null_stats) <= obs_stat) + 1)/ (n_permutations + 1)\\n    null_std = np.std(null_stats)\\n\\n    return obs_stat, pval, null_std\";\n",
       "                var nbb_formatted_code = \"def disc_stat(dist_mat, labels1, labels2=None):\\n    if labels2 is None:  # Reduces to normal discrim\\n        labels2 = np.ones(len(labels1))\\n    dist_mat = np.asarray(dist_mat)\\n    N = dist_mat.shape[0]\\n    stats = []\\n\\n    ## For each label in the first set (i.e. subject)\\n    for label in np.unique(labels1):\\n        idxs_in = np.where(labels1 == label)[0]\\n        stat = []\\n        for i in idxs_in:  ## For each row in the in idxs\\n            ## Comparison made in second label category (i.e. resting)\\n            idxs_out = np.where(labels2 == labels2[i])[0]\\n            idxs_out = np.asarray(list(set(idxs_out) - set(idxs_in)))\\n            stat.append(\\n                [\\n                    1\\n                    - (\\n                        np.sum(dist_mat[i, j] < dist_mat[i, idxs_out])\\n                        + 0.5 * np.sum(dist_mat[i, j] == dist_mat[i, idxs_out])\\n                    )\\n                    / len(idxs_out)\\n                    for j in idxs_in\\n                    if i != j\\n                ]\\n            )\\n        ## Average percent of the time in group is larger than out group\\n        stats.append(np.mean(stat))\\n\\n    # Equally weights each unique label\\n    return np.mean(stats)\\n\\n\\n##### ONE SIDED (lower) #####\\ndef disc_pval(dist_mat, labels1, labels2=None, n_permutations=100):\\n    labels1 = np.asarray(labels1)\\n    if labels2 is None:\\n        labels2 = np.ones(len(labels1))\\n    else:\\n        labels2 = np.asarray(labels2)\\n    idxs = np.arange(len(labels1))\\n    obs_stat = disc_stat(dist_mat, labels1, labels2)\\n    null_stats = []\\n    for _ in range(n_permutations):\\n        np.random.shuffle(idxs)\\n        null_stat = disc_stat(dist_mat, labels1[idxs], labels2[idxs])\\n        null_stats.append(null_stat)\\n\\n    pval = (np.sum(np.asarray(null_stats) <= obs_stat) + 1) / (n_permutations + 1)\\n    null_std = np.std(null_stats)\\n\\n    return obs_stat, pval, null_std\";\n",
       "                var nbb_cells = Jupyter.notebook.get_cells();\n",
       "                for (var i = 0; i < nbb_cells.length; ++i) {\n",
       "                    if (nbb_cells[i].input_prompt_number == nbb_cell_id) {\n",
       "                        if (nbb_cells[i].get_text() == nbb_unformatted_code) {\n",
       "                             nbb_cells[i].set_text(nbb_formatted_code);\n",
       "                        }\n",
       "                        break;\n",
       "                    }\n",
       "                }\n",
       "            }, 500);\n",
       "            "
      ],
      "text/plain": [
       "<IPython.core.display.Javascript object>"
      ]
     },
     "metadata": {},
     "output_type": "display_data"
    }
   ],
   "source": [
    "def disc_stat(dist_mat, labels1, labels2=None):\n",
    "    if labels2 is None:  # Reduces to normal discrim\n",
    "        labels2 = np.ones(len(labels1))\n",
    "    dist_mat = np.asarray(dist_mat)\n",
    "    N = dist_mat.shape[0]\n",
    "    stats = []\n",
    "\n",
    "    ## For each label in the first set (i.e. subject)\n",
    "    for label in np.unique(labels1):\n",
    "        idxs_in = np.where(labels1 == label)[0]\n",
    "        stat = []\n",
    "        for i in idxs_in:  ## For each row in the in idxs\n",
    "            ## Comparison made in second label category (i.e. resting)\n",
    "            idxs_out = np.where(labels2 == labels2[i])[0]\n",
    "            idxs_out = np.asarray(list(set(idxs_out) - set(idxs_in)))\n",
    "            stat.append(\n",
    "                [\n",
    "                    1\n",
    "                    - (\n",
    "                        np.sum(dist_mat[i, j] < dist_mat[i, idxs_out])\n",
    "                        + 0.5 * np.sum(dist_mat[i, j] == dist_mat[i, idxs_out])\n",
    "                    )\n",
    "                    / len(idxs_out)\n",
    "                    for j in idxs_in\n",
    "                    if i != j\n",
    "                ]\n",
    "            )\n",
    "        ## Average percent of the time in group is larger than out group\n",
    "        stats.append(np.mean(stat))\n",
    "\n",
    "    # Equally weights each unique label\n",
    "    return np.mean(stats)\n",
    "\n",
    "\n",
    "##### ONE SIDED (lower) #####\n",
    "def disc_pval(dist_mat, labels1, labels2=None, n_permutations=100):\n",
    "    labels1 = np.asarray(labels1)\n",
    "    if labels2 is None:\n",
    "        labels2 = np.ones(len(labels1))\n",
    "    else:\n",
    "        labels2 = np.asarray(labels2)\n",
    "    idxs = np.arange(len(labels1))\n",
    "    obs_stat = disc_stat(dist_mat, labels1, labels2)\n",
    "    null_stats = []\n",
    "    for _ in range(n_permutations):\n",
    "        np.random.shuffle(idxs)\n",
    "        null_stat = disc_stat(dist_mat, labels1[idxs], labels2[idxs])\n",
    "        null_stats.append(null_stat)\n",
    "\n",
    "    pval = (np.sum(np.asarray(null_stats) <= obs_stat) + 1) / (n_permutations + 1)\n",
    "    null_std = np.std(null_stats)\n",
    "\n",
    "    return obs_stat, pval, null_std"
   ]
  },
  {
   "cell_type": "code",
   "execution_count": 46,
   "metadata": {},
   "outputs": [
    {
     "data": {
      "text/plain": [
       "0.0"
      ]
     },
     "execution_count": 46,
     "metadata": {},
     "output_type": "execute_result"
    },
    {
     "data": {
      "application/javascript": [
       "\n",
       "            setTimeout(function() {\n",
       "                var nbb_cell_id = 46;\n",
       "                var nbb_unformatted_code = \"test = [\\n    [0, 0, 1, 1, 1, 1],\\n    [0, 0, 1, 1, 1, 1],\\n    [1, 1, 0, 0, 1, 1],\\n    [1, 1, 0, 0, 1, 1],\\n    [1, 1, 1, 1, 0, 0],\\n    [1, 1, 1, 1, 0, 0],\\n]\\ndisc_stat(test, [0, 0, 1, 1, 2, 2,])\";\n",
       "                var nbb_formatted_code = \"test = [\\n    [0, 0, 1, 1, 1, 1],\\n    [0, 0, 1, 1, 1, 1],\\n    [1, 1, 0, 0, 1, 1],\\n    [1, 1, 0, 0, 1, 1],\\n    [1, 1, 1, 1, 0, 0],\\n    [1, 1, 1, 1, 0, 0],\\n]\\ndisc_stat(test, [0, 0, 1, 1, 2, 2,])\";\n",
       "                var nbb_cells = Jupyter.notebook.get_cells();\n",
       "                for (var i = 0; i < nbb_cells.length; ++i) {\n",
       "                    if (nbb_cells[i].input_prompt_number == nbb_cell_id) {\n",
       "                        if (nbb_cells[i].get_text() == nbb_unformatted_code) {\n",
       "                             nbb_cells[i].set_text(nbb_formatted_code);\n",
       "                        }\n",
       "                        break;\n",
       "                    }\n",
       "                }\n",
       "            }, 500);\n",
       "            "
      ],
      "text/plain": [
       "<IPython.core.display.Javascript object>"
      ]
     },
     "metadata": {},
     "output_type": "display_data"
    }
   ],
   "source": [
    "test = [\n",
    "    [0, 0, 1, 1, 1, 1],\n",
    "    [0, 0, 1, 1, 1, 1],\n",
    "    [1, 1, 0, 0, 1, 1],\n",
    "    [1, 1, 0, 0, 1, 1],\n",
    "    [1, 1, 1, 1, 0, 0],\n",
    "    [1, 1, 1, 1, 0, 0],\n",
    "]\n",
    "disc_stat(test, [0, 0, 1, 1, 2, 2,])"
   ]
  },
  {
   "cell_type": "code",
   "execution_count": 51,
   "metadata": {},
   "outputs": [
    {
     "data": {
      "application/javascript": [
       "\n",
       "            setTimeout(function() {\n",
       "                var nbb_cell_id = 51;\n",
       "                var nbb_unformatted_code = \"stat_list = {}\";\n",
       "                var nbb_formatted_code = \"stat_list = {}\";\n",
       "                var nbb_cells = Jupyter.notebook.get_cells();\n",
       "                for (var i = 0; i < nbb_cells.length; ++i) {\n",
       "                    if (nbb_cells[i].input_prompt_number == nbb_cell_id) {\n",
       "                        if (nbb_cells[i].get_text() == nbb_unformatted_code) {\n",
       "                             nbb_cells[i].set_text(nbb_formatted_code);\n",
       "                        }\n",
       "                        break;\n",
       "                    }\n",
       "                }\n",
       "            }, 500);\n",
       "            "
      ],
      "text/plain": [
       "<IPython.core.display.Javascript object>"
      ]
     },
     "metadata": {},
     "output_type": "display_data"
    }
   ],
   "source": [
    "stat_list = {}"
   ]
  },
  {
   "cell_type": "markdown",
   "metadata": {},
   "source": [
    "## Discrim: expert subjects scans more similar than across state scans"
   ]
  },
  {
   "cell_type": "code",
   "execution_count": 23,
   "metadata": {},
   "outputs": [
    {
     "data": {
      "text/plain": [
       "[['e', 'restingstate'],\n",
       " ['e', 'openmonitoring'],\n",
       " ['e', 'compassion'],\n",
       " ['n', 'restingstate'],\n",
       " ['n', 'openmonitoring'],\n",
       " ['n', 'compassion']]"
      ]
     },
     "execution_count": 23,
     "metadata": {},
     "output_type": "execute_result"
    },
    {
     "data": {
      "application/javascript": [
       "\n",
       "            setTimeout(function() {\n",
       "                var nbb_cell_id = 23;\n",
       "                var nbb_unformatted_code = \"labels\";\n",
       "                var nbb_formatted_code = \"labels\";\n",
       "                var nbb_cells = Jupyter.notebook.get_cells();\n",
       "                for (var i = 0; i < nbb_cells.length; ++i) {\n",
       "                    if (nbb_cells[i].input_prompt_number == nbb_cell_id) {\n",
       "                        if (nbb_cells[i].get_text() == nbb_unformatted_code) {\n",
       "                             nbb_cells[i].set_text(nbb_formatted_code);\n",
       "                        }\n",
       "                        break;\n",
       "                    }\n",
       "                }\n",
       "            }, 500);\n",
       "            "
      ],
      "text/plain": [
       "<IPython.core.display.Javascript object>"
      ]
     },
     "metadata": {},
     "output_type": "display_data"
    }
   ],
   "source": [
    "labels"
   ]
  },
  {
   "cell_type": "code",
   "execution_count": 64,
   "metadata": {},
   "outputs": [
    {
     "data": {
      "application/javascript": [
       "\n",
       "            setTimeout(function() {\n",
       "                var nbb_cell_id = 64;\n",
       "                var nbb_unformatted_code = \"ways = [[0], [1], [2]]\\nX, Y = k_sample_transform([np.asarray(groups[i]) for i in [0, 1, 2]], ways=ways)\\nX = X[:, :, :3].reshape(X.shape[0], -1)\\nX_dists = pairwise_distances(X, metric=\\\"euclidean\\\")\";\n",
       "                var nbb_formatted_code = \"ways = [[0], [1], [2]]\\nX, Y = k_sample_transform([np.asarray(groups[i]) for i in [0, 1, 2]], ways=ways)\\nX = X[:, :, :3].reshape(X.shape[0], -1)\\nX_dists = pairwise_distances(X, metric=\\\"euclidean\\\")\";\n",
       "                var nbb_cells = Jupyter.notebook.get_cells();\n",
       "                for (var i = 0; i < nbb_cells.length; ++i) {\n",
       "                    if (nbb_cells[i].input_prompt_number == nbb_cell_id) {\n",
       "                        if (nbb_cells[i].get_text() == nbb_unformatted_code) {\n",
       "                             nbb_cells[i].set_text(nbb_formatted_code);\n",
       "                        }\n",
       "                        break;\n",
       "                    }\n",
       "                }\n",
       "            }, 500);\n",
       "            "
      ],
      "text/plain": [
       "<IPython.core.display.Javascript object>"
      ]
     },
     "metadata": {},
     "output_type": "display_data"
    }
   ],
   "source": [
    "ways = [[0], [1], [2]]\n",
    "X, Y = k_sample_transform([np.asarray(groups[i]) for i in [0, 1, 2]], ways=ways)\n",
    "X = X[:, :, :3].reshape(X.shape[0], -1)\n",
    "X_dists = pairwise_distances(X, metric=\"euclidean\")"
   ]
  },
  {
   "cell_type": "code",
   "execution_count": 65,
   "metadata": {},
   "outputs": [
    {
     "data": {
      "application/javascript": [
       "\n",
       "            setTimeout(function() {\n",
       "                var nbb_cell_id = 65;\n",
       "                var nbb_unformatted_code = \"state_labels = [np.where(y == 1)[0][0] for y in Y]\";\n",
       "                var nbb_formatted_code = \"state_labels = [np.where(y == 1)[0][0] for y in Y]\";\n",
       "                var nbb_cells = Jupyter.notebook.get_cells();\n",
       "                for (var i = 0; i < nbb_cells.length; ++i) {\n",
       "                    if (nbb_cells[i].input_prompt_number == nbb_cell_id) {\n",
       "                        if (nbb_cells[i].get_text() == nbb_unformatted_code) {\n",
       "                             nbb_cells[i].set_text(nbb_formatted_code);\n",
       "                        }\n",
       "                        break;\n",
       "                    }\n",
       "                }\n",
       "            }, 500);\n",
       "            "
      ],
      "text/plain": [
       "<IPython.core.display.Javascript object>"
      ]
     },
     "metadata": {},
     "output_type": "display_data"
    }
   ],
   "source": [
    "state_labels = [np.where(y == 1)[0][0] for y in Y]"
   ]
  },
  {
   "cell_type": "code",
   "execution_count": 66,
   "metadata": {},
   "outputs": [
    {
     "data": {
      "application/javascript": [
       "\n",
       "            setTimeout(function() {\n",
       "                var nbb_cell_id = 66;\n",
       "                var nbb_unformatted_code = \"subj_labels = np.concatenate([subjs[i] for i in [0, 1, 2]])\";\n",
       "                var nbb_formatted_code = \"subj_labels = np.concatenate([subjs[i] for i in [0, 1, 2]])\";\n",
       "                var nbb_cells = Jupyter.notebook.get_cells();\n",
       "                for (var i = 0; i < nbb_cells.length; ++i) {\n",
       "                    if (nbb_cells[i].input_prompt_number == nbb_cell_id) {\n",
       "                        if (nbb_cells[i].get_text() == nbb_unformatted_code) {\n",
       "                             nbb_cells[i].set_text(nbb_formatted_code);\n",
       "                        }\n",
       "                        break;\n",
       "                    }\n",
       "                }\n",
       "            }, 500);\n",
       "            "
      ],
      "text/plain": [
       "<IPython.core.display.Javascript object>"
      ]
     },
     "metadata": {},
     "output_type": "display_data"
    }
   ],
   "source": [
    "subj_labels = np.concatenate([subjs[i] for i in [0, 1, 2]])"
   ]
  },
  {
   "cell_type": "code",
   "execution_count": 67,
   "metadata": {},
   "outputs": [
    {
     "name": "stdout",
     "output_type": "stream",
     "text": [
      "0.05582922824302134 0.000999000999000999 0.017891074144696185\n"
     ]
    },
    {
     "data": {
      "application/javascript": [
       "\n",
       "            setTimeout(function() {\n",
       "                var nbb_cell_id = 67;\n",
       "                var nbb_unformatted_code = \"obs_stat, pval, null_std = disc_pval(\\n    X_dists, subj_labels, state_labels, n_permutations=1000\\n)\\nstat_list[\\\"experts_all\\\"] = (obs_stat, pval, null_std)\\nprint(obs_stat, pval, null_std)\";\n",
       "                var nbb_formatted_code = \"obs_stat, pval, null_std = disc_pval(\\n    X_dists, subj_labels, state_labels, n_permutations=1000\\n)\\nstat_list[\\\"experts_all\\\"] = (obs_stat, pval, null_std)\\nprint(obs_stat, pval, null_std)\";\n",
       "                var nbb_cells = Jupyter.notebook.get_cells();\n",
       "                for (var i = 0; i < nbb_cells.length; ++i) {\n",
       "                    if (nbb_cells[i].input_prompt_number == nbb_cell_id) {\n",
       "                        if (nbb_cells[i].get_text() == nbb_unformatted_code) {\n",
       "                             nbb_cells[i].set_text(nbb_formatted_code);\n",
       "                        }\n",
       "                        break;\n",
       "                    }\n",
       "                }\n",
       "            }, 500);\n",
       "            "
      ],
      "text/plain": [
       "<IPython.core.display.Javascript object>"
      ]
     },
     "metadata": {},
     "output_type": "display_data"
    }
   ],
   "source": [
    "obs_stat, pval, null_std = disc_pval(\n",
    "    X_dists, subj_labels, state_labels, n_permutations=1000\n",
    ")\n",
    "stat_list[\"experts_all\"] = (obs_stat, pval, null_std)\n",
    "print(obs_stat, pval, null_std)"
   ]
  },
  {
   "cell_type": "markdown",
   "metadata": {},
   "source": [
    "## Discrim: novices subjects scans more similar than across state scans"
   ]
  },
  {
   "cell_type": "code",
   "execution_count": 55,
   "metadata": {},
   "outputs": [
    {
     "data": {
      "application/javascript": [
       "\n",
       "            setTimeout(function() {\n",
       "                var nbb_cell_id = 55;\n",
       "                var nbb_unformatted_code = \"group_idxs = [3,4,5]\";\n",
       "                var nbb_formatted_code = \"group_idxs = [3, 4, 5]\";\n",
       "                var nbb_cells = Jupyter.notebook.get_cells();\n",
       "                for (var i = 0; i < nbb_cells.length; ++i) {\n",
       "                    if (nbb_cells[i].input_prompt_number == nbb_cell_id) {\n",
       "                        if (nbb_cells[i].get_text() == nbb_unformatted_code) {\n",
       "                             nbb_cells[i].set_text(nbb_formatted_code);\n",
       "                        }\n",
       "                        break;\n",
       "                    }\n",
       "                }\n",
       "            }, 500);\n",
       "            "
      ],
      "text/plain": [
       "<IPython.core.display.Javascript object>"
      ]
     },
     "metadata": {},
     "output_type": "display_data"
    }
   ],
   "source": [
    "group_idxs = [3, 4, 5]"
   ]
  },
  {
   "cell_type": "code",
   "execution_count": 56,
   "metadata": {},
   "outputs": [
    {
     "data": {
      "application/javascript": [
       "\n",
       "            setTimeout(function() {\n",
       "                var nbb_cell_id = 56;\n",
       "                var nbb_unformatted_code = \"ways = [[0], [1], [2]]\\nX, Y = k_sample_transform([np.asarray(groups[i]) for i in group_idxs], ways=ways)\\nX = X[:, :, :3].reshape(X.shape[0], -1)\\nX_dists = pairwise_distances(X, metric=\\\"euclidean\\\")\";\n",
       "                var nbb_formatted_code = \"ways = [[0], [1], [2]]\\nX, Y = k_sample_transform([np.asarray(groups[i]) for i in group_idxs], ways=ways)\\nX = X[:, :, :3].reshape(X.shape[0], -1)\\nX_dists = pairwise_distances(X, metric=\\\"euclidean\\\")\";\n",
       "                var nbb_cells = Jupyter.notebook.get_cells();\n",
       "                for (var i = 0; i < nbb_cells.length; ++i) {\n",
       "                    if (nbb_cells[i].input_prompt_number == nbb_cell_id) {\n",
       "                        if (nbb_cells[i].get_text() == nbb_unformatted_code) {\n",
       "                             nbb_cells[i].set_text(nbb_formatted_code);\n",
       "                        }\n",
       "                        break;\n",
       "                    }\n",
       "                }\n",
       "            }, 500);\n",
       "            "
      ],
      "text/plain": [
       "<IPython.core.display.Javascript object>"
      ]
     },
     "metadata": {},
     "output_type": "display_data"
    }
   ],
   "source": [
    "ways = [[0], [1], [2]]\n",
    "X, Y = k_sample_transform([np.asarray(groups[i]) for i in group_idxs], ways=ways)\n",
    "X = X[:, :, :3].reshape(X.shape[0], -1)\n",
    "X_dists = pairwise_distances(X, metric=\"euclidean\")"
   ]
  },
  {
   "cell_type": "code",
   "execution_count": 57,
   "metadata": {},
   "outputs": [
    {
     "data": {
      "application/javascript": [
       "\n",
       "            setTimeout(function() {\n",
       "                var nbb_cell_id = 57;\n",
       "                var nbb_unformatted_code = \"state_labels = [np.where(y == 1)[0][0] for y in Y]\\nsubj_labels = np.concatenate([subjs[i] for i in group_idxs])\";\n",
       "                var nbb_formatted_code = \"state_labels = [np.where(y == 1)[0][0] for y in Y]\\nsubj_labels = np.concatenate([subjs[i] for i in group_idxs])\";\n",
       "                var nbb_cells = Jupyter.notebook.get_cells();\n",
       "                for (var i = 0; i < nbb_cells.length; ++i) {\n",
       "                    if (nbb_cells[i].input_prompt_number == nbb_cell_id) {\n",
       "                        if (nbb_cells[i].get_text() == nbb_unformatted_code) {\n",
       "                             nbb_cells[i].set_text(nbb_formatted_code);\n",
       "                        }\n",
       "                        break;\n",
       "                    }\n",
       "                }\n",
       "            }, 500);\n",
       "            "
      ],
      "text/plain": [
       "<IPython.core.display.Javascript object>"
      ]
     },
     "metadata": {},
     "output_type": "display_data"
    }
   ],
   "source": [
    "state_labels = [np.where(y == 1)[0][0] for y in Y]\n",
    "subj_labels = np.concatenate([subjs[i] for i in group_idxs])"
   ]
  },
  {
   "cell_type": "code",
   "execution_count": 63,
   "metadata": {},
   "outputs": [
    {
     "name": "stdout",
     "output_type": "stream",
     "text": [
      "0.0557354301572618 0.000999000999000999 0.013289171495564394\n"
     ]
    },
    {
     "data": {
      "application/javascript": [
       "\n",
       "            setTimeout(function() {\n",
       "                var nbb_cell_id = 63;\n",
       "                var nbb_unformatted_code = \"obs_stat, pval, null_std = disc_pval(\\n    X_dists, subj_labels, state_labels, n_permutations=1000\\n)\\nstat_list[\\\"novices_all\\\"] = (obs_stat, pval, null_std)\\nprint(obs_stat, pval, null_std)\";\n",
       "                var nbb_formatted_code = \"obs_stat, pval, null_std = disc_pval(\\n    X_dists, subj_labels, state_labels, n_permutations=1000\\n)\\nstat_list[\\\"novices_all\\\"] = (obs_stat, pval, null_std)\\nprint(obs_stat, pval, null_std)\";\n",
       "                var nbb_cells = Jupyter.notebook.get_cells();\n",
       "                for (var i = 0; i < nbb_cells.length; ++i) {\n",
       "                    if (nbb_cells[i].input_prompt_number == nbb_cell_id) {\n",
       "                        if (nbb_cells[i].get_text() == nbb_unformatted_code) {\n",
       "                             nbb_cells[i].set_text(nbb_formatted_code);\n",
       "                        }\n",
       "                        break;\n",
       "                    }\n",
       "                }\n",
       "            }, 500);\n",
       "            "
      ],
      "text/plain": [
       "<IPython.core.display.Javascript object>"
      ]
     },
     "metadata": {},
     "output_type": "display_data"
    }
   ],
   "source": [
    "obs_stat, pval, null_std = disc_pval(\n",
    "    X_dists, subj_labels, state_labels, n_permutations=1000\n",
    ")\n",
    "stat_list[\"novices_all\"] = (obs_stat, pval, null_std)\n",
    "print(obs_stat, pval, null_std)"
   ]
  },
  {
   "cell_type": "code",
   "execution_count": null,
   "metadata": {},
   "outputs": [],
   "source": []
  }
 ],
 "metadata": {
  "kernelspec": {
   "display_name": "Python 3.7.6 64-bit ('base': conda)",
   "language": "python",
   "name": "python37664bitbaseconda19db8c3c14cd47c29dff39736515a2a6"
  },
  "language_info": {
   "codemirror_mode": {
    "name": "ipython",
    "version": 3
   },
   "file_extension": ".py",
   "mimetype": "text/x-python",
   "name": "python",
   "nbconvert_exporter": "python",
   "pygments_lexer": "ipython3",
   "version": "3.7.6"
  }
 },
 "nbformat": 4,
 "nbformat_minor": 4
}

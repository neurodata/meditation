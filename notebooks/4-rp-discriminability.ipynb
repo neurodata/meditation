{
 "cells": [
  {
   "cell_type": "code",
   "execution_count": 50,
   "metadata": {},
   "outputs": [],
   "source": [
    "from src.features.discriminability import discr_stat\n",
    "\n",
    "import h5py\n",
    "import numpy as np\n",
    "import matplotlib.pyplot as plt\n",
    "import matplotlib as mpl\n",
    "%matplotlib inline\n",
    "\n",
    "from scipy import stats\n",
    "\n",
    "from pathlib import Path\n",
    "import os\n",
    "import re\n",
    "import pandas as pd\n",
    "\n",
    "from tqdm import tqdm"
   ]
  },
  {
   "cell_type": "code",
   "execution_count": 5,
   "metadata": {},
   "outputs": [],
   "source": [
    "h5_key = 'latent'\n",
    "## Define paths\n",
    "basedir = Path('..')\n",
    "datadir = basedir / 'data'\n",
    "rawdir = datadir / 'raw'\n",
    "gccadir = datadir / 'interim' / 'gcca'"
   ]
  },
  {
   "cell_type": "code",
   "execution_count": 6,
   "metadata": {},
   "outputs": [],
   "source": [
    "def get_files(path,\n",
    "              level='(e|n)',\n",
    "              subject='([0-9]{3})',\n",
    "              task='(.+?)',\n",
    "              filetype='h5',\n",
    "              flag=''):\n",
    "    files = []\n",
    "    query = f'^{level}_sub-'\n",
    "    query += f'{subject}_ses-1_'\n",
    "    query += f'task-{task}{flag}\\.{filetype}'\n",
    "    for f in os.listdir(path):\n",
    "        match = re.search(query, f)\n",
    "        if match:\n",
    "            files.append((f, match.groups()))\n",
    "    \n",
    "    return(files)"
   ]
  },
  {
   "cell_type": "code",
   "execution_count": 7,
   "metadata": {},
   "outputs": [],
   "source": [
    "tasks = ['restingstate', 'openmonitoring', 'compassion']\n",
    "levels = ['e', 'n']"
   ]
  },
  {
   "cell_type": "code",
   "execution_count": 124,
   "metadata": {},
   "outputs": [
    {
     "name": "stderr",
     "output_type": "stream",
     "text": [
      "100%|██████████| 29/29 [00:02<00:00, 14.38it/s]\n",
      "100%|██████████| 29/29 [00:01<00:00, 16.73it/s]\n",
      "100%|██████████| 29/29 [00:00<00:00, 33.29it/s]\n",
      "100%|██████████| 47/47 [00:01<00:00, 27.66it/s]\n",
      "100%|██████████| 47/47 [00:02<00:00, 18.83it/s]\n",
      "100%|██████████| 47/47 [00:02<00:00, 21.64it/s]\n"
     ]
    }
   ],
   "source": [
    "## Get filenames for each task, novice vs. experienced\n",
    "## Load a single set of latents\n",
    "\n",
    "#latents_inter = {l:{t:[] for t in tasks} for l in levels}\n",
    "#labels_inter = {l:{t:[] for t in tasks} for l in levels}\n",
    "\n",
    "#latents_intra = {t:{l:[] for l in levels} for t in tasks}\n",
    "#labels_intra = {t:{l:[] for l in levels} for t in tasks}\n",
    "\n",
    "latents = []; labels_lt = []; labels_l = []; labels_t = []\n",
    "\n",
    "n_components = 1\n",
    "\n",
    "for level in levels:\n",
    "    for task in tasks:\n",
    "        paths = get_files(path=gccadir, level=level, task=task, flag='_gcca')\n",
    "        \n",
    "        n_load = len(paths)\n",
    "\n",
    "        for path,subj in tqdm(paths[:n_load]):\n",
    "            h5f = h5py.File(gccadir / path,'r')\n",
    "            latent = h5f[h5_key][:][:,0]\n",
    "            h5f.close()\n",
    "            \n",
    "            latents.append(latent)\n",
    "            labels_lt.append(f'{level}_{task}')\n",
    "            labels_l.append(level)\n",
    "            labels_t.append(task)\n",
    "            \n",
    "            \n",
    "\n",
    "labels_lt = np.array(labels_lt)\n",
    "labels_t = np.array(labels_t)\n",
    "labels_l = np.array(labels_l)\n",
    "latents = np.array(latents)"
   ]
  },
  {
   "cell_type": "code",
   "execution_count": 122,
   "metadata": {},
   "outputs": [],
   "source": [
    "discr_index, rdfs = discr_stat(latents,labels_l, return_rdfs=True)"
   ]
  },
  {
   "cell_type": "code",
   "execution_count": 132,
   "metadata": {},
   "outputs": [
    {
     "name": "stderr",
     "output_type": "stream",
     "text": [
      "/home/rflperry/miniconda3/envs/datasci/lib/python3.7/site-packages/ipykernel_launcher.py:3: FutureWarning: arrays to stack must be passed as a \"sequence\" type such as list or tuple. Support for non-sequence iterables such as generators is deprecated as of NumPy 1.16 and will raise an error in the future.\n",
      "  This is separate from the ipykernel package so we can avoid doing imports until\n"
     ]
    },
    {
     "name": "stdout",
     "output_type": "stream",
     "text": [
      "e_restingstate, n_restingstate: Discr Index=0.5086847074252225\n",
      "e_openmonitoring, n_openmonitoring: Discr Index=0.5280508846293704\n"
     ]
    },
    {
     "name": "stderr",
     "output_type": "stream",
     "text": [
      "/home/rflperry/miniconda3/envs/datasci/lib/python3.7/site-packages/ipykernel_launcher.py:3: FutureWarning: arrays to stack must be passed as a \"sequence\" type such as list or tuple. Support for non-sequence iterables such as generators is deprecated as of NumPy 1.16 and will raise an error in the future.\n",
      "  This is separate from the ipykernel package so we can avoid doing imports until\n",
      "/home/rflperry/miniconda3/envs/datasci/lib/python3.7/site-packages/ipykernel_launcher.py:3: FutureWarning: arrays to stack must be passed as a \"sequence\" type such as list or tuple. Support for non-sequence iterables such as generators is deprecated as of NumPy 1.16 and will raise an error in the future.\n",
      "  This is separate from the ipykernel package so we can avoid doing imports until\n"
     ]
    },
    {
     "name": "stdout",
     "output_type": "stream",
     "text": [
      "e_compassion, n_compassion: Discr Index=0.4805657345317525\n"
     ]
    }
   ],
   "source": [
    "for task in tasks:\n",
    "    ls = [f'{level}_{task}' for level in levels]\n",
    "    idx = np.hstack((np.where(np.isin(labels_lt, l)) for l in ls))[0]\n",
    "    discr_index = discr_stat(latents[idx],labels_lt[idx])\n",
    "    print(f'{ls[0]}, {ls[1]}: Discr Index={discr_index}')"
   ]
  },
  {
   "cell_type": "code",
   "execution_count": 133,
   "metadata": {},
   "outputs": [
    {
     "name": "stderr",
     "output_type": "stream",
     "text": [
      "/home/rflperry/miniconda3/envs/datasci/lib/python3.7/site-packages/ipykernel_launcher.py:3: FutureWarning: arrays to stack must be passed as a \"sequence\" type such as list or tuple. Support for non-sequence iterables such as generators is deprecated as of NumPy 1.16 and will raise an error in the future.\n",
      "  This is separate from the ipykernel package so we can avoid doing imports until\n"
     ]
    },
    {
     "name": "stdout",
     "output_type": "stream",
     "text": [
      "e_restingstate, e_openmonitoring: Discr Index=0.49485448162618195\n"
     ]
    },
    {
     "name": "stderr",
     "output_type": "stream",
     "text": [
      "/home/rflperry/miniconda3/envs/datasci/lib/python3.7/site-packages/ipykernel_launcher.py:3: FutureWarning: arrays to stack must be passed as a \"sequence\" type such as list or tuple. Support for non-sequence iterables such as generators is deprecated as of NumPy 1.16 and will raise an error in the future.\n",
      "  This is separate from the ipykernel package so we can avoid doing imports until\n"
     ]
    },
    {
     "name": "stdout",
     "output_type": "stream",
     "text": [
      "n_restingstate, n_openmonitoring: Discr Index=0.49765780305863366\n"
     ]
    }
   ],
   "source": [
    "for level in levels:\n",
    "    ls = [f'{level}_{task}' for task in tasks]\n",
    "    idx = np.hstack((np.where(np.isin(labels_lt, l)) for l in ls))[0]\n",
    "    discr_index = discr_stat(latents[idx],labels_lt[idx])\n",
    "    print(f'{ls[0]}, {ls[1]}: Discr Index={discr_index}')"
   ]
  },
  {
   "cell_type": "code",
   "execution_count": null,
   "metadata": {},
   "outputs": [],
   "source": []
  }
 ],
 "metadata": {
  "kernelspec": {
   "display_name": "Python [conda env:datasci] *",
   "language": "python",
   "name": "conda-env-datasci-py"
  },
  "language_info": {
   "codemirror_mode": {
    "name": "ipython",
    "version": 3
   },
   "file_extension": ".py",
   "mimetype": "text/x-python",
   "name": "python",
   "nbconvert_exporter": "python",
   "pygments_lexer": "ipython3",
   "version": "3.7.3"
  }
 },
 "nbformat": 4,
 "nbformat_minor": 2
}
